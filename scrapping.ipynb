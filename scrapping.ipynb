{
 "cells": [
  {
   "cell_type": "code",
   "execution_count": 3,
   "metadata": {},
   "outputs": [
    {
     "name": "stdout",
     "output_type": "stream",
     "text": [
      "<html>\n",
      "<head>\n",
      "<title>Frames - Web Automation Test</title>\n",
      "</head>\n",
      "<frameset rows=\"150px,450px,*\">\n",
      "<frame noresize=\"\" src=\"frame_1.html\"/>\n",
      "<frameset cols=\"20%,*,20%\">\n",
      "<frame src=\"frame_2.html\"/>\n",
      "<frame src=\"frame_3.html\"/>\n",
      "<frame src=\"frame_4.html\"/>\n",
      "</frameset>\n",
      "<frame noresize=\"\" src=\"frame_5.html\"/>\n",
      "</frameset>\n",
      "</html>\n",
      "\n"
     ]
    }
   ],
   "source": [
    "from bs4 import BeautifulSoup\n",
    "import scrapy\n",
    "import requests\n",
    "URL = \"https://ui.vision/demo/webtest/frames/\"\n",
    "page = requests.get(URL)\n",
    "soup = BeautifulSoup(page.content, \"html.parser\")\n",
    "print(soup)"
   ]
  },
  {
   "cell_type": "code",
   "execution_count": 4,
   "metadata": {},
   "outputs": [],
   "source": [
    "\n",
    "class QuotesSpider(scrapy.Spider):\n",
    "    name = \"quotes\"\n",
    "    start_urls = ['https://ui.vision/demo/webtest/frames/',]\n",
    "    def parse(self, response):\n",
    "        for quote in response.css('div.quote'):\n",
    "            yield {'quote': quote.css('span.text::text').get()}"
   ]
  }
 ],
 "metadata": {
  "kernelspec": {
   "display_name": ".venv",
   "language": "python",
   "name": "python3"
  },
  "language_info": {
   "codemirror_mode": {
    "name": "ipython",
    "version": 3
   },
   "file_extension": ".py",
   "mimetype": "text/x-python",
   "name": "python",
   "nbconvert_exporter": "python",
   "pygments_lexer": "ipython3",
   "version": "3.8.10"
  }
 },
 "nbformat": 4,
 "nbformat_minor": 2
}
