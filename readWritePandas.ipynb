{
 "cells": [
  {
   "cell_type": "code",
   "execution_count": 1,
   "metadata": {},
   "outputs": [
    {
     "data": {
      "text/html": [
       "<div>\n",
       "<style scoped>\n",
       "    .dataframe tbody tr th:only-of-type {\n",
       "        vertical-align: middle;\n",
       "    }\n",
       "\n",
       "    .dataframe tbody tr th {\n",
       "        vertical-align: top;\n",
       "    }\n",
       "\n",
       "    .dataframe thead th {\n",
       "        text-align: right;\n",
       "    }\n",
       "</style>\n",
       "<table border=\"1\" class=\"dataframe\">\n",
       "  <thead>\n",
       "    <tr style=\"text-align: right;\">\n",
       "      <th></th>\n",
       "      <th>country</th>\n",
       "      <th>almond</th>\n",
       "      <th>angelica</th>\n",
       "      <th>anise</th>\n",
       "      <th>anise_seed</th>\n",
       "      <th>apple</th>\n",
       "      <th>apple_brandy</th>\n",
       "      <th>apricot</th>\n",
       "      <th>armagnac</th>\n",
       "      <th>artemisia</th>\n",
       "      <th>...</th>\n",
       "      <th>whiskey</th>\n",
       "      <th>white_bread</th>\n",
       "      <th>white_wine</th>\n",
       "      <th>whole_grain_wheat_flour</th>\n",
       "      <th>wine</th>\n",
       "      <th>wood</th>\n",
       "      <th>yam</th>\n",
       "      <th>yeast</th>\n",
       "      <th>yogurt</th>\n",
       "      <th>zucchini</th>\n",
       "    </tr>\n",
       "  </thead>\n",
       "  <tbody>\n",
       "    <tr>\n",
       "      <th>0</th>\n",
       "      <td>Vietnamese</td>\n",
       "      <td>No</td>\n",
       "      <td>No</td>\n",
       "      <td>No</td>\n",
       "      <td>No</td>\n",
       "      <td>No</td>\n",
       "      <td>No</td>\n",
       "      <td>No</td>\n",
       "      <td>No</td>\n",
       "      <td>No</td>\n",
       "      <td>...</td>\n",
       "      <td>No</td>\n",
       "      <td>No</td>\n",
       "      <td>No</td>\n",
       "      <td>No</td>\n",
       "      <td>No</td>\n",
       "      <td>No</td>\n",
       "      <td>No</td>\n",
       "      <td>No</td>\n",
       "      <td>No</td>\n",
       "      <td>No</td>\n",
       "    </tr>\n",
       "    <tr>\n",
       "      <th>1</th>\n",
       "      <td>Vietnamese</td>\n",
       "      <td>No</td>\n",
       "      <td>No</td>\n",
       "      <td>No</td>\n",
       "      <td>No</td>\n",
       "      <td>No</td>\n",
       "      <td>No</td>\n",
       "      <td>No</td>\n",
       "      <td>No</td>\n",
       "      <td>No</td>\n",
       "      <td>...</td>\n",
       "      <td>No</td>\n",
       "      <td>No</td>\n",
       "      <td>No</td>\n",
       "      <td>No</td>\n",
       "      <td>No</td>\n",
       "      <td>No</td>\n",
       "      <td>No</td>\n",
       "      <td>No</td>\n",
       "      <td>No</td>\n",
       "      <td>No</td>\n",
       "    </tr>\n",
       "    <tr>\n",
       "      <th>2</th>\n",
       "      <td>Vietnamese</td>\n",
       "      <td>No</td>\n",
       "      <td>No</td>\n",
       "      <td>No</td>\n",
       "      <td>No</td>\n",
       "      <td>No</td>\n",
       "      <td>No</td>\n",
       "      <td>No</td>\n",
       "      <td>No</td>\n",
       "      <td>No</td>\n",
       "      <td>...</td>\n",
       "      <td>No</td>\n",
       "      <td>No</td>\n",
       "      <td>No</td>\n",
       "      <td>No</td>\n",
       "      <td>No</td>\n",
       "      <td>No</td>\n",
       "      <td>No</td>\n",
       "      <td>No</td>\n",
       "      <td>No</td>\n",
       "      <td>No</td>\n",
       "    </tr>\n",
       "    <tr>\n",
       "      <th>3</th>\n",
       "      <td>Vietnamese</td>\n",
       "      <td>No</td>\n",
       "      <td>No</td>\n",
       "      <td>No</td>\n",
       "      <td>No</td>\n",
       "      <td>No</td>\n",
       "      <td>No</td>\n",
       "      <td>No</td>\n",
       "      <td>No</td>\n",
       "      <td>No</td>\n",
       "      <td>...</td>\n",
       "      <td>No</td>\n",
       "      <td>No</td>\n",
       "      <td>No</td>\n",
       "      <td>No</td>\n",
       "      <td>No</td>\n",
       "      <td>No</td>\n",
       "      <td>No</td>\n",
       "      <td>No</td>\n",
       "      <td>No</td>\n",
       "      <td>No</td>\n",
       "    </tr>\n",
       "    <tr>\n",
       "      <th>4</th>\n",
       "      <td>Vietnamese</td>\n",
       "      <td>No</td>\n",
       "      <td>No</td>\n",
       "      <td>No</td>\n",
       "      <td>No</td>\n",
       "      <td>No</td>\n",
       "      <td>No</td>\n",
       "      <td>No</td>\n",
       "      <td>No</td>\n",
       "      <td>No</td>\n",
       "      <td>...</td>\n",
       "      <td>No</td>\n",
       "      <td>No</td>\n",
       "      <td>No</td>\n",
       "      <td>No</td>\n",
       "      <td>No</td>\n",
       "      <td>No</td>\n",
       "      <td>No</td>\n",
       "      <td>No</td>\n",
       "      <td>No</td>\n",
       "      <td>No</td>\n",
       "    </tr>\n",
       "  </tbody>\n",
       "</table>\n",
       "<p>5 rows × 384 columns</p>\n",
       "</div>"
      ],
      "text/plain": [
       "      country almond angelica anise anise_seed apple apple_brandy apricot  \\\n",
       "0  Vietnamese     No       No    No         No    No           No      No   \n",
       "1  Vietnamese     No       No    No         No    No           No      No   \n",
       "2  Vietnamese     No       No    No         No    No           No      No   \n",
       "3  Vietnamese     No       No    No         No    No           No      No   \n",
       "4  Vietnamese     No       No    No         No    No           No      No   \n",
       "\n",
       "  armagnac artemisia  ... whiskey white_bread white_wine  \\\n",
       "0       No        No  ...      No          No         No   \n",
       "1       No        No  ...      No          No         No   \n",
       "2       No        No  ...      No          No         No   \n",
       "3       No        No  ...      No          No         No   \n",
       "4       No        No  ...      No          No         No   \n",
       "\n",
       "  whole_grain_wheat_flour wine wood yam yeast yogurt zucchini  \n",
       "0                      No   No   No  No    No     No       No  \n",
       "1                      No   No   No  No    No     No       No  \n",
       "2                      No   No   No  No    No     No       No  \n",
       "3                      No   No   No  No    No     No       No  \n",
       "4                      No   No   No  No    No     No       No  \n",
       "\n",
       "[5 rows x 384 columns]"
      ]
     },
     "execution_count": 1,
     "metadata": {},
     "output_type": "execute_result"
    }
   ],
   "source": [
    "import pandas as pd\n",
    "# read as data frame which are comprised of raws and coloumn\n",
    "df = pd.read_csv(\"recipes.csv\")\n",
    "df.head()"
   ]
  },
  {
   "cell_type": "markdown",
   "metadata": {},
   "source": [
    "To read data with index in a data frame using <b>iloc</b>\n",
    "To read data with value in a data frame using <b>loc</b>"
   ]
  },
  {
   "cell_type": "code",
   "execution_count": 2,
   "metadata": {},
   "outputs": [
    {
     "name": "stdout",
     "output_type": "stream",
     "text": [
      "     Name department location\n",
      "0  Gautam         CS      Dun\n",
      "1   Rawat         CS      Dun\n",
      "2   Singh         CS      Dun\n",
      "Rawat\n",
      "Rawat\n"
     ]
    }
   ],
   "source": [
    "json_file = {'Name':['Gautam','Rawat','Singh'],\n",
    "             \"department\":\"CS\",\n",
    "             \"location\":\"Dun\"}\n",
    "\n",
    "df=pd.DataFrame(json_file)\n",
    "print(df)\n",
    "\n",
    "read_rawat = df.iloc[1,0]\n",
    "print(read_rawat)\n",
    "\n",
    "read_rawat_loc = df.loc[1,\"Name\"]\n",
    "print(read_rawat_loc)"
   ]
  },
  {
   "cell_type": "code",
   "execution_count": 3,
   "metadata": {},
   "outputs": [
    {
     "name": "stdout",
     "output_type": "stream",
     "text": [
      "  department    Name\n",
      "0         CS  Gautam\n",
      "1         CS   Rawat\n",
      "2         CS   Singh\n"
     ]
    }
   ],
   "source": [
    "# retrieve value from data frame and create new values from coloumn\n",
    "c=df[['department','Name']]\n",
    "print(c)"
   ]
  },
  {
   "cell_type": "markdown",
   "metadata": {},
   "source": [
    "We can update the index of the data frame by default which was int so that we can use row coloumn to get the value\n",
    "\n"
   ]
  },
  {
   "cell_type": "code",
   "execution_count": 4,
   "metadata": {},
   "outputs": [
    {
     "name": "stdout",
     "output_type": "stream",
     "text": [
      "     Name department location\n",
      "a  Gautam         CS      Dun\n",
      "b   Rawat         CS      Dun\n",
      "c   Singh         CS      Dun\n"
     ]
    }
   ],
   "source": [
    "new_index = df\n",
    "new_index.index=['a',\"b\",\"c\"]\n",
    "print(new_index)"
   ]
  },
  {
   "cell_type": "code",
   "execution_count": 5,
   "metadata": {},
   "outputs": [
    {
     "name": "stdout",
     "output_type": "stream",
     "text": [
      "['Indian' 'Spanish_Portuguese' 'Jewish' 'French' 'Central_SouthAmerican'\n",
      " 'Thai' 'Scandinavian' 'Greek' 'American' 'African' 'MiddleEastern'\n",
      " 'EasternEuropean_Russian' 'Italian' 'Irish' 'Mexican' 'Chinese' 'German'\n",
      " 'Mediterranean' 'Moroccan' 'English_Scottish' 'Asian' 'japanese'\n",
      " 'east_asian' 'western' 'korean' 'italian' 'Canada' 'Caribbean' 'India'\n",
      " 'France' 'Italy' 'Iran' 'Eastern-Europe' 'South-African' 'UK-and-Ireland'\n",
      " 'China' 'Belgium' 'Germany' 'South-America' 'Spain' 'Netherlands'\n",
      " 'Scandinavia' 'Thailand' 'Switzerland' 'North-African' 'Pakistan'\n",
      " 'Mexico' 'Austria']\n",
      "   country\n",
      "0   Indian\n",
      "1  Italian\n",
      "2    Irish\n",
      "3    India\n",
      "4    Italy\n",
      "5     Iran\n"
     ]
    }
   ],
   "source": [
    "df = pd.read_csv(\"recipes.csv\")\n",
    "df.head()\n",
    "df1=df[df['almond']=='Yes']\n",
    "unique_country_use_almond=df1['country'].unique()\n",
    "print(unique_country_use_almond)\n",
    "type(unique_country_use_almond)\n",
    "dataFrame = pd.DataFrame(columns=[\"country\"])\n",
    "for county in unique_country_use_almond:\n",
    "    if(county[0]=='I'):\n",
    "        # dataFrame.add(county)\n",
    "         dataFrame = pd.concat([dataFrame, pd.DataFrame({\"country\": [county]})], ignore_index=True)\n",
    "\n",
    "\n",
    "print(dataFrame)"
   ]
  },
  {
   "cell_type": "markdown",
   "metadata": {},
   "source": [
    "Attributes of DataFrames for data manipulation and analysis"
   ]
  },
  {
   "cell_type": "code",
   "execution_count": 6,
   "metadata": {},
   "outputs": [
    {
     "name": "stdout",
     "output_type": "stream",
     "text": [
      "<class 'pandas.core.frame.DataFrame'>\n",
      "RangeIndex: 7 entries, 0 to 6\n",
      "Columns: 384 entries, country to zucchini\n",
      "dtypes: object(384)\n",
      "memory usage: 21.1+ KB\n"
     ]
    },
    {
     "ename": "TypeError",
     "evalue": "Could not convert ['VietnameseVietnameseVietnameseAmericanAmericanMexicoMexico'\n 'NoNoNoNoNoNoNo' 'NoNoNoNoNoNoNo' 'NoNoNoNoNoNoNo' 'NoNoNoNoNoNoNo'\n 'NoNoNoNoNoNoNo' 'NoNoNoNoNoNoNo' 'NoNoNoNoNoNoNo' 'NoNoNoNoNoNoNo'\n 'NoNoNoNoNoNoNo' 'NoNoNoNoNoNoNo' 'NoNoNoNoNoNoNo' 'NoNoNoNoNoNoNo'\n 'NoNoNoNoNoNoNo' 'NoNoNoNoNoNoNo' 'NoNoNoNoNoNoNo' 'NoNoNoNoNoNoNo'\n 'NoNoNoNoNoNoNo' 'NoNoNoNoNoNoNo' 'YesNoNoNoNoNoNo' 'NoNoNoYesNoNoNo'\n 'NoNoNoNoNoNoNo' 'NoNoNoNoNoNoNo' 'NoNoNoYesNoYesYes' 'NoNoNoNoNoNoNo'\n 'NoNoNoNoNoNoNo' 'NoNoNoNoNoNoNo' 'NoNoNoNoNoNoNo' 'NoNoNoNoNoYesNo'\n 'NoNoNoNoNoNoNo' 'NoNoNoNoNoNoNo' 'NoNoNoNoNoNoNo' 'NoNoNoNoNoNoNo'\n 'NoNoNoNoNoNoNo' 'NoNoNoNoNoNoNo' 'NoYesNoNoNoYesNo' 'NoNoNoNoNoNoNo'\n 'NoNoNoNoNoNoNo' 'NoNoNoNoNoNoNo' 'NoNoNoNoNoNoNo' 'NoNoNoNoNoNoNo'\n 'NoNoNoNoNoNoNo' 'NoNoNoNoNoNoNo' 'NoNoNoNoNoNoNo' 'NoNoNoNoNoNoNo'\n 'NoNoNoNoNoNoNo' 'NoNoNoNoNoNoNo' 'NoNoNoNoNoNoNo' 'NoNoNoNoNoNoNo'\n 'NoNoNoNoNoNoNo' 'NoNoNoNoNoNoNo' 'NoNoNoNoNoNoNo' 'NoNoNoNoNoNoNo'\n 'NoNoNoNoNoNoNo' 'NoNoNoNoNoNoNo' 'NoNoNoNoNoNoNo' 'NoNoNoNoNoNoNo'\n 'NoNoNoNoNoNoNo' 'NoNoNoNoNoNoNo' 'NoNoNoNoNoNoNo' 'NoNoNoNoNoNoNo'\n 'NoNoNoNoNoNoNo' 'NoNoNoNoNoNoNo' 'YesNoNoNoNoNoNo' 'NoNoNoNoNoNoNo'\n 'NoNoNoNoNoNoNo' 'NoNoNoNoNoNoNo' 'NoNoNoNoNoNoNo' 'NoNoNoNoNoNoNo'\n 'YesYesNoNoNoNoYes' 'NoNoNoNoNoNoNo' 'NoNoNoNoNoNoNo' 'NoNoNoNoNoNoNo'\n 'NoNoNoNoNoNoNo' 'NoNoNoNoNoNoNo' 'NoNoNoNoNoNoNo' 'NoNoNoNoNoNoNo'\n 'NoNoNoNoNoNoNo' 'NoNoNoNoNoNoNo' 'NoNoNoNoNoNoNo' 'NoNoNoNoNoNoNo'\n 'NoNoNoNoNoNoNo' 'NoNoNoNoNoNoNo' 'NoNoNoNoNoNoNo' 'NoNoNoNoNoNoNo'\n 'NoNoNoNoNoNoNo' 'NoNoNoNoNoNoNo' 'NoNoNoNoNoNoNo' 'NoNoNoNoNoNoNo'\n 'YesNoNoNoNoNoNo' 'NoNoNoNoNoNoNo' 'NoNoNoNoNoNoNo' 'NoNoNoNoNoNoNo'\n 'NoNoNoNoNoNoNo' 'NoNoNoNoNoNoNo' 'NoNoNoNoNoNoNo' 'NoNoNoNoNoNoNo'\n 'NoNoNoNoNoNoNo' 'NoNoNoNoNoNoNo' 'NoNoNoNoNoNoNo' 'NoNoNoNoNoNoNo'\n 'NoNoNoNoNoNoNo' 'NoNoNoNoNoNoNo' 'NoNoNoNoNoNoNo' 'NoNoNoNoNoNoNo'\n 'NoNoNoNoNoNoNo' 'NoNoNoNoNoNoNo' 'NoNoNoNoNoNoNo' 'NoNoNoNoNoNoNo'\n 'NoNoNoNoNoNoNo' 'NoNoNoNoNoNoNo' 'NoNoNoNoNoNoNo' 'YesNoNoNoNoNoNo'\n 'NoNoNoNoNoNoNo' 'NoNoNoNoNoNoNo' 'NoNoNoNoNoNoNo' 'NoNoNoNoNoNoNo'\n 'NoNoNoNoNoNoNo' 'NoNoNoNoNoNoNo' 'NoNoNoNoNoNoNo' 'NoNoNoNoNoNoNo'\n 'NoNoNoNoNoNoNo' 'NoNoNoNoNoNoNo' 'NoNoNoNoNoNoNo' 'NoNoNoNoNoNoNo'\n 'NoNoNoNoNoNoNo' 'NoNoNoNoNoNoNo' 'NoNoNoNoNoNoNo' 'NoNoNoNoNoNoNo'\n 'NoNoNoNoNoNoNo' 'YesYesNoNoNoNoNo' 'NoNoNoNoNoNoNo' 'NoNoNoNoNoNoNo'\n 'NoNoNoNoNoNoNo' 'NoNoNoNoNoNoNo' 'NoNoNoNoNoNoNo' 'YesYesYesNoYesYesNo'\n 'NoNoNoNoNoNoNo' 'NoNoNoNoNoNoNo' 'NoNoNoNoNoNoNo' 'NoNoNoNoNoNoNo'\n 'NoNoNoNoNoNoNo' 'NoNoNoNoNoNoNo' 'NoNoNoNoNoNoNo' 'NoNoNoNoNoNoNo'\n 'NoNoNoNoNoNoNo' 'NoNoNoNoNoYesNo' 'NoNoNoNoNoNoNo' 'NoNoNoNoNoNoNo'\n 'NoNoNoNoNoNoNo' 'NoNoNoNoNoNoNo' 'NoNoNoNoNoNoNo' 'NoNoNoNoNoNoNo'\n 'NoNoNoNoNoNoNo' 'NoNoNoNoNoNoNo' 'NoNoNoNoNoNoNo' 'NoNoNoNoNoNoNo'\n 'NoNoNoNoNoNoNo' 'NoNoNoNoNoNoNo' 'NoNoNoNoNoNoNo' 'NoNoNoNoNoNoNo'\n 'NoNoNoNoNoNoNo' 'NoNoNoNoNoNoNo' 'NoNoNoNoNoNoNo' 'NoNoNoNoNoNoNo'\n 'NoNoNoNoNoNoNo' 'NoNoNoNoNoNoNo' 'NoNoNoNoNoNoNo' 'NoNoNoNoNoNoNo'\n 'NoNoNoNoNoNoNo' 'NoNoNoNoNoNoNo' 'NoNoNoNoNoNoNo' 'NoNoNoNoNoNoNo'\n 'NoNoNoNoNoNoNo' 'NoNoNoNoNoNoNo' 'NoNoNoNoNoNoNo' 'NoNoNoNoNoNoNo'\n 'NoNoNoNoNoNoNo' 'NoNoNoNoNoNoNo' 'NoNoNoNoNoNoYes' 'NoNoNoNoNoNoNo'\n 'NoNoNoNoNoNoNo' 'NoNoNoNoNoNoNo' 'YesNoNoNoNoNoNo' 'NoNoNoNoNoNoNo'\n 'NoNoNoNoNoNoNo' 'NoNoNoNoNoNoNo' 'NoNoNoNoNoYesNo' 'YesNoYesNoNoNoNo'\n 'NoNoNoNoNoNoNo' 'NoNoNoNoNoNoNo' 'NoNoNoNoNoNoNo' 'NoNoNoNoNoNoNo'\n 'NoNoNoNoNoNoNo' 'NoNoNoNoNoNoNo' 'NoNoNoNoNoNoNo' 'NoNoNoNoNoNoNo'\n 'NoNoNoNoNoNoNo' 'NoNoNoNoNoNoNo' 'NoNoNoNoNoNoNo' 'NoNoNoNoNoNoNo'\n 'NoNoNoNoNoNoNo' 'NoNoNoNoNoNoNo' 'NoNoNoNoNoNoNo' 'NoNoNoNoNoNoNo'\n 'NoNoNoNoNoNoNo' 'NoNoNoNoNoNoNo' 'NoNoNoNoNoNoNo' 'NoNoNoNoNoNoNo'\n 'NoNoNoNoNoNoNo' 'NoNoNoNoYesNoNo' 'NoNoNoNoNoNoNo' 'YesNoNoNoNoNoNo'\n 'NoNoNoNoNoNoNo' 'NoNoNoNoNoNoNo' 'NoNoNoNoNoNoNo' 'NoNoNoNoNoNoNo'\n 'NoNoNoNoNoNoNo' 'NoNoNoNoNoNoNo' 'NoNoNoYesNoNoNo' 'NoNoNoNoNoNoNo'\n 'NoNoNoNoNoNoNo' 'NoNoNoNoNoNoNo' 'NoNoNoNoNoNoNo' 'NoNoNoNoNoNoNo'\n 'NoNoNoNoNoNoNo' 'NoNoNoNoNoNoNo' 'NoNoNoNoNoNoNo' 'NoNoNoNoNoNoNo'\n 'NoNoNoNoNoNoNo' 'YesNoNoNoNoYesNo' 'NoYesNoYesYesNoNo' 'NoNoNoNoNoNoNo'\n 'NoNoNoNoNoNoNo' 'NoNoNoNoNoNoNo' 'NoNoNoNoNoNoNo' 'NoNoNoNoNoYesNo'\n 'NoNoNoNoNoNoNo' 'NoNoNoNoNoNoNo' 'NoNoNoNoNoNoNo' 'NoNoNoNoNoNoNo'\n 'NoNoNoNoNoNoNo' 'NoNoNoNoNoNoNo' 'NoNoNoNoNoNoNo' 'NoNoNoNoNoNoNo'\n 'NoNoNoNoYesNoNo' 'NoNoNoNoNoNoNo' 'NoNoNoNoNoNoNo' 'NoNoNoNoNoNoNo'\n 'NoNoNoNoNoNoNo' 'NoNoNoNoNoNoNo' 'NoNoNoNoNoNoNo' 'NoNoNoNoNoNoNo'\n 'NoNoNoNoNoNoNo' 'NoNoNoYesYesNoNo' 'NoNoNoNoNoNoNo' 'NoNoNoNoNoNoNo'\n 'NoNoNoNoNoNoNo' 'NoNoNoNoNoNoNo' 'NoNoNoNoNoNoNo' 'NoNoNoNoNoNoNo'\n 'NoNoNoNoNoNoNo' 'NoNoNoNoNoNoNo' 'NoNoNoNoNoNoNo' 'NoNoNoNoNoNoNo'\n 'NoNoNoNoNoNoNo' 'NoNoNoNoNoNoNo' 'NoNoNoNoNoNoNo' 'NoNoNoNoNoNoNo'\n 'NoNoNoNoNoNoNo' 'NoNoNoNoNoNoNo' 'NoNoNoNoNoNoNo' 'NoNoNoNoNoNoNo'\n 'NoNoNoNoNoNoNo' 'NoNoNoNoNoNoNo' 'NoNoNoNoNoNoNo' 'NoNoNoNoNoNoNo'\n 'NoNoNoNoNoNoNo' 'NoNoNoNoNoNoNo' 'NoNoNoNoNoNoNo' 'NoNoNoNoNoNoNo'\n 'NoNoNoNoNoNoNo' 'NoNoNoNoNoNoNo' 'NoNoNoNoNoNoNo' 'NoNoNoNoNoNoNo'\n 'YesNoNoNoNoNoNo' 'NoNoNoNoNoNoNo' 'NoNoNoNoNoNoNo' 'NoNoNoNoNoNoNo'\n 'NoNoNoNoNoNoNo' 'NoNoNoNoNoNoNo' 'NoNoNoNoNoNoNo' 'NoNoNoNoNoNoNo'\n 'NoNoNoNoNoNoNo' 'NoNoNoNoNoNoNo' 'NoNoNoNoNoNoNo' 'NoNoNoNoNoNoNo'\n 'NoNoNoNoNoNoNo' 'NoNoNoNoNoNoNo' 'NoNoNoNoNoNoNo' 'NoNoNoNoNoNoNo'\n 'NoNoNoNoNoNoNo' 'NoNoNoNoNoNoNo' 'NoNoNoNoNoNoNo' 'NoNoNoNoNoNoNo'\n 'NoNoNoNoNoNoNo' 'NoNoNoNoNoNoNo' 'NoNoNoNoNoNoNo' 'NoNoNoNoNoNoNo'\n 'NoNoNoNoNoNoNo' 'NoNoNoNoNoNoNo' 'NoNoNoNoNoNoNo' 'NoNoNoNoNoNoNo'\n 'NoNoNoNoNoNoNo' 'NoNoNoNoNoNoNo' 'NoNoNoNoNoNoNo' 'YesYesNoNoNoNoNo'\n 'NoNoNoNoNoNoNo' 'NoNoNoNoNoNoNo' 'NoNoNoNoNoNoNo' 'NoNoNoNoNoNoNo'\n 'NoNoNoNoNoNoNo' 'NoNoNoNoNoNoNo' 'YesNoNoNoNoNoNo' 'YesNoNoNoNoNoNo'\n 'NoNoNoNoNoNoNo' 'NoNoNoNoNoNoNo' 'NoNoNoNoNoNoNo' 'NoNoNoNoNoNoNo'\n 'NoNoNoNoNoNoNo' 'NoNoNoNoNoNoNo' 'NoNoYesNoNoNoNo' 'NoNoNoNoNoNoNo'\n 'NoNoNoNoNoNoNo' 'NoNoNoNoNoNoNo' 'NoNoNoNoNoNoNo' 'NoNoNoNoNoNoNo'\n 'NoNoNoNoNoNoNo' 'NoNoNoNoNoNoYes' 'NoNoNoNoNoNoNo' 'NoNoNoNoNoNoNo'\n 'NoNoNoNoNoNoNo' 'NoNoNoNoNoNoNo' 'NoNoNoNoNoNoNo' 'NoNoNoNoNoNoNo'\n 'NoNoNoNoNoNoNo' 'NoNoNoNoNoNoNo' 'NoNoNoNoNoNoNo' 'NoNoNoNoNoNoNo'\n 'NoNoNoNoNoNoNo' 'NoNoNoNoNoNoNo' 'NoNoNoNoNoNoNo' 'NoNoNoNoNoNoNo'\n 'NoNoYesNoNoNoNo' 'NoNoNoNoNoNoNo' 'NoNoNoYesNoNoNo' 'NoNoNoNoNoNoNo'\n 'NoNoNoNoNoNoNo' 'NoNoNoNoNoNoNo' 'NoNoNoNoNoNoNo' 'NoNoNoNoNoNoNo'\n 'NoNoNoNoNoNoNo' 'NoNoNoNoNoNoNo' 'NoNoNoNoNoNoNo' 'NoNoNoNoYesNoNo'\n 'NoNoNoNoYesNoNo' 'YesNoNoYesNoNoNo' 'NoNoNoNoNoNoNo' 'NoNoNoNoNoNoNo'\n 'NoNoNoNoNoNoNo' 'NoNoNoNoNoNoNo' 'NoNoNoNoNoNoNo' 'NoNoNoNoNoNoNo'\n 'NoNoNoNoNoNoNo' 'NoNoNoNoNoNoNo' 'NoNoNoNoNoNoNo' 'NoNoNoNoNoNoNo'\n 'NoNoNoNoNoNoNo' 'NoNoNoNoNoNoNo' 'NoNoNoNoNoNoNo' 'NoNoNoNoNoNoNo'\n 'NoNoNoNoNoNoNo' 'NoNoNoNoNoNoNo' 'NoNoNoNoNoNoNo'] to numeric",
     "output_type": "error",
     "traceback": [
      "\u001b[1;31m---------------------------------------------------------------------------\u001b[0m",
      "\u001b[1;31mValueError\u001b[0m                                Traceback (most recent call last)",
      "File \u001b[1;32md:\\Git Project\\Cousera\\data_science\\.venv\\lib\\site-packages\\pandas\\core\\nanops.py:1680\u001b[0m, in \u001b[0;36m_ensure_numeric\u001b[1;34m(x)\u001b[0m\n\u001b[0;32m   1679\u001b[0m \u001b[38;5;28;01mtry\u001b[39;00m:\n\u001b[1;32m-> 1680\u001b[0m     x \u001b[38;5;241m=\u001b[39m \u001b[43mx\u001b[49m\u001b[38;5;241;43m.\u001b[39;49m\u001b[43mastype\u001b[49m\u001b[43m(\u001b[49m\u001b[43mnp\u001b[49m\u001b[38;5;241;43m.\u001b[39;49m\u001b[43mcomplex128\u001b[49m\u001b[43m)\u001b[49m\n\u001b[0;32m   1681\u001b[0m \u001b[38;5;28;01mexcept\u001b[39;00m (\u001b[38;5;167;01mTypeError\u001b[39;00m, \u001b[38;5;167;01mValueError\u001b[39;00m):\n",
      "\u001b[1;31mValueError\u001b[0m: complex() arg is a malformed string",
      "\nDuring handling of the above exception, another exception occurred:\n",
      "\u001b[1;31mValueError\u001b[0m                                Traceback (most recent call last)",
      "File \u001b[1;32md:\\Git Project\\Cousera\\data_science\\.venv\\lib\\site-packages\\pandas\\core\\nanops.py:1683\u001b[0m, in \u001b[0;36m_ensure_numeric\u001b[1;34m(x)\u001b[0m\n\u001b[0;32m   1682\u001b[0m \u001b[38;5;28;01mtry\u001b[39;00m:\n\u001b[1;32m-> 1683\u001b[0m     x \u001b[38;5;241m=\u001b[39m \u001b[43mx\u001b[49m\u001b[38;5;241;43m.\u001b[39;49m\u001b[43mastype\u001b[49m\u001b[43m(\u001b[49m\u001b[43mnp\u001b[49m\u001b[38;5;241;43m.\u001b[39;49m\u001b[43mfloat64\u001b[49m\u001b[43m)\u001b[49m\n\u001b[0;32m   1684\u001b[0m \u001b[38;5;28;01mexcept\u001b[39;00m \u001b[38;5;167;01mValueError\u001b[39;00m \u001b[38;5;28;01mas\u001b[39;00m err:\n\u001b[0;32m   1685\u001b[0m     \u001b[38;5;66;03m# GH#29941 we get here with object arrays containing strs\u001b[39;00m\n",
      "\u001b[1;31mValueError\u001b[0m: could not convert string to float: 'VietnameseVietnameseVietnameseAmericanAmericanMexicoMexico'",
      "\nThe above exception was the direct cause of the following exception:\n",
      "\u001b[1;31mTypeError\u001b[0m                                 Traceback (most recent call last)",
      "Cell \u001b[1;32mIn[6], line 5\u001b[0m\n\u001b[0;32m      3\u001b[0m dff\u001b[38;5;241m.\u001b[39minfo()\n\u001b[0;32m      4\u001b[0m dff\u001b[38;5;241m.\u001b[39mdescribe()\n\u001b[1;32m----> 5\u001b[0m \u001b[43mdff\u001b[49m\u001b[38;5;241;43m.\u001b[39;49m\u001b[43mmean\u001b[49m\u001b[43m(\u001b[49m\u001b[43m)\u001b[49m\n",
      "File \u001b[1;32md:\\Git Project\\Cousera\\data_science\\.venv\\lib\\site-packages\\pandas\\core\\generic.py:11556\u001b[0m, in \u001b[0;36mNDFrame._add_numeric_operations.<locals>.mean\u001b[1;34m(self, axis, skipna, numeric_only, **kwargs)\u001b[0m\n\u001b[0;32m  11539\u001b[0m \u001b[38;5;129m@doc\u001b[39m(\n\u001b[0;32m  11540\u001b[0m     _num_doc,\n\u001b[0;32m  11541\u001b[0m     desc\u001b[38;5;241m=\u001b[39m\u001b[38;5;124m\"\u001b[39m\u001b[38;5;124mReturn the mean of the values over the requested axis.\u001b[39m\u001b[38;5;124m\"\u001b[39m,\n\u001b[1;32m   (...)\u001b[0m\n\u001b[0;32m  11554\u001b[0m     \u001b[38;5;241m*\u001b[39m\u001b[38;5;241m*\u001b[39mkwargs,\n\u001b[0;32m  11555\u001b[0m ):\n\u001b[1;32m> 11556\u001b[0m     \u001b[38;5;28;01mreturn\u001b[39;00m \u001b[43mNDFrame\u001b[49m\u001b[38;5;241;43m.\u001b[39;49m\u001b[43mmean\u001b[49m\u001b[43m(\u001b[49m\u001b[38;5;28;43mself\u001b[39;49m\u001b[43m,\u001b[49m\u001b[43m \u001b[49m\u001b[43maxis\u001b[49m\u001b[43m,\u001b[49m\u001b[43m \u001b[49m\u001b[43mskipna\u001b[49m\u001b[43m,\u001b[49m\u001b[43m \u001b[49m\u001b[43mnumeric_only\u001b[49m\u001b[43m,\u001b[49m\u001b[43m \u001b[49m\u001b[38;5;241;43m*\u001b[39;49m\u001b[38;5;241;43m*\u001b[39;49m\u001b[43mkwargs\u001b[49m\u001b[43m)\u001b[49m\n",
      "File \u001b[1;32md:\\Git Project\\Cousera\\data_science\\.venv\\lib\\site-packages\\pandas\\core\\generic.py:11201\u001b[0m, in \u001b[0;36mNDFrame.mean\u001b[1;34m(self, axis, skipna, numeric_only, **kwargs)\u001b[0m\n\u001b[0;32m  11194\u001b[0m \u001b[38;5;28;01mdef\u001b[39;00m\u001b[38;5;250m \u001b[39m\u001b[38;5;21mmean\u001b[39m(\n\u001b[0;32m  11195\u001b[0m     \u001b[38;5;28mself\u001b[39m,\n\u001b[0;32m  11196\u001b[0m     axis: Axis \u001b[38;5;241m|\u001b[39m \u001b[38;5;28;01mNone\u001b[39;00m \u001b[38;5;241m=\u001b[39m \u001b[38;5;241m0\u001b[39m,\n\u001b[1;32m   (...)\u001b[0m\n\u001b[0;32m  11199\u001b[0m     \u001b[38;5;241m*\u001b[39m\u001b[38;5;241m*\u001b[39mkwargs,\n\u001b[0;32m  11200\u001b[0m ) \u001b[38;5;241m-\u001b[39m\u001b[38;5;241m>\u001b[39m Series \u001b[38;5;241m|\u001b[39m \u001b[38;5;28mfloat\u001b[39m:\n\u001b[1;32m> 11201\u001b[0m     \u001b[38;5;28;01mreturn\u001b[39;00m \u001b[38;5;28;43mself\u001b[39;49m\u001b[38;5;241;43m.\u001b[39;49m\u001b[43m_stat_function\u001b[49m\u001b[43m(\u001b[49m\n\u001b[0;32m  11202\u001b[0m \u001b[43m        \u001b[49m\u001b[38;5;124;43m\"\u001b[39;49m\u001b[38;5;124;43mmean\u001b[39;49m\u001b[38;5;124;43m\"\u001b[39;49m\u001b[43m,\u001b[49m\u001b[43m \u001b[49m\u001b[43mnanops\u001b[49m\u001b[38;5;241;43m.\u001b[39;49m\u001b[43mnanmean\u001b[49m\u001b[43m,\u001b[49m\u001b[43m \u001b[49m\u001b[43maxis\u001b[49m\u001b[43m,\u001b[49m\u001b[43m \u001b[49m\u001b[43mskipna\u001b[49m\u001b[43m,\u001b[49m\u001b[43m \u001b[49m\u001b[43mnumeric_only\u001b[49m\u001b[43m,\u001b[49m\u001b[43m \u001b[49m\u001b[38;5;241;43m*\u001b[39;49m\u001b[38;5;241;43m*\u001b[39;49m\u001b[43mkwargs\u001b[49m\n\u001b[0;32m  11203\u001b[0m \u001b[43m    \u001b[49m\u001b[43m)\u001b[49m\n",
      "File \u001b[1;32md:\\Git Project\\Cousera\\data_science\\.venv\\lib\\site-packages\\pandas\\core\\generic.py:11158\u001b[0m, in \u001b[0;36mNDFrame._stat_function\u001b[1;34m(self, name, func, axis, skipna, numeric_only, **kwargs)\u001b[0m\n\u001b[0;32m  11154\u001b[0m     nv\u001b[38;5;241m.\u001b[39mvalidate_stat_func((), kwargs, fname\u001b[38;5;241m=\u001b[39mname)\n\u001b[0;32m  11156\u001b[0m validate_bool_kwarg(skipna, \u001b[38;5;124m\"\u001b[39m\u001b[38;5;124mskipna\u001b[39m\u001b[38;5;124m\"\u001b[39m, none_allowed\u001b[38;5;241m=\u001b[39m\u001b[38;5;28;01mFalse\u001b[39;00m)\n\u001b[1;32m> 11158\u001b[0m \u001b[38;5;28;01mreturn\u001b[39;00m \u001b[38;5;28;43mself\u001b[39;49m\u001b[38;5;241;43m.\u001b[39;49m\u001b[43m_reduce\u001b[49m\u001b[43m(\u001b[49m\n\u001b[0;32m  11159\u001b[0m \u001b[43m    \u001b[49m\u001b[43mfunc\u001b[49m\u001b[43m,\u001b[49m\u001b[43m \u001b[49m\u001b[43mname\u001b[49m\u001b[38;5;241;43m=\u001b[39;49m\u001b[43mname\u001b[49m\u001b[43m,\u001b[49m\u001b[43m \u001b[49m\u001b[43maxis\u001b[49m\u001b[38;5;241;43m=\u001b[39;49m\u001b[43maxis\u001b[49m\u001b[43m,\u001b[49m\u001b[43m \u001b[49m\u001b[43mskipna\u001b[49m\u001b[38;5;241;43m=\u001b[39;49m\u001b[43mskipna\u001b[49m\u001b[43m,\u001b[49m\u001b[43m \u001b[49m\u001b[43mnumeric_only\u001b[49m\u001b[38;5;241;43m=\u001b[39;49m\u001b[43mnumeric_only\u001b[49m\n\u001b[0;32m  11160\u001b[0m \u001b[43m\u001b[49m\u001b[43m)\u001b[49m\n",
      "File \u001b[1;32md:\\Git Project\\Cousera\\data_science\\.venv\\lib\\site-packages\\pandas\\core\\frame.py:10519\u001b[0m, in \u001b[0;36mDataFrame._reduce\u001b[1;34m(self, op, name, axis, skipna, numeric_only, filter_type, **kwds)\u001b[0m\n\u001b[0;32m  10515\u001b[0m     df \u001b[38;5;241m=\u001b[39m df\u001b[38;5;241m.\u001b[39mT\n\u001b[0;32m  10517\u001b[0m \u001b[38;5;66;03m# After possibly _get_data and transposing, we are now in the\u001b[39;00m\n\u001b[0;32m  10518\u001b[0m \u001b[38;5;66;03m#  simple case where we can use BlockManager.reduce\u001b[39;00m\n\u001b[1;32m> 10519\u001b[0m res \u001b[38;5;241m=\u001b[39m \u001b[43mdf\u001b[49m\u001b[38;5;241;43m.\u001b[39;49m\u001b[43m_mgr\u001b[49m\u001b[38;5;241;43m.\u001b[39;49m\u001b[43mreduce\u001b[49m\u001b[43m(\u001b[49m\u001b[43mblk_func\u001b[49m\u001b[43m)\u001b[49m\n\u001b[0;32m  10520\u001b[0m out \u001b[38;5;241m=\u001b[39m df\u001b[38;5;241m.\u001b[39m_constructor(res)\u001b[38;5;241m.\u001b[39miloc[\u001b[38;5;241m0\u001b[39m]\n\u001b[0;32m  10521\u001b[0m \u001b[38;5;28;01mif\u001b[39;00m out_dtype \u001b[38;5;129;01mis\u001b[39;00m \u001b[38;5;129;01mnot\u001b[39;00m \u001b[38;5;28;01mNone\u001b[39;00m:\n",
      "File \u001b[1;32md:\\Git Project\\Cousera\\data_science\\.venv\\lib\\site-packages\\pandas\\core\\internals\\managers.py:1534\u001b[0m, in \u001b[0;36mBlockManager.reduce\u001b[1;34m(self, func)\u001b[0m\n\u001b[0;32m   1532\u001b[0m res_blocks: \u001b[38;5;28mlist\u001b[39m[Block] \u001b[38;5;241m=\u001b[39m []\n\u001b[0;32m   1533\u001b[0m \u001b[38;5;28;01mfor\u001b[39;00m blk \u001b[38;5;129;01min\u001b[39;00m \u001b[38;5;28mself\u001b[39m\u001b[38;5;241m.\u001b[39mblocks:\n\u001b[1;32m-> 1534\u001b[0m     nbs \u001b[38;5;241m=\u001b[39m \u001b[43mblk\u001b[49m\u001b[38;5;241;43m.\u001b[39;49m\u001b[43mreduce\u001b[49m\u001b[43m(\u001b[49m\u001b[43mfunc\u001b[49m\u001b[43m)\u001b[49m\n\u001b[0;32m   1535\u001b[0m     res_blocks\u001b[38;5;241m.\u001b[39mextend(nbs)\n\u001b[0;32m   1537\u001b[0m index \u001b[38;5;241m=\u001b[39m Index([\u001b[38;5;28;01mNone\u001b[39;00m])  \u001b[38;5;66;03m# placeholder\u001b[39;00m\n",
      "File \u001b[1;32md:\\Git Project\\Cousera\\data_science\\.venv\\lib\\site-packages\\pandas\\core\\internals\\blocks.py:339\u001b[0m, in \u001b[0;36mBlock.reduce\u001b[1;34m(self, func)\u001b[0m\n\u001b[0;32m    333\u001b[0m \u001b[38;5;129m@final\u001b[39m\n\u001b[0;32m    334\u001b[0m \u001b[38;5;28;01mdef\u001b[39;00m\u001b[38;5;250m \u001b[39m\u001b[38;5;21mreduce\u001b[39m(\u001b[38;5;28mself\u001b[39m, func) \u001b[38;5;241m-\u001b[39m\u001b[38;5;241m>\u001b[39m \u001b[38;5;28mlist\u001b[39m[Block]:\n\u001b[0;32m    335\u001b[0m     \u001b[38;5;66;03m# We will apply the function and reshape the result into a single-row\u001b[39;00m\n\u001b[0;32m    336\u001b[0m     \u001b[38;5;66;03m#  Block with the same mgr_locs; squeezing will be done at a higher level\u001b[39;00m\n\u001b[0;32m    337\u001b[0m     \u001b[38;5;28;01massert\u001b[39;00m \u001b[38;5;28mself\u001b[39m\u001b[38;5;241m.\u001b[39mndim \u001b[38;5;241m==\u001b[39m \u001b[38;5;241m2\u001b[39m\n\u001b[1;32m--> 339\u001b[0m     result \u001b[38;5;241m=\u001b[39m \u001b[43mfunc\u001b[49m\u001b[43m(\u001b[49m\u001b[38;5;28;43mself\u001b[39;49m\u001b[38;5;241;43m.\u001b[39;49m\u001b[43mvalues\u001b[49m\u001b[43m)\u001b[49m\n\u001b[0;32m    341\u001b[0m     \u001b[38;5;28;01mif\u001b[39;00m \u001b[38;5;28mself\u001b[39m\u001b[38;5;241m.\u001b[39mvalues\u001b[38;5;241m.\u001b[39mndim \u001b[38;5;241m==\u001b[39m \u001b[38;5;241m1\u001b[39m:\n\u001b[0;32m    342\u001b[0m         \u001b[38;5;66;03m# TODO(EA2D): special case not needed with 2D EAs\u001b[39;00m\n\u001b[0;32m    343\u001b[0m         res_values \u001b[38;5;241m=\u001b[39m np\u001b[38;5;241m.\u001b[39marray([[result]])\n",
      "File \u001b[1;32md:\\Git Project\\Cousera\\data_science\\.venv\\lib\\site-packages\\pandas\\core\\frame.py:10482\u001b[0m, in \u001b[0;36mDataFrame._reduce.<locals>.blk_func\u001b[1;34m(values, axis)\u001b[0m\n\u001b[0;32m  10480\u001b[0m     \u001b[38;5;28;01mreturn\u001b[39;00m values\u001b[38;5;241m.\u001b[39m_reduce(name, skipna\u001b[38;5;241m=\u001b[39mskipna, \u001b[38;5;241m*\u001b[39m\u001b[38;5;241m*\u001b[39mkwds)\n\u001b[0;32m  10481\u001b[0m \u001b[38;5;28;01melse\u001b[39;00m:\n\u001b[1;32m> 10482\u001b[0m     \u001b[38;5;28;01mreturn\u001b[39;00m \u001b[43mop\u001b[49m\u001b[43m(\u001b[49m\u001b[43mvalues\u001b[49m\u001b[43m,\u001b[49m\u001b[43m \u001b[49m\u001b[43maxis\u001b[49m\u001b[38;5;241;43m=\u001b[39;49m\u001b[43maxis\u001b[49m\u001b[43m,\u001b[49m\u001b[43m \u001b[49m\u001b[43mskipna\u001b[49m\u001b[38;5;241;43m=\u001b[39;49m\u001b[43mskipna\u001b[49m\u001b[43m,\u001b[49m\u001b[43m \u001b[49m\u001b[38;5;241;43m*\u001b[39;49m\u001b[38;5;241;43m*\u001b[39;49m\u001b[43mkwds\u001b[49m\u001b[43m)\u001b[49m\n",
      "File \u001b[1;32md:\\Git Project\\Cousera\\data_science\\.venv\\lib\\site-packages\\pandas\\core\\nanops.py:96\u001b[0m, in \u001b[0;36mdisallow.__call__.<locals>._f\u001b[1;34m(*args, **kwargs)\u001b[0m\n\u001b[0;32m     94\u001b[0m \u001b[38;5;28;01mtry\u001b[39;00m:\n\u001b[0;32m     95\u001b[0m     \u001b[38;5;28;01mwith\u001b[39;00m np\u001b[38;5;241m.\u001b[39merrstate(invalid\u001b[38;5;241m=\u001b[39m\u001b[38;5;124m\"\u001b[39m\u001b[38;5;124mignore\u001b[39m\u001b[38;5;124m\"\u001b[39m):\n\u001b[1;32m---> 96\u001b[0m         \u001b[38;5;28;01mreturn\u001b[39;00m \u001b[43mf\u001b[49m\u001b[43m(\u001b[49m\u001b[38;5;241;43m*\u001b[39;49m\u001b[43margs\u001b[49m\u001b[43m,\u001b[49m\u001b[43m \u001b[49m\u001b[38;5;241;43m*\u001b[39;49m\u001b[38;5;241;43m*\u001b[39;49m\u001b[43mkwargs\u001b[49m\u001b[43m)\u001b[49m\n\u001b[0;32m     97\u001b[0m \u001b[38;5;28;01mexcept\u001b[39;00m \u001b[38;5;167;01mValueError\u001b[39;00m \u001b[38;5;28;01mas\u001b[39;00m e:\n\u001b[0;32m     98\u001b[0m     \u001b[38;5;66;03m# we want to transform an object array\u001b[39;00m\n\u001b[0;32m     99\u001b[0m     \u001b[38;5;66;03m# ValueError message to the more typical TypeError\u001b[39;00m\n\u001b[0;32m    100\u001b[0m     \u001b[38;5;66;03m# e.g. this is normally a disallowed function on\u001b[39;00m\n\u001b[0;32m    101\u001b[0m     \u001b[38;5;66;03m# object arrays that contain strings\u001b[39;00m\n\u001b[0;32m    102\u001b[0m     \u001b[38;5;28;01mif\u001b[39;00m is_object_dtype(args[\u001b[38;5;241m0\u001b[39m]):\n",
      "File \u001b[1;32md:\\Git Project\\Cousera\\data_science\\.venv\\lib\\site-packages\\pandas\\core\\nanops.py:158\u001b[0m, in \u001b[0;36mbottleneck_switch.__call__.<locals>.f\u001b[1;34m(values, axis, skipna, **kwds)\u001b[0m\n\u001b[0;32m    156\u001b[0m         result \u001b[38;5;241m=\u001b[39m alt(values, axis\u001b[38;5;241m=\u001b[39maxis, skipna\u001b[38;5;241m=\u001b[39mskipna, \u001b[38;5;241m*\u001b[39m\u001b[38;5;241m*\u001b[39mkwds)\n\u001b[0;32m    157\u001b[0m \u001b[38;5;28;01melse\u001b[39;00m:\n\u001b[1;32m--> 158\u001b[0m     result \u001b[38;5;241m=\u001b[39m \u001b[43malt\u001b[49m\u001b[43m(\u001b[49m\u001b[43mvalues\u001b[49m\u001b[43m,\u001b[49m\u001b[43m \u001b[49m\u001b[43maxis\u001b[49m\u001b[38;5;241;43m=\u001b[39;49m\u001b[43maxis\u001b[49m\u001b[43m,\u001b[49m\u001b[43m \u001b[49m\u001b[43mskipna\u001b[49m\u001b[38;5;241;43m=\u001b[39;49m\u001b[43mskipna\u001b[49m\u001b[43m,\u001b[49m\u001b[43m \u001b[49m\u001b[38;5;241;43m*\u001b[39;49m\u001b[38;5;241;43m*\u001b[39;49m\u001b[43mkwds\u001b[49m\u001b[43m)\u001b[49m\n\u001b[0;32m    160\u001b[0m \u001b[38;5;28;01mreturn\u001b[39;00m result\n",
      "File \u001b[1;32md:\\Git Project\\Cousera\\data_science\\.venv\\lib\\site-packages\\pandas\\core\\nanops.py:421\u001b[0m, in \u001b[0;36m_datetimelike_compat.<locals>.new_func\u001b[1;34m(values, axis, skipna, mask, **kwargs)\u001b[0m\n\u001b[0;32m    418\u001b[0m \u001b[38;5;28;01mif\u001b[39;00m datetimelike \u001b[38;5;129;01mand\u001b[39;00m mask \u001b[38;5;129;01mis\u001b[39;00m \u001b[38;5;28;01mNone\u001b[39;00m:\n\u001b[0;32m    419\u001b[0m     mask \u001b[38;5;241m=\u001b[39m isna(values)\n\u001b[1;32m--> 421\u001b[0m result \u001b[38;5;241m=\u001b[39m \u001b[43mfunc\u001b[49m\u001b[43m(\u001b[49m\u001b[43mvalues\u001b[49m\u001b[43m,\u001b[49m\u001b[43m \u001b[49m\u001b[43maxis\u001b[49m\u001b[38;5;241;43m=\u001b[39;49m\u001b[43maxis\u001b[49m\u001b[43m,\u001b[49m\u001b[43m \u001b[49m\u001b[43mskipna\u001b[49m\u001b[38;5;241;43m=\u001b[39;49m\u001b[43mskipna\u001b[49m\u001b[43m,\u001b[49m\u001b[43m \u001b[49m\u001b[43mmask\u001b[49m\u001b[38;5;241;43m=\u001b[39;49m\u001b[43mmask\u001b[49m\u001b[43m,\u001b[49m\u001b[43m \u001b[49m\u001b[38;5;241;43m*\u001b[39;49m\u001b[38;5;241;43m*\u001b[39;49m\u001b[43mkwargs\u001b[49m\u001b[43m)\u001b[49m\n\u001b[0;32m    423\u001b[0m \u001b[38;5;28;01mif\u001b[39;00m datetimelike:\n\u001b[0;32m    424\u001b[0m     result \u001b[38;5;241m=\u001b[39m _wrap_results(result, orig_values\u001b[38;5;241m.\u001b[39mdtype, fill_value\u001b[38;5;241m=\u001b[39miNaT)\n",
      "File \u001b[1;32md:\\Git Project\\Cousera\\data_science\\.venv\\lib\\site-packages\\pandas\\core\\nanops.py:727\u001b[0m, in \u001b[0;36mnanmean\u001b[1;34m(values, axis, skipna, mask)\u001b[0m\n\u001b[0;32m    724\u001b[0m     dtype_count \u001b[38;5;241m=\u001b[39m dtype\n\u001b[0;32m    726\u001b[0m count \u001b[38;5;241m=\u001b[39m _get_counts(values\u001b[38;5;241m.\u001b[39mshape, mask, axis, dtype\u001b[38;5;241m=\u001b[39mdtype_count)\n\u001b[1;32m--> 727\u001b[0m the_sum \u001b[38;5;241m=\u001b[39m \u001b[43m_ensure_numeric\u001b[49m\u001b[43m(\u001b[49m\u001b[43mvalues\u001b[49m\u001b[38;5;241;43m.\u001b[39;49m\u001b[43msum\u001b[49m\u001b[43m(\u001b[49m\u001b[43maxis\u001b[49m\u001b[43m,\u001b[49m\u001b[43m \u001b[49m\u001b[43mdtype\u001b[49m\u001b[38;5;241;43m=\u001b[39;49m\u001b[43mdtype_sum\u001b[49m\u001b[43m)\u001b[49m\u001b[43m)\u001b[49m\n\u001b[0;32m    729\u001b[0m \u001b[38;5;28;01mif\u001b[39;00m axis \u001b[38;5;129;01mis\u001b[39;00m \u001b[38;5;129;01mnot\u001b[39;00m \u001b[38;5;28;01mNone\u001b[39;00m \u001b[38;5;129;01mand\u001b[39;00m \u001b[38;5;28mgetattr\u001b[39m(the_sum, \u001b[38;5;124m\"\u001b[39m\u001b[38;5;124mndim\u001b[39m\u001b[38;5;124m\"\u001b[39m, \u001b[38;5;28;01mFalse\u001b[39;00m):\n\u001b[0;32m    730\u001b[0m     count \u001b[38;5;241m=\u001b[39m cast(np\u001b[38;5;241m.\u001b[39mndarray, count)\n",
      "File \u001b[1;32md:\\Git Project\\Cousera\\data_science\\.venv\\lib\\site-packages\\pandas\\core\\nanops.py:1686\u001b[0m, in \u001b[0;36m_ensure_numeric\u001b[1;34m(x)\u001b[0m\n\u001b[0;32m   1683\u001b[0m         x \u001b[38;5;241m=\u001b[39m x\u001b[38;5;241m.\u001b[39mastype(np\u001b[38;5;241m.\u001b[39mfloat64)\n\u001b[0;32m   1684\u001b[0m     \u001b[38;5;28;01mexcept\u001b[39;00m \u001b[38;5;167;01mValueError\u001b[39;00m \u001b[38;5;28;01mas\u001b[39;00m err:\n\u001b[0;32m   1685\u001b[0m         \u001b[38;5;66;03m# GH#29941 we get here with object arrays containing strs\u001b[39;00m\n\u001b[1;32m-> 1686\u001b[0m         \u001b[38;5;28;01mraise\u001b[39;00m \u001b[38;5;167;01mTypeError\u001b[39;00m(\u001b[38;5;124mf\u001b[39m\u001b[38;5;124m\"\u001b[39m\u001b[38;5;124mCould not convert \u001b[39m\u001b[38;5;132;01m{\u001b[39;00mx\u001b[38;5;132;01m}\u001b[39;00m\u001b[38;5;124m to numeric\u001b[39m\u001b[38;5;124m\"\u001b[39m) \u001b[38;5;28;01mfrom\u001b[39;00m\u001b[38;5;250m \u001b[39m\u001b[38;5;21;01merr\u001b[39;00m\n\u001b[0;32m   1687\u001b[0m \u001b[38;5;28;01melse\u001b[39;00m:\n\u001b[0;32m   1688\u001b[0m     \u001b[38;5;28;01mif\u001b[39;00m \u001b[38;5;129;01mnot\u001b[39;00m np\u001b[38;5;241m.\u001b[39many(np\u001b[38;5;241m.\u001b[39mimag(x)):\n",
      "\u001b[1;31mTypeError\u001b[0m: Could not convert ['VietnameseVietnameseVietnameseAmericanAmericanMexicoMexico'\n 'NoNoNoNoNoNoNo' 'NoNoNoNoNoNoNo' 'NoNoNoNoNoNoNo' 'NoNoNoNoNoNoNo'\n 'NoNoNoNoNoNoNo' 'NoNoNoNoNoNoNo' 'NoNoNoNoNoNoNo' 'NoNoNoNoNoNoNo'\n 'NoNoNoNoNoNoNo' 'NoNoNoNoNoNoNo' 'NoNoNoNoNoNoNo' 'NoNoNoNoNoNoNo'\n 'NoNoNoNoNoNoNo' 'NoNoNoNoNoNoNo' 'NoNoNoNoNoNoNo' 'NoNoNoNoNoNoNo'\n 'NoNoNoNoNoNoNo' 'NoNoNoNoNoNoNo' 'YesNoNoNoNoNoNo' 'NoNoNoYesNoNoNo'\n 'NoNoNoNoNoNoNo' 'NoNoNoNoNoNoNo' 'NoNoNoYesNoYesYes' 'NoNoNoNoNoNoNo'\n 'NoNoNoNoNoNoNo' 'NoNoNoNoNoNoNo' 'NoNoNoNoNoNoNo' 'NoNoNoNoNoYesNo'\n 'NoNoNoNoNoNoNo' 'NoNoNoNoNoNoNo' 'NoNoNoNoNoNoNo' 'NoNoNoNoNoNoNo'\n 'NoNoNoNoNoNoNo' 'NoNoNoNoNoNoNo' 'NoYesNoNoNoYesNo' 'NoNoNoNoNoNoNo'\n 'NoNoNoNoNoNoNo' 'NoNoNoNoNoNoNo' 'NoNoNoNoNoNoNo' 'NoNoNoNoNoNoNo'\n 'NoNoNoNoNoNoNo' 'NoNoNoNoNoNoNo' 'NoNoNoNoNoNoNo' 'NoNoNoNoNoNoNo'\n 'NoNoNoNoNoNoNo' 'NoNoNoNoNoNoNo' 'NoNoNoNoNoNoNo' 'NoNoNoNoNoNoNo'\n 'NoNoNoNoNoNoNo' 'NoNoNoNoNoNoNo' 'NoNoNoNoNoNoNo' 'NoNoNoNoNoNoNo'\n 'NoNoNoNoNoNoNo' 'NoNoNoNoNoNoNo' 'NoNoNoNoNoNoNo' 'NoNoNoNoNoNoNo'\n 'NoNoNoNoNoNoNo' 'NoNoNoNoNoNoNo' 'NoNoNoNoNoNoNo' 'NoNoNoNoNoNoNo'\n 'NoNoNoNoNoNoNo' 'NoNoNoNoNoNoNo' 'YesNoNoNoNoNoNo' 'NoNoNoNoNoNoNo'\n 'NoNoNoNoNoNoNo' 'NoNoNoNoNoNoNo' 'NoNoNoNoNoNoNo' 'NoNoNoNoNoNoNo'\n 'YesYesNoNoNoNoYes' 'NoNoNoNoNoNoNo' 'NoNoNoNoNoNoNo' 'NoNoNoNoNoNoNo'\n 'NoNoNoNoNoNoNo' 'NoNoNoNoNoNoNo' 'NoNoNoNoNoNoNo' 'NoNoNoNoNoNoNo'\n 'NoNoNoNoNoNoNo' 'NoNoNoNoNoNoNo' 'NoNoNoNoNoNoNo' 'NoNoNoNoNoNoNo'\n 'NoNoNoNoNoNoNo' 'NoNoNoNoNoNoNo' 'NoNoNoNoNoNoNo' 'NoNoNoNoNoNoNo'\n 'NoNoNoNoNoNoNo' 'NoNoNoNoNoNoNo' 'NoNoNoNoNoNoNo' 'NoNoNoNoNoNoNo'\n 'YesNoNoNoNoNoNo' 'NoNoNoNoNoNoNo' 'NoNoNoNoNoNoNo' 'NoNoNoNoNoNoNo'\n 'NoNoNoNoNoNoNo' 'NoNoNoNoNoNoNo' 'NoNoNoNoNoNoNo' 'NoNoNoNoNoNoNo'\n 'NoNoNoNoNoNoNo' 'NoNoNoNoNoNoNo' 'NoNoNoNoNoNoNo' 'NoNoNoNoNoNoNo'\n 'NoNoNoNoNoNoNo' 'NoNoNoNoNoNoNo' 'NoNoNoNoNoNoNo' 'NoNoNoNoNoNoNo'\n 'NoNoNoNoNoNoNo' 'NoNoNoNoNoNoNo' 'NoNoNoNoNoNoNo' 'NoNoNoNoNoNoNo'\n 'NoNoNoNoNoNoNo' 'NoNoNoNoNoNoNo' 'NoNoNoNoNoNoNo' 'YesNoNoNoNoNoNo'\n 'NoNoNoNoNoNoNo' 'NoNoNoNoNoNoNo' 'NoNoNoNoNoNoNo' 'NoNoNoNoNoNoNo'\n 'NoNoNoNoNoNoNo' 'NoNoNoNoNoNoNo' 'NoNoNoNoNoNoNo' 'NoNoNoNoNoNoNo'\n 'NoNoNoNoNoNoNo' 'NoNoNoNoNoNoNo' 'NoNoNoNoNoNoNo' 'NoNoNoNoNoNoNo'\n 'NoNoNoNoNoNoNo' 'NoNoNoNoNoNoNo' 'NoNoNoNoNoNoNo' 'NoNoNoNoNoNoNo'\n 'NoNoNoNoNoNoNo' 'YesYesNoNoNoNoNo' 'NoNoNoNoNoNoNo' 'NoNoNoNoNoNoNo'\n 'NoNoNoNoNoNoNo' 'NoNoNoNoNoNoNo' 'NoNoNoNoNoNoNo' 'YesYesYesNoYesYesNo'\n 'NoNoNoNoNoNoNo' 'NoNoNoNoNoNoNo' 'NoNoNoNoNoNoNo' 'NoNoNoNoNoNoNo'\n 'NoNoNoNoNoNoNo' 'NoNoNoNoNoNoNo' 'NoNoNoNoNoNoNo' 'NoNoNoNoNoNoNo'\n 'NoNoNoNoNoNoNo' 'NoNoNoNoNoYesNo' 'NoNoNoNoNoNoNo' 'NoNoNoNoNoNoNo'\n 'NoNoNoNoNoNoNo' 'NoNoNoNoNoNoNo' 'NoNoNoNoNoNoNo' 'NoNoNoNoNoNoNo'\n 'NoNoNoNoNoNoNo' 'NoNoNoNoNoNoNo' 'NoNoNoNoNoNoNo' 'NoNoNoNoNoNoNo'\n 'NoNoNoNoNoNoNo' 'NoNoNoNoNoNoNo' 'NoNoNoNoNoNoNo' 'NoNoNoNoNoNoNo'\n 'NoNoNoNoNoNoNo' 'NoNoNoNoNoNoNo' 'NoNoNoNoNoNoNo' 'NoNoNoNoNoNoNo'\n 'NoNoNoNoNoNoNo' 'NoNoNoNoNoNoNo' 'NoNoNoNoNoNoNo' 'NoNoNoNoNoNoNo'\n 'NoNoNoNoNoNoNo' 'NoNoNoNoNoNoNo' 'NoNoNoNoNoNoNo' 'NoNoNoNoNoNoNo'\n 'NoNoNoNoNoNoNo' 'NoNoNoNoNoNoNo' 'NoNoNoNoNoNoNo' 'NoNoNoNoNoNoNo'\n 'NoNoNoNoNoNoNo' 'NoNoNoNoNoNoNo' 'NoNoNoNoNoNoYes' 'NoNoNoNoNoNoNo'\n 'NoNoNoNoNoNoNo' 'NoNoNoNoNoNoNo' 'YesNoNoNoNoNoNo' 'NoNoNoNoNoNoNo'\n 'NoNoNoNoNoNoNo' 'NoNoNoNoNoNoNo' 'NoNoNoNoNoYesNo' 'YesNoYesNoNoNoNo'\n 'NoNoNoNoNoNoNo' 'NoNoNoNoNoNoNo' 'NoNoNoNoNoNoNo' 'NoNoNoNoNoNoNo'\n 'NoNoNoNoNoNoNo' 'NoNoNoNoNoNoNo' 'NoNoNoNoNoNoNo' 'NoNoNoNoNoNoNo'\n 'NoNoNoNoNoNoNo' 'NoNoNoNoNoNoNo' 'NoNoNoNoNoNoNo' 'NoNoNoNoNoNoNo'\n 'NoNoNoNoNoNoNo' 'NoNoNoNoNoNoNo' 'NoNoNoNoNoNoNo' 'NoNoNoNoNoNoNo'\n 'NoNoNoNoNoNoNo' 'NoNoNoNoNoNoNo' 'NoNoNoNoNoNoNo' 'NoNoNoNoNoNoNo'\n 'NoNoNoNoNoNoNo' 'NoNoNoNoYesNoNo' 'NoNoNoNoNoNoNo' 'YesNoNoNoNoNoNo'\n 'NoNoNoNoNoNoNo' 'NoNoNoNoNoNoNo' 'NoNoNoNoNoNoNo' 'NoNoNoNoNoNoNo'\n 'NoNoNoNoNoNoNo' 'NoNoNoNoNoNoNo' 'NoNoNoYesNoNoNo' 'NoNoNoNoNoNoNo'\n 'NoNoNoNoNoNoNo' 'NoNoNoNoNoNoNo' 'NoNoNoNoNoNoNo' 'NoNoNoNoNoNoNo'\n 'NoNoNoNoNoNoNo' 'NoNoNoNoNoNoNo' 'NoNoNoNoNoNoNo' 'NoNoNoNoNoNoNo'\n 'NoNoNoNoNoNoNo' 'YesNoNoNoNoYesNo' 'NoYesNoYesYesNoNo' 'NoNoNoNoNoNoNo'\n 'NoNoNoNoNoNoNo' 'NoNoNoNoNoNoNo' 'NoNoNoNoNoNoNo' 'NoNoNoNoNoYesNo'\n 'NoNoNoNoNoNoNo' 'NoNoNoNoNoNoNo' 'NoNoNoNoNoNoNo' 'NoNoNoNoNoNoNo'\n 'NoNoNoNoNoNoNo' 'NoNoNoNoNoNoNo' 'NoNoNoNoNoNoNo' 'NoNoNoNoNoNoNo'\n 'NoNoNoNoYesNoNo' 'NoNoNoNoNoNoNo' 'NoNoNoNoNoNoNo' 'NoNoNoNoNoNoNo'\n 'NoNoNoNoNoNoNo' 'NoNoNoNoNoNoNo' 'NoNoNoNoNoNoNo' 'NoNoNoNoNoNoNo'\n 'NoNoNoNoNoNoNo' 'NoNoNoYesYesNoNo' 'NoNoNoNoNoNoNo' 'NoNoNoNoNoNoNo'\n 'NoNoNoNoNoNoNo' 'NoNoNoNoNoNoNo' 'NoNoNoNoNoNoNo' 'NoNoNoNoNoNoNo'\n 'NoNoNoNoNoNoNo' 'NoNoNoNoNoNoNo' 'NoNoNoNoNoNoNo' 'NoNoNoNoNoNoNo'\n 'NoNoNoNoNoNoNo' 'NoNoNoNoNoNoNo' 'NoNoNoNoNoNoNo' 'NoNoNoNoNoNoNo'\n 'NoNoNoNoNoNoNo' 'NoNoNoNoNoNoNo' 'NoNoNoNoNoNoNo' 'NoNoNoNoNoNoNo'\n 'NoNoNoNoNoNoNo' 'NoNoNoNoNoNoNo' 'NoNoNoNoNoNoNo' 'NoNoNoNoNoNoNo'\n 'NoNoNoNoNoNoNo' 'NoNoNoNoNoNoNo' 'NoNoNoNoNoNoNo' 'NoNoNoNoNoNoNo'\n 'NoNoNoNoNoNoNo' 'NoNoNoNoNoNoNo' 'NoNoNoNoNoNoNo' 'NoNoNoNoNoNoNo'\n 'YesNoNoNoNoNoNo' 'NoNoNoNoNoNoNo' 'NoNoNoNoNoNoNo' 'NoNoNoNoNoNoNo'\n 'NoNoNoNoNoNoNo' 'NoNoNoNoNoNoNo' 'NoNoNoNoNoNoNo' 'NoNoNoNoNoNoNo'\n 'NoNoNoNoNoNoNo' 'NoNoNoNoNoNoNo' 'NoNoNoNoNoNoNo' 'NoNoNoNoNoNoNo'\n 'NoNoNoNoNoNoNo' 'NoNoNoNoNoNoNo' 'NoNoNoNoNoNoNo' 'NoNoNoNoNoNoNo'\n 'NoNoNoNoNoNoNo' 'NoNoNoNoNoNoNo' 'NoNoNoNoNoNoNo' 'NoNoNoNoNoNoNo'\n 'NoNoNoNoNoNoNo' 'NoNoNoNoNoNoNo' 'NoNoNoNoNoNoNo' 'NoNoNoNoNoNoNo'\n 'NoNoNoNoNoNoNo' 'NoNoNoNoNoNoNo' 'NoNoNoNoNoNoNo' 'NoNoNoNoNoNoNo'\n 'NoNoNoNoNoNoNo' 'NoNoNoNoNoNoNo' 'NoNoNoNoNoNoNo' 'YesYesNoNoNoNoNo'\n 'NoNoNoNoNoNoNo' 'NoNoNoNoNoNoNo' 'NoNoNoNoNoNoNo' 'NoNoNoNoNoNoNo'\n 'NoNoNoNoNoNoNo' 'NoNoNoNoNoNoNo' 'YesNoNoNoNoNoNo' 'YesNoNoNoNoNoNo'\n 'NoNoNoNoNoNoNo' 'NoNoNoNoNoNoNo' 'NoNoNoNoNoNoNo' 'NoNoNoNoNoNoNo'\n 'NoNoNoNoNoNoNo' 'NoNoNoNoNoNoNo' 'NoNoYesNoNoNoNo' 'NoNoNoNoNoNoNo'\n 'NoNoNoNoNoNoNo' 'NoNoNoNoNoNoNo' 'NoNoNoNoNoNoNo' 'NoNoNoNoNoNoNo'\n 'NoNoNoNoNoNoNo' 'NoNoNoNoNoNoYes' 'NoNoNoNoNoNoNo' 'NoNoNoNoNoNoNo'\n 'NoNoNoNoNoNoNo' 'NoNoNoNoNoNoNo' 'NoNoNoNoNoNoNo' 'NoNoNoNoNoNoNo'\n 'NoNoNoNoNoNoNo' 'NoNoNoNoNoNoNo' 'NoNoNoNoNoNoNo' 'NoNoNoNoNoNoNo'\n 'NoNoNoNoNoNoNo' 'NoNoNoNoNoNoNo' 'NoNoNoNoNoNoNo' 'NoNoNoNoNoNoNo'\n 'NoNoYesNoNoNoNo' 'NoNoNoNoNoNoNo' 'NoNoNoYesNoNoNo' 'NoNoNoNoNoNoNo'\n 'NoNoNoNoNoNoNo' 'NoNoNoNoNoNoNo' 'NoNoNoNoNoNoNo' 'NoNoNoNoNoNoNo'\n 'NoNoNoNoNoNoNo' 'NoNoNoNoNoNoNo' 'NoNoNoNoNoNoNo' 'NoNoNoNoYesNoNo'\n 'NoNoNoNoYesNoNo' 'YesNoNoYesNoNoNo' 'NoNoNoNoNoNoNo' 'NoNoNoNoNoNoNo'\n 'NoNoNoNoNoNoNo' 'NoNoNoNoNoNoNo' 'NoNoNoNoNoNoNo' 'NoNoNoNoNoNoNo'\n 'NoNoNoNoNoNoNo' 'NoNoNoNoNoNoNo' 'NoNoNoNoNoNoNo' 'NoNoNoNoNoNoNo'\n 'NoNoNoNoNoNoNo' 'NoNoNoNoNoNoNo' 'NoNoNoNoNoNoNo' 'NoNoNoNoNoNoNo'\n 'NoNoNoNoNoNoNo' 'NoNoNoNoNoNoNo' 'NoNoNoNoNoNoNo'] to numeric"
     ]
    }
   ],
   "source": [
    "dff = pd.read_csv(\"myTest.csv\")\n",
    "dff.shape\n",
    "dff.info()\n",
    "dff.describe()"
   ]
  }
 ],
 "metadata": {
  "kernelspec": {
   "display_name": ".venv",
   "language": "python",
   "name": "python3"
  },
  "language_info": {
   "codemirror_mode": {
    "name": "ipython",
    "version": 3
   },
   "file_extension": ".py",
   "mimetype": "text/x-python",
   "name": "python",
   "nbconvert_exporter": "python",
   "pygments_lexer": "ipython3",
   "version": "3.8.10"
  }
 },
 "nbformat": 4,
 "nbformat_minor": 2
}
