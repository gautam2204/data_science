{
 "cells": [
  {
   "cell_type": "code",
   "execution_count": 1,
   "metadata": {},
   "outputs": [],
   "source": [
    "import pandas as pd\n",
    "\n",
    "def read_csv_to_dataframe(file_path):\n",
    "    \"\"\"\n",
    "    Reads a CSV file into a Pandas DataFrame.\n",
    "\n",
    "    Parameters:\n",
    "    file_path (str): The file path of the CSV file to be read.\n",
    "\n",
    "    Returns:\n",
    "    pd.DataFrame: A DataFrame containing the data from the CSV file.\n",
    "    \"\"\"\n",
    "    try:\n",
    "        # Read the CSV file into a Pandas DataFrame\n",
    "        df = pd.read_csv(file_path)\n",
    "        return df\n",
    "    except FileNotFoundError:\n",
    "        return f\"Error: The file at path '{file_path}' was not found.\"\n",
    "    except Exception as e:\n",
    "        return f\"An unexpected error occurred: {str(e)}\"\n",
    "\n",
    "# Example usage:\n",
    "# df = read_csv_to_dataframe('path/to/yourfile.csv')\n",
    "# print(df.head())"
   ]
  }
 ],
 "metadata": {
  "kernelspec": {
   "display_name": ".venv",
   "language": "python",
   "name": "python3"
  },
  "language_info": {
   "codemirror_mode": {
    "name": "ipython",
    "version": 3
   },
   "file_extension": ".py",
   "mimetype": "text/x-python",
   "name": "python",
   "nbconvert_exporter": "python",
   "pygments_lexer": "ipython3",
   "version": "3.8.10"
  }
 },
 "nbformat": 4,
 "nbformat_minor": 2
}
