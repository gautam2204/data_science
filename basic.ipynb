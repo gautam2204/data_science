{
 "cells": [
  {
   "cell_type": "code",
   "execution_count": 2,
   "metadata": {},
   "outputs": [
    {
     "name": "stdout",
     "output_type": "stream",
     "text": [
      "False\n"
     ]
    }
   ],
   "source": [
    "print('a'=='A')"
   ]
  },
  {
   "cell_type": "code",
   "execution_count": 3,
   "metadata": {},
   "outputs": [
    {
     "name": "stdout",
     "output_type": "stream",
     "text": [
      "False\n"
     ]
    }
   ],
   "source": [
    "print(1==2)"
   ]
  },
  {
   "cell_type": "code",
   "execution_count": 7,
   "metadata": {},
   "outputs": [
    {
     "name": "stdout",
     "output_type": "stream",
     "text": [
      "0\n",
      "1\n",
      "2\n",
      "3\n",
      "4\n"
     ]
    }
   ],
   "source": [
    "for i in range(5):\n",
    "    print(i)"
   ]
  },
  {
   "cell_type": "code",
   "execution_count": 8,
   "metadata": {},
   "outputs": [
    {
     "name": "stdout",
     "output_type": "stream",
     "text": [
      "1982\n",
      "1980\n",
      "1973\n"
     ]
    }
   ],
   "source": [
    "# For loop example\n",
    "\n",
    "dates = [1982,1980,1973]\n",
    "N = len(dates)\n",
    "\n",
    "for i in range(N):\n",
    "    print(dates[i])     "
   ]
  },
  {
   "cell_type": "code",
   "execution_count": 9,
   "metadata": {},
   "outputs": [
    {
     "name": "stdout",
     "output_type": "stream",
     "text": [
      "AA\n",
      "BA\n",
      "CA\n"
     ]
    }
   ],
   "source": [
    "for x in ['A', 'B', 'C']:\n",
    "    print(x + 'A')"
   ]
  },
  {
   "cell_type": "code",
   "execution_count": 10,
   "metadata": {},
   "outputs": [
    {
     "name": "stdout",
     "output_type": "stream",
     "text": [
      "0 A\n",
      "1 B\n",
      "2 C\n"
     ]
    }
   ],
   "source": [
    "for i, x in enumerate(['A', 'B', 'C']):\n",
    "    print(i, x)"
   ]
  },
  {
   "cell_type": "markdown",
   "metadata": {},
   "source": [
    "## Functions "
   ]
  },
  {
   "cell_type": "code",
   "execution_count": 16,
   "metadata": {},
   "outputs": [
    {
     "name": "stdout",
     "output_type": "stream",
     "text": [
      "2\n"
     ]
    }
   ],
   "source": [
    "def input(val):\n",
    "    # s = 1+'B'\n",
    "    # print(s)\n",
    "    return val+1\n",
    "\n",
    "val = input(1);\n",
    "print(val)"
   ]
  },
  {
   "cell_type": "code",
   "execution_count": 18,
   "metadata": {},
   "outputs": [
    {
     "name": "stdout",
     "output_type": "stream",
     "text": [
      "[10.3, 29, 8, 2.2]\n",
      "[2.2, 8, 10.3, 29]\n",
      "Help on function sortArray in module __main__:\n",
      "\n",
      "sortArray(arr)\n",
      "    This is to sort and see doc creation\n",
      "\n"
     ]
    }
   ],
   "source": [
    "# sort an array\n",
    "\n",
    "myArr = [10.3,29,8,2.2]\n",
    "sorted_myArr = sorted(myArr)\n",
    "print(myArr)\n",
    "print(sorted_myArr)\n",
    "\n",
    "\n",
    "def sortArray(arr):\n",
    "    \"\"\" \n",
    "    This is to sort and see doc creation\n",
    "    \"\"\"\n",
    "    sorted_myArr = sorted(myArr)\n",
    "    print(myArr)\n",
    "    print(sorted_myArr)\n",
    "\n",
    "help(sortArray)"
   ]
  },
  {
   "cell_type": "code",
   "execution_count": 19,
   "metadata": {},
   "outputs": [
    {
     "name": "stdout",
     "output_type": "stream",
     "text": [
      "gauta\n",
      "rawa\n",
      "123\n"
     ]
    }
   ],
   "source": [
    "def printer(*names):\n",
    "    for name in names:\n",
    "        print(name)\n",
    "\n",
    "printer('gauta',\"rawa\",123)"
   ]
  },
  {
   "cell_type": "code",
   "execution_count": 29,
   "metadata": {},
   "outputs": [
    {
     "name": "stdout",
     "output_type": "stream",
     "text": [
      "File Not Found\n"
     ]
    }
   ],
   "source": [
    "# try catch\n",
    "\n",
    "try:\n",
    "    getFile=open(file=\"recips.csv\",mode=\"r\")\n",
    "    getFile.close()\n",
    "\n",
    "except FileNotFoundError:\n",
    "    print('File Not Found')\n",
    "except IOError:\n",
    "    print(\"File Error\")\n",
    "\n"
   ]
  },
  {
   "cell_type": "code",
   "execution_count": 1,
   "metadata": {},
   "outputs": [
    {
     "data": {
      "text/plain": [
       "['1', '2,3', '4']"
      ]
     },
     "execution_count": 1,
     "metadata": {},
     "output_type": "execute_result"
    }
   ],
   "source": [
    "'1:2,3:4'.split(':')"
   ]
  }
 ],
 "metadata": {
  "kernelspec": {
   "display_name": ".venv",
   "language": "python",
   "name": "python3"
  },
  "language_info": {
   "codemirror_mode": {
    "name": "ipython",
    "version": 3
   },
   "file_extension": ".py",
   "mimetype": "text/x-python",
   "name": "python",
   "nbconvert_exporter": "python",
   "pygments_lexer": "ipython3",
   "version": "3.8.10"
  }
 },
 "nbformat": 4,
 "nbformat_minor": 2
}
