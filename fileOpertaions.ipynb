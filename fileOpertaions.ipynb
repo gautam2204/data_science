{
 "cells": [
  {
   "cell_type": "markdown",
   "metadata": {},
   "source": [
    "### File with Normal reading we have to make sure to close"
   ]
  },
  {
   "cell_type": "code",
   "execution_count": 4,
   "metadata": {},
   "outputs": [
    {
     "name": "stdout",
     "output_type": "stream",
     "text": [
      "True\n"
     ]
    }
   ],
   "source": [
    "file = open(\"randomText.txt\",\"r\")\n",
    "file.read()\n",
    "file.close()\n",
    "print(file.closed)\n"
   ]
  },
  {
   "cell_type": "markdown",
   "metadata": {},
   "source": [
    "### with context is used to automatically closing the file object "
   ]
  },
  {
   "cell_type": "code",
   "execution_count": 1,
   "metadata": {},
   "outputs": [
    {
     "name": "stdout",
     "output_type": "stream",
     "text": [
      "This is random to ce=heck\n",
      "\n",
      "Hello 2nd Line\n"
     ]
    }
   ],
   "source": [
    "with open(\"randomText.txt\",'r') as file:\n",
    "    \n",
    "    one_line_read = file.readline()\n",
    "    file_contenet = file.read()\n",
    "\n",
    "\n",
    "\n",
    "print(one_line_read)\n",
    "print(file_contenet)"
   ]
  }
 ],
 "metadata": {
  "kernelspec": {
   "display_name": ".venv",
   "language": "python",
   "name": "python3"
  },
  "language_info": {
   "codemirror_mode": {
    "name": "ipython",
    "version": 3
   },
   "file_extension": ".py",
   "mimetype": "text/x-python",
   "name": "python",
   "nbconvert_exporter": "python",
   "pygments_lexer": "ipython3",
   "version": "3.8.10"
  }
 },
 "nbformat": 4,
 "nbformat_minor": 2
}
