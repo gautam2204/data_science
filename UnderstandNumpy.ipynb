{
 "cells": [
  {
   "cell_type": "code",
   "execution_count": null,
   "metadata": {},
   "outputs": [],
   "source": [
    "import numpy as np\n",
    "import matplotlib.pyplot as plt\n",
    "\n",
    "a = [10,20,30,100,2,12,43]\n",
    "npy=np.array(a)\n",
    "print(npy)\n",
    "print(type(npy))\n",
    "print(npy.dtype) \n",
    "npy.size"
   ]
  },
  {
   "cell_type": "code",
   "execution_count": null,
   "metadata": {},
   "outputs": [],
   "source": [
    "vector1 = [0.8,0.8]\n",
    "vector2 = [0.6,0.4]\n",
    "\n",
    "# vector3 = vector1+vector2\n",
    "# print(vector3)\n",
    "\n",
    "vector3=[]\n",
    "\n",
    "for n,m in zip(vector1,vector2):\n",
    "    vector3.append(n+m)\n",
    "\n",
    "print(vector3)\n",
    "\n",
    "origin = np.array([[0, 0],[0, 0]])\n",
    "plt.quiver(*origin, vector3, color=['r','b','g'], scale=21)\n",
    "\n",
    "plt.show()\n"
   ]
  },
  {
   "cell_type": "code",
   "execution_count": 38,
   "metadata": {},
   "outputs": [
    {
     "name": "stdout",
     "output_type": "stream",
     "text": [
      "9.857142857142858\n",
      "[-2. -1.  0.  1.  2.]\n"
     ]
    }
   ],
   "source": [
    "arr = [10,20,4,-2,33,5,-1]\n",
    "\n",
    "nd_arr=np.array(arr)\n",
    "print(nd_arr.mean())\n",
    "\n",
    "y = np.linspace(-2,2,num=5)\n",
    "print(y)"
   ]
  },
  {
   "cell_type": "code",
   "execution_count": 42,
   "metadata": {},
   "outputs": [
    {
     "name": "stdout",
     "output_type": "stream",
     "text": [
      "0.0\n",
      "1.0\n"
     ]
    }
   ],
   "source": [
    "a = np.array([1, -1, 1, -1])\n",
    "mean = a.mean()\n",
    "print(mean)\n",
    "\n",
    "standard_deviation=a.std()\n",
    "print(standard_deviation)"
   ]
  },
  {
   "cell_type": "code",
   "execution_count": 47,
   "metadata": {},
   "outputs": [
    {
     "data": {
      "text/plain": [
       "(3, 3)"
      ]
     },
     "execution_count": 47,
     "metadata": {},
     "output_type": "execute_result"
    }
   ],
   "source": [
    "# 2 d array\n",
    "\n",
    "a = [[11,23,13],[14,15,16],[17,18,19]]\n",
    "\n",
    "A = np.array(a)\n",
    "type(A)\n",
    "A\n",
    "A.shape\n"
   ]
  },
  {
   "cell_type": "code",
   "execution_count": 48,
   "metadata": {},
   "outputs": [
    {
     "data": {
      "text/plain": [
       "0"
      ]
     },
     "execution_count": 48,
     "metadata": {},
     "output_type": "execute_result"
    }
   ],
   "source": [
    "a=np.array([0,1]) \n",
    "\n",
    "b=np.array([1,0]) \n",
    "\n",
    "np.dot(a,b) "
   ]
  },
  {
   "cell_type": "code",
   "execution_count": 50,
   "metadata": {},
   "outputs": [
    {
     "name": "stdout",
     "output_type": "stream",
     "text": [
      "[1 2]\n"
     ]
    }
   ],
   "source": [
    "X=np.array([[1,0,1],[2,2,2]]) \n",
    "\n",
    "out=X[0:2,2]\n",
    "print(out)"
   ]
  },
  {
   "cell_type": "code",
   "execution_count": 52,
   "metadata": {},
   "outputs": [
    {
     "name": "stdout",
     "output_type": "stream",
     "text": [
      "[[2 1]\n",
      " [1 2]]\n"
     ]
    }
   ],
   "source": [
    "X=np.array([[1,0],[0,1]]) \n",
    "\n",
    "Y=np.array([[2,1],[1,2]]) \n",
    "\n",
    "Z=np.dot(X,Y) \n",
    "print(Z)"
   ]
  }
 ],
 "metadata": {
  "kernelspec": {
   "display_name": ".venv",
   "language": "python",
   "name": "python3"
  },
  "language_info": {
   "codemirror_mode": {
    "name": "ipython",
    "version": 3
   },
   "file_extension": ".py",
   "mimetype": "text/x-python",
   "name": "python",
   "nbconvert_exporter": "python",
   "pygments_lexer": "ipython3",
   "version": "3.8.10"
  }
 },
 "nbformat": 4,
 "nbformat_minor": 2
}
