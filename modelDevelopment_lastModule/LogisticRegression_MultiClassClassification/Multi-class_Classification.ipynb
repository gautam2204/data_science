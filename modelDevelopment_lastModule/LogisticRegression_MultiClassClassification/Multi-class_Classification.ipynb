{
 "cells": [
  {
   "cell_type": "markdown",
   "metadata": {},
   "source": [
    "<p style=\"text-align:center\">\n",
    "    <a href=\"https://skills.network\" target=\"_blank\">\n",
    "    <img src=\"https://cf-courses-data.s3.us.cloud-object-storage.appdomain.cloud/assets/logos/SN_web_lightmode.png\" width=\"200\" alt=\"Skills Network Logo\">\n",
    "    </a>\n",
    "</p>\n"
   ]
  },
  {
   "cell_type": "markdown",
   "metadata": {},
   "source": [
    "#  Multi-class Classification\n"
   ]
  },
  {
   "cell_type": "markdown",
   "metadata": {},
   "source": [
    "Estimated time needed: **30** mins\n"
   ]
  },
  {
   "cell_type": "markdown",
   "metadata": {},
   "source": [
    "In this lab, you will learn the different strategies of Multi-class classification and implement the same on a real-world dataset.\n"
   ]
  },
  {
   "cell_type": "markdown",
   "metadata": {},
   "source": [
    "## **Objectives**\n"
   ]
  },
  {
   "cell_type": "markdown",
   "metadata": {},
   "source": [
    "After completing this lab you will be able to:\n"
   ]
  },
  {
   "cell_type": "markdown",
   "metadata": {},
   "source": [
    "1. Understand the use of one-hot encoding for categorical variables.\n",
    "2. Implement logistic regression for multi-class classification using **One-vs-All (OvA)** and **One-vs-One (OvO)** strategies.\n",
    "3. Evaluate model performance using appropriate metrics.\n"
   ]
  },
  {
   "cell_type": "markdown",
   "metadata": {},
   "source": [
    "## Import Necessary Libraries\n"
   ]
  },
  {
   "cell_type": "markdown",
   "metadata": {},
   "source": [
    "First, to ensure the availability of the required libraries, execute the cell below.\n"
   ]
  },
  {
   "cell_type": "code",
   "execution_count": null,
   "metadata": {},
   "outputs": [],
   "source": [
    "# !pip install numpy==2.2.0\n",
    "# !pip install pandas==2.2.3\n",
    "# !pip install scikit-learn==1.6.0\n",
    "# !pip install matplotlib==3.9.3\n",
    "# !pip install seaborn==0.13.2"
   ]
  },
  {
   "cell_type": "markdown",
   "metadata": {},
   "source": [
    "Now, import the necessary libraries for data processing, model training, and evaluation.\n"
   ]
  },
  {
   "cell_type": "code",
   "execution_count": 1,
   "metadata": {},
   "outputs": [],
   "source": [
    "import pandas as pd\n",
    "import numpy as np\n",
    "import matplotlib.pyplot as plt\n",
    "import seaborn as sns\n",
    "from sklearn.model_selection import train_test_split\n",
    "from sklearn.preprocessing import OneHotEncoder, StandardScaler\n",
    "from sklearn.linear_model import LogisticRegression\n",
    "from sklearn.multiclass import OneVsOneClassifier\n",
    "from sklearn.metrics import accuracy_score\n",
    "\n",
    "import warnings\n",
    "warnings.filterwarnings('ignore')"
   ]
  },
  {
   "cell_type": "markdown",
   "metadata": {},
   "source": [
    "## About the dataset\n",
    "The data set being used for this lab is the \"Obesity Risk Prediction\" data set publically available on <a href=\"https://archive.ics.uci.edu/dataset/544/estimation+of+obesity+levels+based+on+eating+habits+and+physical+condition\">UCI Library</a> under the <a href=\"https://creativecommons.org/licenses/by/4.0/legalcode\">CCA 4.0</a> license. The data set has 17 attributes in total along with 2,111 samples. \n",
    "\n",
    "The attributes of the dataset are descibed below.\n"
   ]
  },
  {
   "cell_type": "markdown",
   "metadata": {},
   "source": [
    "<style type=\"text/css\">\n",
    ".tg  {border-collapse:collapse;border-spacing:0;}\n",
    ".tg td{border-color:black;border-style:solid;border-width:1px;font-family:Arial, sans-serif;font-size:14px;\n",
    "  overflow:hidden;padding:10px 5px;word-break:normal;}\n",
    ".tg th{border-color:black;border-style:solid;border-width:1px;font-family:Arial, sans-serif;font-size:14px;\n",
    "  font-weight:normal;overflow:hidden;padding:10px 5px;word-break:normal;}\n",
    ".tg .tg-7zrl{text-align:left;vertical-align:bottom}\n",
    "</style>\n",
    "<table class=\"tg\"><thead>\n",
    "  <tr>\n",
    "    <th class=\"tg-7zrl\">Variable Name</th>\n",
    "    <th class=\"tg-7zrl\">Type</th>\n",
    "    <th class=\"tg-7zrl\">Description</th>\n",
    "  </tr></thead>\n",
    "<tbody>\n",
    "  <tr>\n",
    "    <td class=\"tg-7zrl\">Gender</td>\n",
    "    <td class=\"tg-7zrl\">Categorical</td>\n",
    "    <td class=\"tg-7zrl\"></td>\n",
    "  </tr>\n",
    "  <tr>\n",
    "    <td class=\"tg-7zrl\">Age</td>\n",
    "    <td class=\"tg-7zrl\">Continuous</td>\n",
    "    <td class=\"tg-7zrl\"></td>\n",
    "  </tr>\n",
    "  <tr>\n",
    "    <td class=\"tg-7zrl\">Height</td>\n",
    "    <td class=\"tg-7zrl\">Continuous</td>\n",
    "    <td class=\"tg-7zrl\"></td>\n",
    "  </tr>\n",
    "  <tr>\n",
    "    <td class=\"tg-7zrl\">Weight</td>\n",
    "    <td class=\"tg-7zrl\">Continuous</td>\n",
    "    <td class=\"tg-7zrl\"></td>\n",
    "  </tr>\n",
    "  <tr>\n",
    "    <td class=\"tg-7zrl\">family_history_with_overweight</td>\n",
    "    <td class=\"tg-7zrl\">Binary</td>\n",
    "    <td class=\"tg-7zrl\">Has a family member suffered or suffers from overweight?</td>\n",
    "  </tr>\n",
    "  <tr>\n",
    "    <td class=\"tg-7zrl\">FAVC</td>\n",
    "    <td class=\"tg-7zrl\">Binary</td>\n",
    "    <td class=\"tg-7zrl\">Do you eat high caloric food frequently?</td>\n",
    "  </tr>\n",
    "  <tr>\n",
    "    <td class=\"tg-7zrl\">FCVC</td>\n",
    "    <td class=\"tg-7zrl\">Integer</td>\n",
    "    <td class=\"tg-7zrl\">Do you usually eat vegetables in your meals?</td>\n",
    "  </tr>\n",
    "  <tr>\n",
    "    <td class=\"tg-7zrl\">NCP</td>\n",
    "    <td class=\"tg-7zrl\">Continuous</td>\n",
    "    <td class=\"tg-7zrl\">How many main meals do you have daily?</td>\n",
    "  </tr>\n",
    "  <tr>\n",
    "    <td class=\"tg-7zrl\">CAEC</td>\n",
    "    <td class=\"tg-7zrl\">Categorical</td>\n",
    "    <td class=\"tg-7zrl\">Do you eat any food between meals?</td>\n",
    "  </tr>\n",
    "  <tr>\n",
    "    <td class=\"tg-7zrl\">SMOKE</td>\n",
    "    <td class=\"tg-7zrl\">Binary</td>\n",
    "    <td class=\"tg-7zrl\">Do you smoke?</td>\n",
    "  </tr>\n",
    "  <tr>\n",
    "    <td class=\"tg-7zrl\">CH2O</td>\n",
    "    <td class=\"tg-7zrl\">Continuous</td>\n",
    "    <td class=\"tg-7zrl\">How much water do you drink daily?</td>\n",
    "  </tr>\n",
    "  <tr>\n",
    "    <td class=\"tg-7zrl\">SCC</td>\n",
    "    <td class=\"tg-7zrl\">Binary</td>\n",
    "    <td class=\"tg-7zrl\">Do you monitor the calories you eat daily?</td>\n",
    "  </tr>\n",
    "  <tr>\n",
    "    <td class=\"tg-7zrl\">FAF</td>\n",
    "    <td class=\"tg-7zrl\">Continuous</td>\n",
    "    <td class=\"tg-7zrl\">How often do you have physical activity?</td>\n",
    "  </tr>\n",
    "  <tr>\n",
    "    <td class=\"tg-7zrl\">TUE</td>\n",
    "    <td class=\"tg-7zrl\">Integer</td>\n",
    "    <td class=\"tg-7zrl\">How much time do you use technological devices such as cell phone, videogames, television, computer and others?</td>\n",
    "  </tr>\n",
    "  <tr>\n",
    "    <td class=\"tg-7zrl\">CALC</td>\n",
    "    <td class=\"tg-7zrl\">Categorical</td>\n",
    "    <td class=\"tg-7zrl\">How often do you drink alcohol?</td>\n",
    "  </tr>\n",
    "  <tr>\n",
    "    <td class=\"tg-7zrl\">MTRANS</td>\n",
    "    <td class=\"tg-7zrl\">Categorical</td>\n",
    "    <td class=\"tg-7zrl\">Which transportation do you usually use?</td>\n",
    "  </tr>\n",
    "  <tr>\n",
    "    <td class=\"tg-7zrl\">NObeyesdad</td>\n",
    "    <td class=\"tg-7zrl\">Categorical</td>\n",
    "    <td class=\"tg-7zrl\">Obesity level</td>\n",
    "  </tr>\n",
    "</tbody></table>\n"
   ]
  },
  {
   "cell_type": "markdown",
   "metadata": {},
   "source": [
    "### Load the dataset\n",
    "\n",
    "Load the data set by executing the code cell below.\n"
   ]
  },
  {
   "cell_type": "code",
   "execution_count": 2,
   "metadata": {},
   "outputs": [
    {
     "data": {
      "application/vnd.microsoft.datawrangler.viewer.v0+json": {
       "columns": [
        {
         "name": "index",
         "rawType": "int64",
         "type": "integer"
        },
        {
         "name": "Gender",
         "rawType": "object",
         "type": "string"
        },
        {
         "name": "Age",
         "rawType": "float64",
         "type": "float"
        },
        {
         "name": "Height",
         "rawType": "float64",
         "type": "float"
        },
        {
         "name": "Weight",
         "rawType": "float64",
         "type": "float"
        },
        {
         "name": "family_history_with_overweight",
         "rawType": "object",
         "type": "string"
        },
        {
         "name": "FAVC",
         "rawType": "object",
         "type": "string"
        },
        {
         "name": "FCVC",
         "rawType": "float64",
         "type": "float"
        },
        {
         "name": "NCP",
         "rawType": "float64",
         "type": "float"
        },
        {
         "name": "CAEC",
         "rawType": "object",
         "type": "string"
        },
        {
         "name": "SMOKE",
         "rawType": "object",
         "type": "string"
        },
        {
         "name": "CH2O",
         "rawType": "float64",
         "type": "float"
        },
        {
         "name": "SCC",
         "rawType": "object",
         "type": "string"
        },
        {
         "name": "FAF",
         "rawType": "float64",
         "type": "float"
        },
        {
         "name": "TUE",
         "rawType": "float64",
         "type": "float"
        },
        {
         "name": "CALC",
         "rawType": "object",
         "type": "string"
        },
        {
         "name": "MTRANS",
         "rawType": "object",
         "type": "string"
        },
        {
         "name": "NObeyesdad",
         "rawType": "object",
         "type": "string"
        }
       ],
       "conversionMethod": "pd.DataFrame",
       "ref": "af3eb115-7c28-4a95-a813-734073f207f4",
       "rows": [
        [
         "0",
         "Female",
         "21.0",
         "1.62",
         "64.0",
         "yes",
         "no",
         "2.0",
         "3.0",
         "Sometimes",
         "no",
         "2.0",
         "no",
         "0.0",
         "1.0",
         "no",
         "Public_Transportation",
         "Normal_Weight"
        ],
        [
         "1",
         "Female",
         "21.0",
         "1.52",
         "56.0",
         "yes",
         "no",
         "3.0",
         "3.0",
         "Sometimes",
         "yes",
         "3.0",
         "yes",
         "3.0",
         "0.0",
         "Sometimes",
         "Public_Transportation",
         "Normal_Weight"
        ],
        [
         "2",
         "Male",
         "23.0",
         "1.8",
         "77.0",
         "yes",
         "no",
         "2.0",
         "3.0",
         "Sometimes",
         "no",
         "2.0",
         "no",
         "2.0",
         "1.0",
         "Frequently",
         "Public_Transportation",
         "Normal_Weight"
        ],
        [
         "3",
         "Male",
         "27.0",
         "1.8",
         "87.0",
         "no",
         "no",
         "3.0",
         "3.0",
         "Sometimes",
         "no",
         "2.0",
         "no",
         "2.0",
         "0.0",
         "Frequently",
         "Walking",
         "Overweight_Level_I"
        ],
        [
         "4",
         "Male",
         "22.0",
         "1.78",
         "89.8",
         "no",
         "no",
         "2.0",
         "1.0",
         "Sometimes",
         "no",
         "2.0",
         "no",
         "0.0",
         "0.0",
         "Sometimes",
         "Public_Transportation",
         "Overweight_Level_II"
        ]
       ],
       "shape": {
        "columns": 17,
        "rows": 5
       }
      },
      "text/html": [
       "<div>\n",
       "<style scoped>\n",
       "    .dataframe tbody tr th:only-of-type {\n",
       "        vertical-align: middle;\n",
       "    }\n",
       "\n",
       "    .dataframe tbody tr th {\n",
       "        vertical-align: top;\n",
       "    }\n",
       "\n",
       "    .dataframe thead th {\n",
       "        text-align: right;\n",
       "    }\n",
       "</style>\n",
       "<table border=\"1\" class=\"dataframe\">\n",
       "  <thead>\n",
       "    <tr style=\"text-align: right;\">\n",
       "      <th></th>\n",
       "      <th>Gender</th>\n",
       "      <th>Age</th>\n",
       "      <th>Height</th>\n",
       "      <th>Weight</th>\n",
       "      <th>family_history_with_overweight</th>\n",
       "      <th>FAVC</th>\n",
       "      <th>FCVC</th>\n",
       "      <th>NCP</th>\n",
       "      <th>CAEC</th>\n",
       "      <th>SMOKE</th>\n",
       "      <th>CH2O</th>\n",
       "      <th>SCC</th>\n",
       "      <th>FAF</th>\n",
       "      <th>TUE</th>\n",
       "      <th>CALC</th>\n",
       "      <th>MTRANS</th>\n",
       "      <th>NObeyesdad</th>\n",
       "    </tr>\n",
       "  </thead>\n",
       "  <tbody>\n",
       "    <tr>\n",
       "      <th>0</th>\n",
       "      <td>Female</td>\n",
       "      <td>21.0</td>\n",
       "      <td>1.62</td>\n",
       "      <td>64.0</td>\n",
       "      <td>yes</td>\n",
       "      <td>no</td>\n",
       "      <td>2.0</td>\n",
       "      <td>3.0</td>\n",
       "      <td>Sometimes</td>\n",
       "      <td>no</td>\n",
       "      <td>2.0</td>\n",
       "      <td>no</td>\n",
       "      <td>0.0</td>\n",
       "      <td>1.0</td>\n",
       "      <td>no</td>\n",
       "      <td>Public_Transportation</td>\n",
       "      <td>Normal_Weight</td>\n",
       "    </tr>\n",
       "    <tr>\n",
       "      <th>1</th>\n",
       "      <td>Female</td>\n",
       "      <td>21.0</td>\n",
       "      <td>1.52</td>\n",
       "      <td>56.0</td>\n",
       "      <td>yes</td>\n",
       "      <td>no</td>\n",
       "      <td>3.0</td>\n",
       "      <td>3.0</td>\n",
       "      <td>Sometimes</td>\n",
       "      <td>yes</td>\n",
       "      <td>3.0</td>\n",
       "      <td>yes</td>\n",
       "      <td>3.0</td>\n",
       "      <td>0.0</td>\n",
       "      <td>Sometimes</td>\n",
       "      <td>Public_Transportation</td>\n",
       "      <td>Normal_Weight</td>\n",
       "    </tr>\n",
       "    <tr>\n",
       "      <th>2</th>\n",
       "      <td>Male</td>\n",
       "      <td>23.0</td>\n",
       "      <td>1.80</td>\n",
       "      <td>77.0</td>\n",
       "      <td>yes</td>\n",
       "      <td>no</td>\n",
       "      <td>2.0</td>\n",
       "      <td>3.0</td>\n",
       "      <td>Sometimes</td>\n",
       "      <td>no</td>\n",
       "      <td>2.0</td>\n",
       "      <td>no</td>\n",
       "      <td>2.0</td>\n",
       "      <td>1.0</td>\n",
       "      <td>Frequently</td>\n",
       "      <td>Public_Transportation</td>\n",
       "      <td>Normal_Weight</td>\n",
       "    </tr>\n",
       "    <tr>\n",
       "      <th>3</th>\n",
       "      <td>Male</td>\n",
       "      <td>27.0</td>\n",
       "      <td>1.80</td>\n",
       "      <td>87.0</td>\n",
       "      <td>no</td>\n",
       "      <td>no</td>\n",
       "      <td>3.0</td>\n",
       "      <td>3.0</td>\n",
       "      <td>Sometimes</td>\n",
       "      <td>no</td>\n",
       "      <td>2.0</td>\n",
       "      <td>no</td>\n",
       "      <td>2.0</td>\n",
       "      <td>0.0</td>\n",
       "      <td>Frequently</td>\n",
       "      <td>Walking</td>\n",
       "      <td>Overweight_Level_I</td>\n",
       "    </tr>\n",
       "    <tr>\n",
       "      <th>4</th>\n",
       "      <td>Male</td>\n",
       "      <td>22.0</td>\n",
       "      <td>1.78</td>\n",
       "      <td>89.8</td>\n",
       "      <td>no</td>\n",
       "      <td>no</td>\n",
       "      <td>2.0</td>\n",
       "      <td>1.0</td>\n",
       "      <td>Sometimes</td>\n",
       "      <td>no</td>\n",
       "      <td>2.0</td>\n",
       "      <td>no</td>\n",
       "      <td>0.0</td>\n",
       "      <td>0.0</td>\n",
       "      <td>Sometimes</td>\n",
       "      <td>Public_Transportation</td>\n",
       "      <td>Overweight_Level_II</td>\n",
       "    </tr>\n",
       "  </tbody>\n",
       "</table>\n",
       "</div>"
      ],
      "text/plain": [
       "   Gender   Age  Height  Weight family_history_with_overweight FAVC  FCVC  \\\n",
       "0  Female  21.0    1.62    64.0                            yes   no   2.0   \n",
       "1  Female  21.0    1.52    56.0                            yes   no   3.0   \n",
       "2    Male  23.0    1.80    77.0                            yes   no   2.0   \n",
       "3    Male  27.0    1.80    87.0                             no   no   3.0   \n",
       "4    Male  22.0    1.78    89.8                             no   no   2.0   \n",
       "\n",
       "   NCP       CAEC SMOKE  CH2O  SCC  FAF  TUE        CALC  \\\n",
       "0  3.0  Sometimes    no   2.0   no  0.0  1.0          no   \n",
       "1  3.0  Sometimes   yes   3.0  yes  3.0  0.0   Sometimes   \n",
       "2  3.0  Sometimes    no   2.0   no  2.0  1.0  Frequently   \n",
       "3  3.0  Sometimes    no   2.0   no  2.0  0.0  Frequently   \n",
       "4  1.0  Sometimes    no   2.0   no  0.0  0.0   Sometimes   \n",
       "\n",
       "                  MTRANS           NObeyesdad  \n",
       "0  Public_Transportation        Normal_Weight  \n",
       "1  Public_Transportation        Normal_Weight  \n",
       "2  Public_Transportation        Normal_Weight  \n",
       "3                Walking   Overweight_Level_I  \n",
       "4  Public_Transportation  Overweight_Level_II  "
      ]
     },
     "execution_count": 2,
     "metadata": {},
     "output_type": "execute_result"
    }
   ],
   "source": [
    "file_path = \"https://cf-courses-data.s3.us.cloud-object-storage.appdomain.cloud/GkDzb7bWrtvGXdPOfk6CIg/Obesity-level-prediction-dataset.csv\"\n",
    "data = pd.read_csv('Obesity_level_prediction_dataset.csv')\n",
    "data.head()"
   ]
  },
  {
   "cell_type": "markdown",
   "metadata": {},
   "source": [
    "## Exploratory Data Analysis\n"
   ]
  },
  {
   "cell_type": "markdown",
   "metadata": {},
   "source": [
    "Visualize the distribution of the target variable to understand the class balance.\n"
   ]
  },
  {
   "cell_type": "code",
   "execution_count": 3,
   "metadata": {},
   "outputs": [
    {
     "data": {
      "image/png": "[encoded data removed]",
      "text/plain": [
       "<Figure size 640x480 with 1 Axes>"
      ]
     },
     "metadata": {},
     "output_type": "display_data"
    }
   ],
   "source": [
    "# Distribution of target variable\n",
    "sns.countplot(y='NObeyesdad', data=data)\n",
    "plt.title('Distribution of Obesity Levels')\n",
    "plt.show()"
   ]
  },
  {
   "cell_type": "markdown",
   "metadata": {},
   "source": [
    "This shows that the dataset is fairly balanced and does not require any special attention in terms of biased training.\n"
   ]
  },
  {
   "cell_type": "markdown",
   "metadata": {},
   "source": [
    "### Exercise 1\n",
    "Check for null values, and display a summary of the dataset (use `.info()` and `.describe()` methods).\n"
   ]
  },
  {
   "cell_type": "code",
   "execution_count": 4,
   "metadata": {},
   "outputs": [
    {
     "name": "stdout",
     "output_type": "stream",
     "text": [
      "<class 'pandas.core.frame.DataFrame'>\n",
      "RangeIndex: 2111 entries, 0 to 2110\n",
      "Data columns (total 17 columns):\n",
      " #   Column                          Non-Null Count  Dtype  \n",
      "---  ------                          --------------  -----  \n",
      " 0   Gender                          2111 non-null   object \n",
      " 1   Age                             2111 non-null   float64\n",
      " 2   Height                          2111 non-null   float64\n",
      " 3   Weight                          2111 non-null   float64\n",
      " 4   family_history_with_overweight  2111 non-null   object \n",
      " 5   FAVC                            2111 non-null   object \n",
      " 6   FCVC                            2111 non-null   float64\n",
      " 7   NCP                             2111 non-null   float64\n",
      " 8   CAEC                            2111 non-null   object \n",
      " 9   SMOKE                           2111 non-null   object \n",
      " 10  CH2O                            2111 non-null   float64\n",
      " 11  SCC                             2111 non-null   object \n",
      " 12  FAF                             2111 non-null   float64\n",
      " 13  TUE                             2111 non-null   float64\n",
      " 14  CALC                            2111 non-null   object \n",
      " 15  MTRANS                          2111 non-null   object \n",
      " 16  NObeyesdad                      2111 non-null   object \n",
      "dtypes: float64(8), object(9)\n",
      "memory usage: 280.5+ KB\n",
      "None\n",
      "               Age       Height       Weight         FCVC          NCP  \\\n",
      "count  2111.000000  2111.000000  2111.000000  2111.000000  2111.000000   \n",
      "mean     24.312600     1.701677    86.586058     2.419043     2.685628   \n",
      "std       6.345968     0.093305    26.191172     0.533927     0.778039   \n",
      "min      14.000000     1.450000    39.000000     1.000000     1.000000   \n",
      "25%      19.947192     1.630000    65.473343     2.000000     2.658738   \n",
      "50%      22.777890     1.700499    83.000000     2.385502     3.000000   \n",
      "75%      26.000000     1.768464   107.430682     3.000000     3.000000   \n",
      "max      61.000000     1.980000   173.000000     3.000000     4.000000   \n",
      "\n",
      "              CH2O          FAF          TUE  \n",
      "count  2111.000000  2111.000000  2111.000000  \n",
      "mean      2.008011     1.010298     0.657866  \n",
      "std       0.612953     0.850592     0.608927  \n",
      "min       1.000000     0.000000     0.000000  \n",
      "25%       1.584812     0.124505     0.000000  \n",
      "50%       2.000000     1.000000     0.625350  \n",
      "75%       2.477420     1.666678     1.000000  \n",
      "max       3.000000     3.000000     2.000000  \n"
     ]
    }
   ],
   "source": [
    "# your code here\n",
    "print(data.info())\n",
    "print(data.describe())"
   ]
  },
  {
   "cell_type": "markdown",
   "metadata": {},
   "source": [
    "<details><summary>Click here for the solution</summary>\n",
    "\n",
    "```python\n",
    "# Checking for null values\n",
    "print(data.isnull().sum())\n",
    "\n",
    "# Dataset summary\n",
    "print(data.info())\n",
    "print(data.describe())\n",
    "```\n",
    "</details>\n"
   ]
  },
  {
   "cell_type": "markdown",
   "metadata": {},
   "source": [
    "Expected Output:\n",
    "\n",
    "* Counts of null values for each column (likely zero for this dataset).\n",
    "* Dataset info including column names, data types, and memory usage.\n",
    "* Descriptive statistics for numerical columns.\n"
   ]
  },
  {
   "cell_type": "markdown",
   "metadata": {},
   "source": [
    "## Preprocessing the data\n"
   ]
  },
  {
   "cell_type": "markdown",
   "metadata": {},
   "source": [
    "### Feature scaling\n",
    "Scale the numerical features to standardize their ranges for better model performance.\n"
   ]
  },
  {
   "cell_type": "code",
   "execution_count": 9,
   "metadata": {},
   "outputs": [
    {
     "data": {
      "text/plain": [
       "['Age', 'Height', 'Weight', 'FCVC', 'NCP', 'CH2O', 'FAF', 'TUE']"
      ]
     },
     "execution_count": 9,
     "metadata": {},
     "output_type": "execute_result"
    }
   ],
   "source": [
    "data.select_dtypes(include=['float64']).columns.to_list()"
   ]
  },
  {
   "cell_type": "code",
   "execution_count": 10,
   "metadata": {},
   "outputs": [],
   "source": [
    "# Standardizing continuous numerical features\n",
    "continuous_columns = data.select_dtypes(include=['float64']).columns.tolist()\n",
    "\n",
    "scaler = StandardScaler()\n",
    "scaled_features = scaler.fit_transform(data[continuous_columns])\n",
    "\n",
    "# Converting to a DataFrame\n",
    "scaled_df = pd.DataFrame(scaled_features, columns=scaler.get_feature_names_out(continuous_columns))\n",
    "\n",
    "# Combining with the original dataset\n",
    "scaled_data = pd.concat([data.drop(columns=continuous_columns), scaled_df], axis=1)"
   ]
  },
  {
   "cell_type": "markdown",
   "metadata": {},
   "source": [
    "Standardization of data is important to better define the decision boundaries between classes by making sure that the feature variations are in similar scales. The data is now ready to be used for training and testing.\n"
   ]
  },
  {
   "cell_type": "markdown",
   "metadata": {},
   "source": [
    "### One-hot encoding\n",
    "Convert categorical variables into numerical format using one-hot encoding.\n"
   ]
  },
  {
   "cell_type": "code",
   "execution_count": 11,
   "metadata": {},
   "outputs": [
    {
     "data": {
      "text/plain": [
       "['Gender',\n",
       " 'family_history_with_overweight',\n",
       " 'FAVC',\n",
       " 'CAEC',\n",
       " 'SMOKE',\n",
       " 'SCC',\n",
       " 'CALC',\n",
       " 'MTRANS']"
      ]
     },
     "execution_count": 11,
     "metadata": {},
     "output_type": "execute_result"
    }
   ],
   "source": [
    "categorical_columns = scaled_data.select_dtypes(include=['object']).columns.tolist()\n",
    "categorical_columns.remove('NObeyesdad')  # Exclude target column\n",
    "categorical_columns"
   ]
  },
  {
   "cell_type": "code",
   "execution_count": 12,
   "metadata": {},
   "outputs": [],
   "source": [
    "# Identifying categorical columns\n",
    "categorical_columns = scaled_data.select_dtypes(include=['object']).columns.tolist()\n",
    "categorical_columns.remove('NObeyesdad')  # Exclude target column\n",
    "\n",
    "# Applying one-hot encoding\n",
    "encoder = OneHotEncoder(sparse_output=False, drop='first')\n",
    "encoded_features = encoder.fit_transform(scaled_data[categorical_columns])\n",
    "\n",
    "# Converting to a DataFrame\n",
    "encoded_df = pd.DataFrame(encoded_features, columns=encoder.get_feature_names_out(categorical_columns))\n",
    "\n",
    "# Combining with the original dataset\n",
    "prepped_data = pd.concat([scaled_data.drop(columns=categorical_columns), encoded_df], axis=1)"
   ]
  },
  {
   "cell_type": "markdown",
   "metadata": {},
   "source": [
    "You will observe that all the categorical variables have now been modified to one-hot encoded features. This increases the overall number of fields to 24. \n"
   ]
  },
  {
   "cell_type": "markdown",
   "metadata": {},
   "source": [
    "### Encode the target variable\n"
   ]
  },
  {
   "cell_type": "code",
   "execution_count": 14,
   "metadata": {},
   "outputs": [
    {
     "data": {
      "application/vnd.microsoft.datawrangler.viewer.v0+json": {
       "columns": [
        {
         "name": "index",
         "rawType": "int64",
         "type": "integer"
        },
        {
         "name": "NObeyesdad",
         "rawType": "int8",
         "type": "integer"
        },
        {
         "name": "Age",
         "rawType": "float64",
         "type": "float"
        },
        {
         "name": "Height",
         "rawType": "float64",
         "type": "float"
        },
        {
         "name": "Weight",
         "rawType": "float64",
         "type": "float"
        },
        {
         "name": "FCVC",
         "rawType": "float64",
         "type": "float"
        },
        {
         "name": "NCP",
         "rawType": "float64",
         "type": "float"
        },
        {
         "name": "CH2O",
         "rawType": "float64",
         "type": "float"
        },
        {
         "name": "FAF",
         "rawType": "float64",
         "type": "float"
        },
        {
         "name": "TUE",
         "rawType": "float64",
         "type": "float"
        },
        {
         "name": "Gender_Male",
         "rawType": "float64",
         "type": "float"
        },
        {
         "name": "family_history_with_overweight_yes",
         "rawType": "float64",
         "type": "float"
        },
        {
         "name": "FAVC_yes",
         "rawType": "float64",
         "type": "float"
        },
        {
         "name": "CAEC_Frequently",
         "rawType": "float64",
         "type": "float"
        },
        {
         "name": "CAEC_Sometimes",
         "rawType": "float64",
         "type": "float"
        },
        {
         "name": "CAEC_no",
         "rawType": "float64",
         "type": "float"
        },
        {
         "name": "SMOKE_yes",
         "rawType": "float64",
         "type": "float"
        },
        {
         "name": "SCC_yes",
         "rawType": "float64",
         "type": "float"
        },
        {
         "name": "CALC_Frequently",
         "rawType": "float64",
         "type": "float"
        },
        {
         "name": "CALC_Sometimes",
         "rawType": "float64",
         "type": "float"
        },
        {
         "name": "CALC_no",
         "rawType": "float64",
         "type": "float"
        },
        {
         "name": "MTRANS_Bike",
         "rawType": "float64",
         "type": "float"
        },
        {
         "name": "MTRANS_Motorbike",
         "rawType": "float64",
         "type": "float"
        },
        {
         "name": "MTRANS_Public_Transportation",
         "rawType": "float64",
         "type": "float"
        },
        {
         "name": "MTRANS_Walking",
         "rawType": "float64",
         "type": "float"
        }
       ],
       "conversionMethod": "pd.DataFrame",
       "ref": "cbabea75-b473-4e64-82a3-6a12a1605d77",
       "rows": [
        [
         "0",
         "1",
         "-0.5221243865315548",
         "-0.8755893428985058",
         "-0.8625581878787723",
         "-0.7850187010698834",
         "0.4041527212394904",
         "-0.013073263985237213",
         "-1.1880391100619079",
         "0.5619967502703084",
         "0.0",
         "1.0",
         "0.0",
         "0.0",
         "1.0",
         "0.0",
         "0.0",
         "0.0",
         "0.0",
         "0.0",
         "1.0",
         "0.0",
         "0.0",
         "1.0",
         "0.0"
        ],
        [
         "1",
         "1",
         "-0.5221243865315548",
         "-1.9475992778306654",
         "-1.1680769935237438",
         "1.088341755265735",
         "0.4041527212394904",
         "1.6187585428550124",
         "2.3397501195133885",
         "-1.0806246348952138",
         "0.0",
         "1.0",
         "0.0",
         "0.0",
         "1.0",
         "0.0",
         "1.0",
         "1.0",
         "0.0",
         "1.0",
         "0.0",
         "0.0",
         "0.0",
         "1.0",
         "0.0"
        ],
        [
         "2",
         "1",
         "-0.20688898174867157",
         "1.0540285399793792",
         "-0.36609012870569374",
         "-0.7850187010698834",
         "0.4041527212394904",
         "-0.013073263985237213",
         "1.163820376321623",
         "0.5619967502703084",
         "1.0",
         "1.0",
         "0.0",
         "0.0",
         "1.0",
         "0.0",
         "0.0",
         "0.0",
         "1.0",
         "0.0",
         "0.0",
         "0.0",
         "0.0",
         "1.0",
         "0.0"
        ],
        [
         "3",
         "5",
         "0.4235818278170949",
         "1.0540285399793792",
         "0.015808378350520555",
         "1.088341755265735",
         "0.4041527212394904",
         "-0.013073263985237213",
         "1.163820376321623",
         "-1.0806246348952138",
         "1.0",
         "0.0",
         "0.0",
         "0.0",
         "1.0",
         "0.0",
         "0.0",
         "0.0",
         "1.0",
         "0.0",
         "0.0",
         "0.0",
         "0.0",
         "0.0",
         "1.0"
        ],
        [
         "4",
         "6",
         "-0.36450668414011317",
         "0.8396265529929473",
         "0.12273996032626044",
         "-0.7850187010698834",
         "-2.1670227344876687",
         "-0.013073263985237213",
         "-1.1880391100619079",
         "-1.0806246348952138",
         "1.0",
         "0.0",
         "0.0",
         "0.0",
         "1.0",
         "0.0",
         "0.0",
         "0.0",
         "0.0",
         "1.0",
         "0.0",
         "0.0",
         "0.0",
         "1.0",
         "0.0"
        ]
       ],
       "shape": {
        "columns": 24,
        "rows": 5
       }
      },
      "text/html": [
       "<div>\n",
       "<style scoped>\n",
       "    .dataframe tbody tr th:only-of-type {\n",
       "        vertical-align: middle;\n",
       "    }\n",
       "\n",
       "    .dataframe tbody tr th {\n",
       "        vertical-align: top;\n",
       "    }\n",
       "\n",
       "    .dataframe thead th {\n",
       "        text-align: right;\n",
       "    }\n",
       "</style>\n",
       "<table border=\"1\" class=\"dataframe\">\n",
       "  <thead>\n",
       "    <tr style=\"text-align: right;\">\n",
       "      <th></th>\n",
       "      <th>NObeyesdad</th>\n",
       "      <th>Age</th>\n",
       "      <th>Height</th>\n",
       "      <th>Weight</th>\n",
       "      <th>FCVC</th>\n",
       "      <th>NCP</th>\n",
       "      <th>CH2O</th>\n",
       "      <th>FAF</th>\n",
       "      <th>TUE</th>\n",
       "      <th>Gender_Male</th>\n",
       "      <th>...</th>\n",
       "      <th>CAEC_no</th>\n",
       "      <th>SMOKE_yes</th>\n",
       "      <th>SCC_yes</th>\n",
       "      <th>CALC_Frequently</th>\n",
       "      <th>CALC_Sometimes</th>\n",
       "      <th>CALC_no</th>\n",
       "      <th>MTRANS_Bike</th>\n",
       "      <th>MTRANS_Motorbike</th>\n",
       "      <th>MTRANS_Public_Transportation</th>\n",
       "      <th>MTRANS_Walking</th>\n",
       "    </tr>\n",
       "  </thead>\n",
       "  <tbody>\n",
       "    <tr>\n",
       "      <th>0</th>\n",
       "      <td>1</td>\n",
       "      <td>-0.522124</td>\n",
       "      <td>-0.875589</td>\n",
       "      <td>-0.862558</td>\n",
       "      <td>-0.785019</td>\n",
       "      <td>0.404153</td>\n",
       "      <td>-0.013073</td>\n",
       "      <td>-1.188039</td>\n",
       "      <td>0.561997</td>\n",
       "      <td>0.0</td>\n",
       "      <td>...</td>\n",
       "      <td>0.0</td>\n",
       "      <td>0.0</td>\n",
       "      <td>0.0</td>\n",
       "      <td>0.0</td>\n",
       "      <td>0.0</td>\n",
       "      <td>1.0</td>\n",
       "      <td>0.0</td>\n",
       "      <td>0.0</td>\n",
       "      <td>1.0</td>\n",
       "      <td>0.0</td>\n",
       "    </tr>\n",
       "    <tr>\n",
       "      <th>1</th>\n",
       "      <td>1</td>\n",
       "      <td>-0.522124</td>\n",
       "      <td>-1.947599</td>\n",
       "      <td>-1.168077</td>\n",
       "      <td>1.088342</td>\n",
       "      <td>0.404153</td>\n",
       "      <td>1.618759</td>\n",
       "      <td>2.339750</td>\n",
       "      <td>-1.080625</td>\n",
       "      <td>0.0</td>\n",
       "      <td>...</td>\n",
       "      <td>0.0</td>\n",
       "      <td>1.0</td>\n",
       "      <td>1.0</td>\n",
       "      <td>0.0</td>\n",
       "      <td>1.0</td>\n",
       "      <td>0.0</td>\n",
       "      <td>0.0</td>\n",
       "      <td>0.0</td>\n",
       "      <td>1.0</td>\n",
       "      <td>0.0</td>\n",
       "    </tr>\n",
       "    <tr>\n",
       "      <th>2</th>\n",
       "      <td>1</td>\n",
       "      <td>-0.206889</td>\n",
       "      <td>1.054029</td>\n",
       "      <td>-0.366090</td>\n",
       "      <td>-0.785019</td>\n",
       "      <td>0.404153</td>\n",
       "      <td>-0.013073</td>\n",
       "      <td>1.163820</td>\n",
       "      <td>0.561997</td>\n",
       "      <td>1.0</td>\n",
       "      <td>...</td>\n",
       "      <td>0.0</td>\n",
       "      <td>0.0</td>\n",
       "      <td>0.0</td>\n",
       "      <td>1.0</td>\n",
       "      <td>0.0</td>\n",
       "      <td>0.0</td>\n",
       "      <td>0.0</td>\n",
       "      <td>0.0</td>\n",
       "      <td>1.0</td>\n",
       "      <td>0.0</td>\n",
       "    </tr>\n",
       "    <tr>\n",
       "      <th>3</th>\n",
       "      <td>5</td>\n",
       "      <td>0.423582</td>\n",
       "      <td>1.054029</td>\n",
       "      <td>0.015808</td>\n",
       "      <td>1.088342</td>\n",
       "      <td>0.404153</td>\n",
       "      <td>-0.013073</td>\n",
       "      <td>1.163820</td>\n",
       "      <td>-1.080625</td>\n",
       "      <td>1.0</td>\n",
       "      <td>...</td>\n",
       "      <td>0.0</td>\n",
       "      <td>0.0</td>\n",
       "      <td>0.0</td>\n",
       "      <td>1.0</td>\n",
       "      <td>0.0</td>\n",
       "      <td>0.0</td>\n",
       "      <td>0.0</td>\n",
       "      <td>0.0</td>\n",
       "      <td>0.0</td>\n",
       "      <td>1.0</td>\n",
       "    </tr>\n",
       "    <tr>\n",
       "      <th>4</th>\n",
       "      <td>6</td>\n",
       "      <td>-0.364507</td>\n",
       "      <td>0.839627</td>\n",
       "      <td>0.122740</td>\n",
       "      <td>-0.785019</td>\n",
       "      <td>-2.167023</td>\n",
       "      <td>-0.013073</td>\n",
       "      <td>-1.188039</td>\n",
       "      <td>-1.080625</td>\n",
       "      <td>1.0</td>\n",
       "      <td>...</td>\n",
       "      <td>0.0</td>\n",
       "      <td>0.0</td>\n",
       "      <td>0.0</td>\n",
       "      <td>0.0</td>\n",
       "      <td>1.0</td>\n",
       "      <td>0.0</td>\n",
       "      <td>0.0</td>\n",
       "      <td>0.0</td>\n",
       "      <td>1.0</td>\n",
       "      <td>0.0</td>\n",
       "    </tr>\n",
       "  </tbody>\n",
       "</table>\n",
       "<p>5 rows × 24 columns</p>\n",
       "</div>"
      ],
      "text/plain": [
       "   NObeyesdad       Age    Height    Weight      FCVC       NCP      CH2O  \\\n",
       "0           1 -0.522124 -0.875589 -0.862558 -0.785019  0.404153 -0.013073   \n",
       "1           1 -0.522124 -1.947599 -1.168077  1.088342  0.404153  1.618759   \n",
       "2           1 -0.206889  1.054029 -0.366090 -0.785019  0.404153 -0.013073   \n",
       "3           5  0.423582  1.054029  0.015808  1.088342  0.404153 -0.013073   \n",
       "4           6 -0.364507  0.839627  0.122740 -0.785019 -2.167023 -0.013073   \n",
       "\n",
       "        FAF       TUE  Gender_Male  ...  CAEC_no  SMOKE_yes  SCC_yes  \\\n",
       "0 -1.188039  0.561997          0.0  ...      0.0        0.0      0.0   \n",
       "1  2.339750 -1.080625          0.0  ...      0.0        1.0      1.0   \n",
       "2  1.163820  0.561997          1.0  ...      0.0        0.0      0.0   \n",
       "3  1.163820 -1.080625          1.0  ...      0.0        0.0      0.0   \n",
       "4 -1.188039 -1.080625          1.0  ...      0.0        0.0      0.0   \n",
       "\n",
       "   CALC_Frequently  CALC_Sometimes  CALC_no  MTRANS_Bike  MTRANS_Motorbike  \\\n",
       "0              0.0             0.0      1.0          0.0               0.0   \n",
       "1              0.0             1.0      0.0          0.0               0.0   \n",
       "2              1.0             0.0      0.0          0.0               0.0   \n",
       "3              1.0             0.0      0.0          0.0               0.0   \n",
       "4              0.0             1.0      0.0          0.0               0.0   \n",
       "\n",
       "   MTRANS_Public_Transportation  MTRANS_Walking  \n",
       "0                           1.0             0.0  \n",
       "1                           1.0             0.0  \n",
       "2                           1.0             0.0  \n",
       "3                           0.0             1.0  \n",
       "4                           1.0             0.0  \n",
       "\n",
       "[5 rows x 24 columns]"
      ]
     },
     "execution_count": 14,
     "metadata": {},
     "output_type": "execute_result"
    }
   ],
   "source": [
    "# Encoding the target variable\n",
    "prepped_data['NObeyesdad'] = prepped_data['NObeyesdad'].astype('category').cat.codes\n",
    "prepped_data.head()"
   ]
  },
  {
   "cell_type": "markdown",
   "metadata": {},
   "source": [
    "### Separate the input and target data\n"
   ]
  },
  {
   "cell_type": "code",
   "execution_count": 15,
   "metadata": {},
   "outputs": [],
   "source": [
    "# Preparing final dataset\n",
    "X = prepped_data.drop('NObeyesdad', axis=1)\n",
    "y = prepped_data['NObeyesdad']"
   ]
  },
  {
   "cell_type": "markdown",
   "metadata": {},
   "source": [
    "## Model training and evaluation \n"
   ]
  },
  {
   "cell_type": "markdown",
   "metadata": {},
   "source": [
    "### Splitting the data set\n",
    "Split the data into training and testing subsets.\n"
   ]
  },
  {
   "cell_type": "code",
   "execution_count": 16,
   "metadata": {},
   "outputs": [],
   "source": [
    "# Splitting data\n",
    "X_train, X_test, y_train, y_test = train_test_split(X, y, test_size=0.2, random_state=42, stratify=y)"
   ]
  },
  {
   "cell_type": "markdown",
   "metadata": {},
   "source": [
    "### Logistic Regression with One-vs-All\n",
    "In the One-vs-All approach:\n",
    "\n",
    "* The algorithm trains a single binary classifier for each class.\n",
    "* Each classifier learns to distinguish a single class from all the others combined.\n",
    "* If there are k classes, k classifiers are trained.\n",
    "* During prediction, the algorithm evaluates all classifiers on each input, and selects the class with the highest confidence score as the predicted class.\n",
    "\n",
    "#### Advantages:\n",
    "* Simpler and more efficient in terms of the number of classifiers (k)\n",
    "* Easier to implement for algorithms that naturally provide confidence scores (e.g., logistic regression, SVM).\n",
    "\n",
    "#### Disadvantages:\n",
    "* Classifiers may struggle with class imbalance since each binary classifier must distinguish between one class and the rest.\n",
    "* Requires the classifier to perform well even with highly imbalanced datasets, as the \"all\" group typically contains more samples than the \"one\" class.\n"
   ]
  },
  {
   "cell_type": "markdown",
   "metadata": {},
   "source": [
    "Train a logistic regression model using the One-vs-All strategy and evaluate its performance.\n"
   ]
  },
  {
   "cell_type": "code",
   "execution_count": 17,
   "metadata": {},
   "outputs": [
    {
     "data": {
      "text/html": [
       "<style>#sk-container-id-1 {color: black;}#sk-container-id-1 pre{padding: 0;}#sk-container-id-1 div.sk-toggleable {background-color: white;}#sk-container-id-1 label.sk-toggleable__label {cursor: pointer;display: block;width: 100%;margin-bottom: 0;padding: 0.3em;box-sizing: border-box;text-align: center;}#sk-container-id-1 label.sk-toggleable__label-arrow:before {content: \"▸\";float: left;margin-right: 0.25em;color: #696969;}#sk-container-id-1 label.sk-toggleable__label-arrow:hover:before {color: black;}#sk-container-id-1 div.sk-estimator:hover label.sk-toggleable__label-arrow:before {color: black;}#sk-container-id-1 div.sk-toggleable__content {max-height: 0;max-width: 0;overflow: hidden;text-align: left;background-color: #f0f8ff;}#sk-container-id-1 div.sk-toggleable__content pre {margin: 0.2em;color: black;border-radius: 0.25em;background-color: #f0f8ff;}#sk-container-id-1 input.sk-toggleable__control:checked~div.sk-toggleable__content {max-height: 200px;max-width: 100%;overflow: auto;}#sk-container-id-1 input.sk-toggleable__control:checked~label.sk-toggleable__label-arrow:before {content: \"▾\";}#sk-container-id-1 div.sk-estimator input.sk-toggleable__control:checked~label.sk-toggleable__label {background-color: #d4ebff;}#sk-container-id-1 div.sk-label input.sk-toggleable__control:checked~label.sk-toggleable__label {background-color: #d4ebff;}#sk-container-id-1 input.sk-hidden--visually {border: 0;clip: rect(1px 1px 1px 1px);clip: rect(1px, 1px, 1px, 1px);height: 1px;margin: -1px;overflow: hidden;padding: 0;position: absolute;width: 1px;}#sk-container-id-1 div.sk-estimator {font-family: monospace;background-color: #f0f8ff;border: 1px dotted black;border-radius: 0.25em;box-sizing: border-box;margin-bottom: 0.5em;}#sk-container-id-1 div.sk-estimator:hover {background-color: #d4ebff;}#sk-container-id-1 div.sk-parallel-item::after {content: \"\";width: 100%;border-bottom: 1px solid gray;flex-grow: 1;}#sk-container-id-1 div.sk-label:hover label.sk-toggleable__label {background-color: #d4ebff;}#sk-container-id-1 div.sk-serial::before {content: \"\";position: absolute;border-left: 1px solid gray;box-sizing: border-box;top: 0;bottom: 0;left: 50%;z-index: 0;}#sk-container-id-1 div.sk-serial {display: flex;flex-direction: column;align-items: center;background-color: white;padding-right: 0.2em;padding-left: 0.2em;position: relative;}#sk-container-id-1 div.sk-item {position: relative;z-index: 1;}#sk-container-id-1 div.sk-parallel {display: flex;align-items: stretch;justify-content: center;background-color: white;position: relative;}#sk-container-id-1 div.sk-item::before, #sk-container-id-1 div.sk-parallel-item::before {content: \"\";position: absolute;border-left: 1px solid gray;box-sizing: border-box;top: 0;bottom: 0;left: 50%;z-index: -1;}#sk-container-id-1 div.sk-parallel-item {display: flex;flex-direction: column;z-index: 1;position: relative;background-color: white;}#sk-container-id-1 div.sk-parallel-item:first-child::after {align-self: flex-end;width: 50%;}#sk-container-id-1 div.sk-parallel-item:last-child::after {align-self: flex-start;width: 50%;}#sk-container-id-1 div.sk-parallel-item:only-child::after {width: 0;}#sk-container-id-1 div.sk-dashed-wrapped {border: 1px dashed gray;margin: 0 0.4em 0.5em 0.4em;box-sizing: border-box;padding-bottom: 0.4em;background-color: white;}#sk-container-id-1 div.sk-label label {font-family: monospace;font-weight: bold;display: inline-block;line-height: 1.2em;}#sk-container-id-1 div.sk-label-container {text-align: center;}#sk-container-id-1 div.sk-container {/* jupyter's `normalize.less` sets `[hidden] { display: none; }` but bootstrap.min.css set `[hidden] { display: none !important; }` so we also need the `!important` here to be able to override the default hidden behavior on the sphinx rendered scikit-learn.org. See: https://github.com/scikit-learn/scikit-learn/issues/21755 */display: inline-block !important;position: relative;}#sk-container-id-1 div.sk-text-repr-fallback {display: none;}</style><div id=\"sk-container-id-1\" class=\"sk-top-container\"><div class=\"sk-text-repr-fallback\"><pre>LogisticRegression(max_iter=1000, multi_class=&#x27;ovr&#x27;)</pre><b>In a Jupyter environment, please rerun this cell to show the HTML representation or trust the notebook. <br />On GitHub, the HTML representation is unable to render, please try loading this page with nbviewer.org.</b></div><div class=\"sk-container\" hidden><div class=\"sk-item\"><div class=\"sk-estimator sk-toggleable\"><input class=\"sk-toggleable__control sk-hidden--visually\" id=\"sk-estimator-id-1\" type=\"checkbox\" checked><label for=\"sk-estimator-id-1\" class=\"sk-toggleable__label sk-toggleable__label-arrow\">LogisticRegression</label><div class=\"sk-toggleable__content\"><pre>LogisticRegression(max_iter=1000, multi_class=&#x27;ovr&#x27;)</pre></div></div></div></div></div>"
      ],
      "text/plain": [
       "LogisticRegression(max_iter=1000, multi_class='ovr')"
      ]
     },
     "execution_count": 17,
     "metadata": {},
     "output_type": "execute_result"
    }
   ],
   "source": [
    "# Training logistic regression model using One-vs-All (default)\n",
    "model_ova = LogisticRegression(multi_class='ovr', max_iter=1000)\n",
    "model_ova.fit(X_train, y_train)"
   ]
  },
  {
   "cell_type": "markdown",
   "metadata": {},
   "source": [
    "You can now evaluate the accuracy of the trained model as a measure of its performance on unseen testing data.\n"
   ]
  },
  {
   "cell_type": "code",
   "execution_count": 18,
   "metadata": {},
   "outputs": [
    {
     "name": "stdout",
     "output_type": "stream",
     "text": [
      "One-vs-All (OvA) Strategy\n",
      "Accuracy: 76.6%\n"
     ]
    }
   ],
   "source": [
    "# Predictions\n",
    "y_pred_ova = model_ova.predict(X_test)\n",
    "\n",
    "# Evaluation metrics for OvA\n",
    "print(\"One-vs-All (OvA) Strategy\")\n",
    "print(f\"Accuracy: {np.round(100*accuracy_score(y_test, y_pred_ova),2)}%\")"
   ]
  },
  {
   "cell_type": "markdown",
   "metadata": {},
   "source": [
    "### Logistic Regression with OvO\n",
    "\n",
    "In the One-vs-One approach:\n",
    "* The algorithm trains a binary classifier for every pair of classes in the dataset.\n",
    "* If there are k classes, this results in $k(k-1)/2$ classifiers.\n",
    "* Each classifier is trained to distinguish between two specific classes, ignoring the rest.\n",
    "* During prediction, all classifiers are used, and a \"voting\" mechanism decides the final class by selecting the class that wins the majority of pairwise comparisons.\n",
    "\n",
    "#### Advantages:\n",
    "* Suitable for algorithms that are computationally expensive to train on many samples because each binary classifier deals with a smaller dataset (only samples from two classes).\n",
    "* Can be more accurate in some cases since classifiers focus on distinguishing between two specific classes at a time.\n",
    "\n",
    "#### Disadvantages:\n",
    "* Computationally expensive for datasets with a large number of classes due to the large number of classifiers required.\n",
    "* May lead to ambiguous predictions if voting results in a tie.\n"
   ]
  },
  {
   "cell_type": "markdown",
   "metadata": {},
   "source": [
    "Train a logistic regression model using the One-vs-One (OvO) strategy and evaluate its performance.\n"
   ]
  },
  {
   "cell_type": "code",
   "execution_count": 19,
   "metadata": {},
   "outputs": [
    {
     "data": {
      "text/html": [
       "<style>#sk-container-id-2 {color: black;}#sk-container-id-2 pre{padding: 0;}#sk-container-id-2 div.sk-toggleable {background-color: white;}#sk-container-id-2 label.sk-toggleable__label {cursor: pointer;display: block;width: 100%;margin-bottom: 0;padding: 0.3em;box-sizing: border-box;text-align: center;}#sk-container-id-2 label.sk-toggleable__label-arrow:before {content: \"▸\";float: left;margin-right: 0.25em;color: #696969;}#sk-container-id-2 label.sk-toggleable__label-arrow:hover:before {color: black;}#sk-container-id-2 div.sk-estimator:hover label.sk-toggleable__label-arrow:before {color: black;}#sk-container-id-2 div.sk-toggleable__content {max-height: 0;max-width: 0;overflow: hidden;text-align: left;background-color: #f0f8ff;}#sk-container-id-2 div.sk-toggleable__content pre {margin: 0.2em;color: black;border-radius: 0.25em;background-color: #f0f8ff;}#sk-container-id-2 input.sk-toggleable__control:checked~div.sk-toggleable__content {max-height: 200px;max-width: 100%;overflow: auto;}#sk-container-id-2 input.sk-toggleable__control:checked~label.sk-toggleable__label-arrow:before {content: \"▾\";}#sk-container-id-2 div.sk-estimator input.sk-toggleable__control:checked~label.sk-toggleable__label {background-color: #d4ebff;}#sk-container-id-2 div.sk-label input.sk-toggleable__control:checked~label.sk-toggleable__label {background-color: #d4ebff;}#sk-container-id-2 input.sk-hidden--visually {border: 0;clip: rect(1px 1px 1px 1px);clip: rect(1px, 1px, 1px, 1px);height: 1px;margin: -1px;overflow: hidden;padding: 0;position: absolute;width: 1px;}#sk-container-id-2 div.sk-estimator {font-family: monospace;background-color: #f0f8ff;border: 1px dotted black;border-radius: 0.25em;box-sizing: border-box;margin-bottom: 0.5em;}#sk-container-id-2 div.sk-estimator:hover {background-color: #d4ebff;}#sk-container-id-2 div.sk-parallel-item::after {content: \"\";width: 100%;border-bottom: 1px solid gray;flex-grow: 1;}#sk-container-id-2 div.sk-label:hover label.sk-toggleable__label {background-color: #d4ebff;}#sk-container-id-2 div.sk-serial::before {content: \"\";position: absolute;border-left: 1px solid gray;box-sizing: border-box;top: 0;bottom: 0;left: 50%;z-index: 0;}#sk-container-id-2 div.sk-serial {display: flex;flex-direction: column;align-items: center;background-color: white;padding-right: 0.2em;padding-left: 0.2em;position: relative;}#sk-container-id-2 div.sk-item {position: relative;z-index: 1;}#sk-container-id-2 div.sk-parallel {display: flex;align-items: stretch;justify-content: center;background-color: white;position: relative;}#sk-container-id-2 div.sk-item::before, #sk-container-id-2 div.sk-parallel-item::before {content: \"\";position: absolute;border-left: 1px solid gray;box-sizing: border-box;top: 0;bottom: 0;left: 50%;z-index: -1;}#sk-container-id-2 div.sk-parallel-item {display: flex;flex-direction: column;z-index: 1;position: relative;background-color: white;}#sk-container-id-2 div.sk-parallel-item:first-child::after {align-self: flex-end;width: 50%;}#sk-container-id-2 div.sk-parallel-item:last-child::after {align-self: flex-start;width: 50%;}#sk-container-id-2 div.sk-parallel-item:only-child::after {width: 0;}#sk-container-id-2 div.sk-dashed-wrapped {border: 1px dashed gray;margin: 0 0.4em 0.5em 0.4em;box-sizing: border-box;padding-bottom: 0.4em;background-color: white;}#sk-container-id-2 div.sk-label label {font-family: monospace;font-weight: bold;display: inline-block;line-height: 1.2em;}#sk-container-id-2 div.sk-label-container {text-align: center;}#sk-container-id-2 div.sk-container {/* jupyter's `normalize.less` sets `[hidden] { display: none; }` but bootstrap.min.css set `[hidden] { display: none !important; }` so we also need the `!important` here to be able to override the default hidden behavior on the sphinx rendered scikit-learn.org. See: https://github.com/scikit-learn/scikit-learn/issues/21755 */display: inline-block !important;position: relative;}#sk-container-id-2 div.sk-text-repr-fallback {display: none;}</style><div id=\"sk-container-id-2\" class=\"sk-top-container\"><div class=\"sk-text-repr-fallback\"><pre>OneVsOneClassifier(estimator=LogisticRegression(max_iter=1000))</pre><b>In a Jupyter environment, please rerun this cell to show the HTML representation or trust the notebook. <br />On GitHub, the HTML representation is unable to render, please try loading this page with nbviewer.org.</b></div><div class=\"sk-container\" hidden><div class=\"sk-item sk-dashed-wrapped\"><div class=\"sk-label-container\"><div class=\"sk-label sk-toggleable\"><input class=\"sk-toggleable__control sk-hidden--visually\" id=\"sk-estimator-id-2\" type=\"checkbox\" ><label for=\"sk-estimator-id-2\" class=\"sk-toggleable__label sk-toggleable__label-arrow\">OneVsOneClassifier</label><div class=\"sk-toggleable__content\"><pre>OneVsOneClassifier(estimator=LogisticRegression(max_iter=1000))</pre></div></div></div><div class=\"sk-parallel\"><div class=\"sk-parallel-item\"><div class=\"sk-item\"><div class=\"sk-label-container\"><div class=\"sk-label sk-toggleable\"><input class=\"sk-toggleable__control sk-hidden--visually\" id=\"sk-estimator-id-3\" type=\"checkbox\" ><label for=\"sk-estimator-id-3\" class=\"sk-toggleable__label sk-toggleable__label-arrow\">estimator: LogisticRegression</label><div class=\"sk-toggleable__content\"><pre>LogisticRegression(max_iter=1000)</pre></div></div></div><div class=\"sk-serial\"><div class=\"sk-item\"><div class=\"sk-estimator sk-toggleable\"><input class=\"sk-toggleable__control sk-hidden--visually\" id=\"sk-estimator-id-4\" type=\"checkbox\" ><label for=\"sk-estimator-id-4\" class=\"sk-toggleable__label sk-toggleable__label-arrow\">LogisticRegression</label><div class=\"sk-toggleable__content\"><pre>LogisticRegression(max_iter=1000)</pre></div></div></div></div></div></div></div></div></div></div>"
      ],
      "text/plain": [
       "OneVsOneClassifier(estimator=LogisticRegression(max_iter=1000))"
      ]
     },
     "execution_count": 19,
     "metadata": {},
     "output_type": "execute_result"
    }
   ],
   "source": [
    "# Training logistic regression model using One-vs-One\n",
    "model_ovo = OneVsOneClassifier(LogisticRegression(max_iter=1000))\n",
    "model_ovo.fit(X_train, y_train)"
   ]
  },
  {
   "cell_type": "markdown",
   "metadata": {},
   "source": [
    "Evaluate the accuracy of the trained model as a measure of its performance on unseen testing data.\n"
   ]
  },
  {
   "cell_type": "code",
   "execution_count": 20,
   "metadata": {},
   "outputs": [
    {
     "name": "stdout",
     "output_type": "stream",
     "text": [
      "One-vs-One (OvO) Strategy\n",
      "Accuracy: 92.43%\n"
     ]
    }
   ],
   "source": [
    "# Predictions\n",
    "y_pred_ovo = model_ovo.predict(X_test)\n",
    "\n",
    "# Evaluation metrics for OvO\n",
    "print(\"One-vs-One (OvO) Strategy\")\n",
    "print(f\"Accuracy: {np.round(100*accuracy_score(y_test, y_pred_ovo),2)}%\")"
   ]
  },
  {
   "cell_type": "markdown",
   "metadata": {},
   "source": [
    "### Exercises\n"
   ]
  },
  {
   "cell_type": "markdown",
   "metadata": {},
   "source": [
    "Q1. Experiment with different test sizes in the train_test_split method (e.g., 0.1, 0.3) and observe the impact on model performance.\n"
   ]
  },
  {
   "cell_type": "code",
   "execution_count": 24,
   "metadata": {},
   "outputs": [
    {
     "name": "stdout",
     "output_type": "stream",
     "text": [
      "Test Size: 0.1\n",
      "Accuracy: 0.7594339622641509\n",
      "Test Size: 0.3\n",
      "Accuracy: 0.7476340694006309\n"
     ]
    }
   ],
   "source": [
    "# your code here\n",
    "for test_size in [0.1, 0.3]:\n",
    "    X_train, X_test, y_train, y_test = train_test_split(X, y, test_size=test_size, random_state=42, stratify=y)\n",
    "    model_ova.fit(X_train, y_train)\n",
    "    y_pred = model_ova.predict(X_test)\n",
    "    print(f\"Test Size: {test_size}\")\n",
    "    print(\"Accuracy:\", accuracy_score(y_test, y_pred))"
   ]
  },
  {
   "cell_type": "markdown",
   "metadata": {},
   "source": [
    "<details><summary>Click here for the solution</summary>\n",
    "\n",
    "```python\n",
    "for test_size in [0.1, 0.3]:\n",
    "    X_train, X_test, y_train, y_test = train_test_split(X, y, test_size=test_size, random_state=42, stratify=y)\n",
    "    model_ova.fit(X_train, y_train)\n",
    "    y_pred = model_ova.predict(X_test)\n",
    "    print(f\"Test Size: {test_size}\")\n",
    "    print(\"Accuracy:\", accuracy_score(y_test, y_pred))\n",
    "```\n",
    "</details>\n"
   ]
  },
  {
   "cell_type": "markdown",
   "metadata": {},
   "source": [
    "Q2. Plot a bar chart of feature importance using the coefficients from the One vs All logistic regression model. Also try for the One vs One model.\n"
   ]
  },
  {
   "cell_type": "code",
   "execution_count": 32,
   "metadata": {},
   "outputs": [
    {
     "data": {
      "image/png": "[encoded data removed]",
      "text/plain": [
       "<Figure size 640x480 with 1 Axes>"
      ]
     },
     "metadata": {},
     "output_type": "display_data"
    }
   ],
   "source": [
    "# your code here\n",
    "\n",
    "feature_importance = np.mean(np.abs(model_ova.coef_), axis=0)\n",
    "plt.barh(X.columns, feature_importance)\n",
    "plt.title(\"Feature Importance\")\n",
    "plt.xlabel(\"Importance\")\n",
    "plt.show()\n"
   ]
  },
  {
   "cell_type": "markdown",
   "metadata": {},
   "source": [
    "<details><summary>Click here for the solution</summary>\n",
    "\n",
    "```python\n",
    "# Feature importance\n",
    "feature_importance = np.mean(np.abs(model_ova.coef_), axis=0)\n",
    "plt.barh(X.columns, feature_importance)\n",
    "plt.title(\"Feature Importance\")\n",
    "plt.xlabel(\"Importance\")\n",
    "plt.show()\n",
    "```\n",
    "\n",
    "For One vs One, change `model_ova` to `model_ovo` in the code above.\n",
    "</details>\n"
   ]
  },
  {
   "cell_type": "markdown",
   "metadata": {},
   "source": [
    "Q3. Write a function `obesity_risk_pipeline` to automate the entire pipeline: <br>\n",
    "<ol>\n",
    "<li> Loading and preprocessing the data </li>\n",
    "<li> Training the model </li>\n",
    "<li> Evaluating the model </li>\n",
    "</ol>\n",
    "The function should accept the file path and test set size as the input arguments.\n"
   ]
  },
  {
   "cell_type": "code",
   "execution_count": 51,
   "metadata": {},
   "outputs": [
    {
     "name": "stdout",
     "output_type": "stream",
     "text": [
      "<class 'numpy.ndarray'> [[-0.52212439 -0.87558934 -0.86255819 ... -0.01307326 -1.18803911\n",
      "   0.56199675]\n",
      " [-0.52212439 -1.94759928 -1.16807699 ...  1.61875854  2.33975012\n",
      "  -1.08062463]\n",
      " [-0.20688898  1.05402854 -0.36609013 ... -0.01307326  1.16382038\n",
      "   0.56199675]\n",
      " ...\n",
      " [-0.28190933  0.54167211  1.79886776 ...  0.0753606   0.47497132\n",
      "  -0.01901815]\n",
      " [ 0.00777624  0.40492652  1.78577968 ...  1.37780063  0.15147069\n",
      "  -0.11799101]\n",
      " [-0.10211908  0.39834438  1.7905916  ...  1.39603472  0.01899633\n",
      "   0.09243207]]\n"
     ]
    }
   ],
   "source": [
    "# write your function here and then execute this cell\n",
    "\n",
    "def obesity_risk_pipeline(data_path='Obesity_level_prediction_dataset.csv', test_size=0.3):\n",
    "    df = pd.read_csv(data_path)\n",
    "    # print(df.dtypes)\n",
    "    continous_coloumns_df = df.select_dtypes('float').columns.to_list()\n",
    "    # print(df[continous_coloumns_df])\n",
    "\n",
    "    scaled_data_df = StandardScaler().fit_transform(df[continous_coloumns_df],extr)\n",
    "    print(type(scaled_data_df),scaled_data_df)\n",
    "\n",
    "\n",
    "\n",
    "obesity_risk_pipeline(file_path, test_size=0.2)"
   ]
  },
  {
   "cell_type": "markdown",
   "metadata": {},
   "source": [
    "<details><summary>Click here for the solution</summary>\n",
    "\n",
    "```python\n",
    "def obesity_risk_pipeline(data_path, test_size=0.2):\n",
    "    # Load data\n",
    "    data = pd.read_csv(data_path)\n",
    "\n",
    "    # Standardizing continuous numerical features\n",
    "    continuous_columns = data.select_dtypes(include=['float64']).columns.tolist()\n",
    "    scaler = StandardScaler()\n",
    "    scaled_features = scaler.fit_transform(data[continuous_columns])\n",
    "    \n",
    "    # Converting to a DataFrame\n",
    "    scaled_df = pd.DataFrame(scaled_features, columns=scaler.get_feature_names_out(continuous_columns))\n",
    "    \n",
    "    # Combining with the original dataset\n",
    "    scaled_data = pd.concat([data.drop(columns=continuous_columns), scaled_df], axis=1)\n",
    "\n",
    "    # Identifying categorical columns\n",
    "    categorical_columns = scaled_data.select_dtypes(include=['object']).columns.tolist()\n",
    "    categorical_columns.remove('NObeyesdad')  # Exclude target column\n",
    "    \n",
    "    # Applying one-hot encoding\n",
    "    encoder = OneHotEncoder(sparse_output=False, drop='first')\n",
    "    encoded_features = encoder.fit_transform(scaled_data[categorical_columns])\n",
    "    \n",
    "    # Converting to a DataFrame\n",
    "    encoded_df = pd.DataFrame(encoded_features, columns=encoder.get_feature_names_out(categorical_columns))\n",
    "    \n",
    "    # Combining with the original dataset\n",
    "    prepped_data = pd.concat([scaled_data.drop(columns=categorical_columns), encoded_df], axis=1)\n",
    "    \n",
    "    # Encoding the target variable\n",
    "    prepped_data['NObeyesdad'] = prepped_data['NObeyesdad'].astype('category').cat.codes\n",
    "\n",
    "    # Preparing final dataset\n",
    "    X = prepped_data.drop('NObeyesdad', axis=1)\n",
    "    y = prepped_data['NObeyesdad']\n",
    "   \n",
    "    # Splitting data\n",
    "    X_train, X_test, y_train, y_test = train_test_split(X, y, test_size=test_size, random_state=42, stratify=y)\n",
    "    \n",
    "    # Training and evaluation\n",
    "    model = LogisticRegression(multi_class='multinomial', max_iter=1000)\n",
    "    model.fit(X_train, y_train)\n",
    "    y_pred = model.predict(X_test)\n",
    "    print(\"Accuracy:\", accuracy_score(y_test, y_pred))\n",
    "```\n",
    "</details>\n"
   ]
  },
  {
   "cell_type": "markdown",
   "metadata": {},
   "source": [
    "### Congratulations! You're ready to move on to your next lesson!\n",
    " \n",
    "## Author\n",
    " \n",
    "<a href=\"https://www.linkedin.com/in/abhishek-gagneja-23051987/\" target=\"_blank\">Abishek Gagneja</a>\n",
    " \n",
    " \n",
    " ### Other Contributors\n",
    " \n",
    "<a href=\"https://www.linkedin.com/in/jpgrossman/\" target=\"_blank\">Jeff Grossman</a>\n",
    "\n",
    "\n",
    "\n",
    "<!--\n",
    "## Changelog\n",
    " \n",
    "| Date | Version | Changed by | Change Description |\n",
    "\n",
    "|:------------|:------|:------------------|:---------------------------------------|\n",
    "\n",
    "| 2024-11-05 | 1.0  Abhishek Gagnejan    | Fresh version created |\n",
    " \n"
   ]
  },
  {
   "cell_type": "markdown",
   "metadata": {},
   "source": [
    "<h3 align=\"center\"> © IBM Corporation. All rights reserved. <h3/>\n"
   ]
  }
 ],
 "metadata": {
  "kernelspec": {
   "display_name": ".venv",
   "language": "python",
   "name": "python3"
  },
  "language_info": {
   "codemirror_mode": {
    "name": "ipython",
    "version": 3
   },
   "file_extension": ".py",
   "mimetype": "text/x-python",
   "name": "python",
   "nbconvert_exporter": "python",
   "pygments_lexer": "ipython3",
   "version": "3.8.10"
  },
  "prev_pub_hash": "688f362e61a4f318ed825850470c0aa63ee726743053a10eeeebf1bfc0b625ae"
 },
 "nbformat": 4,
 "nbformat_minor": 4
}
