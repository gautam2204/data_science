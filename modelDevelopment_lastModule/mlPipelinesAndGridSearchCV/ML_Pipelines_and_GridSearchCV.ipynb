{
 "cells": [
  {
   "cell_type": "markdown",
   "id": "dbaec610-23d3-4174-9b53-643186e75912",
   "metadata": {},
   "source": [
    "<p style=\"text-align:center\">\n",
    "    <a href=\"https://skills.network\" target=\"_blank\">\n",
    "    <img src=\"https://cf-courses-data.s3.us.cloud-object-storage.appdomain.cloud/assets/logos/SN_web_lightmode.png\" width=\"200\" alt=\"Skills Network Logo\">\n",
    "    </a>\n",
    "</p>\n",
    "\n",
    "\n",
    "# Machine Learning Pipelines and GridSearchCV\n",
    "Estimated time needed: **25** minutes\n",
    "    \n",
    "\n",
    "## Objectives\n",
    "\n",
    "After completing this lab you will be able to:\n",
    "\n",
    "- Build and evaluate a machine learning pipeline\n",
    "- Implement GridSearchCV for hyperparameter tuning with crossvalidation\n",
    "- Implement and optimize a complex classification pipeline using real-world data\n",
    "- Extract feature importances from a trained pipeline\n"
   ]
  },
  {
   "cell_type": "markdown",
   "id": "d4a426d5-e7d9-4e7b-80a3-6c4c13c508ed",
   "metadata": {},
   "source": [
    "## Introduction\n",
    "In machine learning workflows, the Pipeline class from Scikit-Learn is invaluable for streamlining data preprocessing and model training into a single, coherent sequence. A pipeline is essentially a sequence of data transformers that culminates with an optional final predictor. This structure enables seamless integration of preprocessing and predictive modeling, ensuring that the same data transformations applied during training are consistently applied to new data during prediction.\n",
    "\n",
    "Each intermediate step in a pipeline must be a transformer, meaning it should implement both fit and transform methods. The final step, which is typically a predictive model, or estimator, only requires a fit method. The entire pipeline can be trained simultaneously using a method like GridSearchCV, resulting in self-contained predictor that can be used to make predictions on unseen data.\n",
    "\n",
    "Importantly, the pipeline allows you to set the parameters of each of these steps using their names and parameter names connected by a double underscore `__`. For example, if a pipeline step is named `imputer` and you want to change its strategy, you can pass a parameter like `imputer__strategy='median'`. Additionally, steps can be entirely swapped out by assigning a different estimator or even bypassed by setting them to `'passthrough'` or `None`.\n",
    "\n",
    "A major advantage of using a pipeline is that it enables comprehensive cross-validation and hyperparameter tuning for all steps simultaneously. By integrating the pipeline within GridSearchCV, you can fine-tune not only the model but also the preprocessing steps, leading to optimized overall performance. Pipelines are essential for scenarios where preprocessing involves estimators performing operations like scaling, encoding categorical variables, imputing missing values, and dimensionality reduction. Pipelines ensure these steps are reproducibly applied to both training and test data.\n"
   ]
  },
  {
   "cell_type": "markdown",
   "id": "479f320c-9439-4a80-8840-94f0d8f674b2",
   "metadata": {},
   "source": [
    "In this lab you will:\n",
    "- Generate synthetic data for running targeted experiments using scikit-learn\n",
    "- Train and evaluate a KNN classification model using a pipeline\n",
    "- Tune model hyperparameters using a pipeline within a cross-validation grid search\n",
    "- Build a more complex random forest classification pipeline using real-world data\n",
    "- Extract the feature importances from the trained pipeline\n",
    "\n",
    "Your goal in this lab is to learn how to build and optimize a complex machine learning model using a pipeline and crossvalidation to tune its hyperparameters.\n",
    "\n",
    "The Practice Project, which follows next, is more hands-on. There you will participate by completing code segments and formulating responses to more open-ended questions.\n",
    "The better you understand this lab, the easier the Practice Project and Final Project will be for you.\n"
   ]
  },
  {
   "cell_type": "markdown",
   "id": "f03798fd-967d-4d4e-8407-78a246b9d7c1",
   "metadata": {},
   "source": [
    "## Import the required libraries\n"
   ]
  },
  {
   "cell_type": "markdown",
   "id": "d4f6392b-6019-40a5-9bc0-e2b2058355bb",
   "metadata": {},
   "source": [
    "First, to make sure that the required libraries are available, run the following cell.\n"
   ]
  },
  {
   "cell_type": "code",
   "execution_count": null,
   "id": "ca928370-ff6d-40ae-9f79-bfd1f6e10e9e",
   "metadata": {},
   "outputs": [],
   "source": [
    "# !pip install scikit-learn==1.6.0\n",
    "# !pip install matplotlib==3.9.3\n",
    "# !pip install seaborn==0.13.2"
   ]
  },
  {
   "cell_type": "markdown",
   "id": "59a18d43-9dcf-4dd3-95aa-8c1451908190",
   "metadata": {},
   "source": [
    "Now, you can import the required libraries and relevant functions.\n"
   ]
  },
  {
   "cell_type": "code",
   "execution_count": 1,
   "id": "9a1d0741-b273-4b68-8576-222116cf1bb8",
   "metadata": {},
   "outputs": [],
   "source": [
    "import matplotlib.pyplot as plt\n",
    "from sklearn.datasets import load_iris\n",
    "from sklearn.model_selection import train_test_split, GridSearchCV, StratifiedKFold\n",
    "from sklearn.preprocessing import StandardScaler\n",
    "from sklearn.decomposition import PCA\n",
    "from sklearn.neighbors import KNeighborsClassifier\n",
    "from sklearn.pipeline import Pipeline\n",
    "import seaborn as sns\n",
    "from sklearn.metrics import confusion_matrix"
   ]
  },
  {
   "cell_type": "markdown",
   "id": "6313f395-971a-4b27-8ddd-3ed9e3b440ef",
   "metadata": {},
   "source": [
    "## Train a model using a pipeline\n",
    "We'll start with an example of building a pipeline, fitting it to the Iris data, and evaluating its accuracy.\n"
   ]
  },
  {
   "cell_type": "markdown",
   "id": "200fed42-d663-4afe-9301-60bd6b873d44",
   "metadata": {},
   "source": [
    "### Load the Iris data set\n"
   ]
  },
  {
   "cell_type": "code",
   "execution_count": 2,
   "id": "1b97301c-fa7b-448e-a9c2-01b85b09bf8a",
   "metadata": {},
   "outputs": [],
   "source": [
    "data = load_iris()\n",
    "X, y = data.data, data.target\n",
    "labels = data.target_names"
   ]
  },
  {
   "cell_type": "markdown",
   "id": "f0e21930-893f-4664-8e91-3ac5c26be1f4",
   "metadata": {},
   "source": [
    "### Instantiate a pipeline consisting of StandardScaler, PCA, and KNeighborsClassifier\n"
   ]
  },
  {
   "cell_type": "code",
   "execution_count": 3,
   "id": "49fbfe9f-e9e8-4008-a9b2-43d7d5324218",
   "metadata": {},
   "outputs": [],
   "source": [
    "pipeline = Pipeline([\n",
    "    ('scaler', StandardScaler()),       # Step 1: Standardize features\n",
    "    ('pca', PCA(n_components=2),),       # Step 2: Reduce dimensions to 2 using PCA\n",
    "    ('knn', KNeighborsClassifier(n_neighbors=5,))  # Step 3: K-Nearest Neighbors classifier\n",
    "])"
   ]
  },
  {
   "cell_type": "markdown",
   "id": "e302c196-5229-49d8-a4c8-2a997c6bb2cc",
   "metadata": {},
   "source": [
    "### Exercise 1. Split the data into training and test sets\n",
    "Be sure to stratify the target.\n"
   ]
  },
  {
   "cell_type": "code",
   "execution_count": 4,
   "id": "512fcac7-977f-4c1b-a9de-3136e7030ec8",
   "metadata": {},
   "outputs": [],
   "source": [
    "# Enter your code here\n",
    "X_train, X_test, y_train, y_test = train_test_split(X, y, test_size=0.2, random_state=42, stratify=y)"
   ]
  },
  {
   "cell_type": "markdown",
   "id": "d3fba8a5-4710-4593-8de5-37bb77ab51f9",
   "metadata": {},
   "source": [
    "<details><summary>Click here for the solution</summary>\n",
    "X_train, X_test, y_train, y_test = train_test_split(X, y, test_size=0.2, random_state=42, stratify=y)\n",
    "</details>\n"
   ]
  },
  {
   "cell_type": "markdown",
   "id": "31f3af01-6b78-4729-ba0c-52dca29426a1",
   "metadata": {},
   "source": [
    "### Fit the pipeline on the training set\n",
    "The pipeline consists of a sequence of three estimators, and should be viewed as the machine learning model we are training and testing.  \n",
    "Let's go ahead and fit the model to the training data and evaluate its accuracy.\n"
   ]
  },
  {
   "cell_type": "code",
   "execution_count": 5,
   "id": "56a18c96-a62a-448d-b87b-5ae06a3e2c37",
   "metadata": {},
   "outputs": [
    {
     "name": "stdout",
     "output_type": "stream",
     "text": [
      "0.900\n"
     ]
    }
   ],
   "source": [
    "pipeline.fit(X_train, y_train)\n",
    "\n",
    "# Measure the pipeline accuracy on the test data\n",
    "test_score = pipeline.score(X_test, y_test)\n",
    "print(f\"{test_score:.3f}\")"
   ]
  },
  {
   "cell_type": "markdown",
   "id": "37a4b7be-b475-4f76-9106-c3aa4ec1979d",
   "metadata": {},
   "source": [
    "### Get the model predictions\n"
   ]
  },
  {
   "cell_type": "code",
   "execution_count": 6,
   "id": "3293812d-a276-4e1c-a393-3b56348d8376",
   "metadata": {},
   "outputs": [],
   "source": [
    "y_pred = pipeline.predict(X_test)"
   ]
  },
  {
   "cell_type": "markdown",
   "id": "46443b13-6af7-4ee3-9131-9d6b554c807c",
   "metadata": {},
   "source": [
    "### Exercise 2. Generate the confusion matrix for the KNN model and plot it\n"
   ]
  },
  {
   "cell_type": "code",
   "execution_count": 7,
   "id": "c55dfbed-06a2-451c-ba4a-cbffaace9ff8",
   "metadata": {},
   "outputs": [
    {
     "data": {
      "image/png": "[encoded data removed]",
      "text/plain": [
       "<Figure size 640x480 with 2 Axes>"
      ]
     },
     "metadata": {},
     "output_type": "display_data"
    }
   ],
   "source": [
    "# Enter your code here\n",
    "conf_matrix = confusion_matrix(y_test, y_pred)\n",
    "\n",
    "# Create a single plot for the confusion matrix\n",
    "plt.figure()\n",
    "sns.heatmap(conf_matrix, annot=True, cmap='Blues', fmt='d',\n",
    "            xticklabels=labels, yticklabels=labels)\n",
    "\n",
    "# Set the title and labels\n",
    "plt.title('Classification Pipeline Confusion Matrix')\n",
    "plt.xlabel('Predicted')\n",
    "plt.ylabel('Actual')\n",
    "\n",
    "# Show the plot\n",
    "plt.tight_layout()\n",
    "plt.show()"
   ]
  },
  {
   "cell_type": "markdown",
   "id": "0abc49e9-20db-4670-bcd6-0e54851f15b4",
   "metadata": {},
   "source": [
    "<details><summary>Click here for the solution</summary>\n",
    "    \n",
    "```python\n",
    "# generate the confusion matrix\n",
    "conf_matrix = confusion_matrix(y_test, y_pred)\n",
    "\n",
    "# Create a plot for the confusion matrix\n",
    "plt.figure()\n",
    "sns.heatmap(conf_matrix, annot=True, cmap='Blues', fmt='d',\n",
    "            xticklabels=labels, yticklabels=labels)\n",
    "\n",
    "# Set the title and labels\n",
    "plt.title('Classification Pipeline Confusion Matrix')\n",
    "plt.xlabel('Predicted')\n",
    "plt.ylabel('Actual')\n",
    "\n",
    "# Show the plot\n",
    "plt.tight_layout()\n",
    "plt.show()\n",
    "```\n",
    "</details>\n"
   ]
  },
  {
   "cell_type": "markdown",
   "id": "275f7ce4-acf5-4011-ac21-0c8fbd4a4129",
   "metadata": {},
   "source": [
    "### Exercise 3. Describe the errors made by the model.\n"
   ]
  },
  {
   "cell_type": "markdown",
   "id": "0ed3fa5b-d846-4601-86f1-faa82f26d930",
   "metadata": {},
   "source": [
    "<details><summary>Click here for the solution</summary>\n",
    "The model incorectly classified two viginica irises as versicolor, and one versicolor as virginica. Not bad, only three classification errors out of 30 irises on our first attempt! \n",
    "\n",
    "</details>\n"
   ]
  },
  {
   "cell_type": "markdown",
   "id": "21344a16-7cfa-4aec-8aca-c83831b7ed45",
   "metadata": {},
   "source": [
    "## Tune hyperparameters using a pipeline within cross-validation grid search\n",
    "We created a model but haven't yet attempted to optimize its performance.  Let's see if we can do better.\n",
    "Recall that it would be a mistake to keep running the model over and over again with different hyperparamters to find the best one.  \n",
    "You would effectively be overfiiting the model to your test data set.  \n",
    "The correct way to handle this tuning is to use cross validation. \n",
    "\n",
    "Let's see how it works, using the same data set.\n"
   ]
  },
  {
   "cell_type": "markdown",
   "id": "498fa087-22f9-4881-a7fd-5d6733e9f2db",
   "metadata": {},
   "source": [
    "### Instantiate the pipeline\n",
    "We'll preprocess the data by scaling it and transforming it onto a to-be-determined number of principle components, follow that up with a KNN model classifier, and combine these estimators into a pipeline. We'll then optimize the pipeline using crossvalidation over a hyperparameter grid search. This will allow us find the best model for the set of trial hyperparamters.\n"
   ]
  },
  {
   "cell_type": "code",
   "execution_count": 8,
   "id": "4ace09f5-779d-415b-aaa6-006eb616edbd",
   "metadata": {},
   "outputs": [],
   "source": [
    "# make a pipeline without specifying any parameters yet\n",
    "pipeline = Pipeline(\n",
    "                    [('scaler', StandardScaler()),\n",
    "                     ('pca', PCA()),\n",
    "                     ('knn', KNeighborsClassifier()) \n",
    "                    ]\n",
    "                   )"
   ]
  },
  {
   "cell_type": "markdown",
   "id": "5f8c674b-a7f8-4603-a865-fa143db97650",
   "metadata": {},
   "source": [
    "### Define a model parameter grid to search over\n"
   ]
  },
  {
   "cell_type": "code",
   "execution_count": 9,
   "id": "470b43f9-ad39-40a7-a0fd-bed7ae6f589c",
   "metadata": {},
   "outputs": [],
   "source": [
    "# Hyperparameter search grid for numbers of PCA components and KNN neighbors\n",
    "param_grid = {'pca__n_components': [2, 3],\n",
    "              'knn__n_neighbors': [3, 5, 7]\n",
    "             }"
   ]
  },
  {
   "cell_type": "markdown",
   "id": "0d09db91-f165-4217-a01e-b96bc4873e97",
   "metadata": {},
   "source": [
    "### Choose a cross validation method\n",
    "To ensure the target is stratified, we can use scikit-learn's `StratifiedKFold` cross-validation class.\n"
   ]
  },
  {
   "cell_type": "code",
   "execution_count": 10,
   "id": "91a275ae-54d7-4d94-9621-d41ba8d5e491",
   "metadata": {},
   "outputs": [],
   "source": [
    "cv = StratifiedKFold(n_splits=5, shuffle=True, random_state=42)"
   ]
  },
  {
   "cell_type": "markdown",
   "id": "e5be5000-e2cf-4c24-8c19-b5118c02bc71",
   "metadata": {},
   "source": [
    "### Exercise 4. Determine the best parameters\n",
    "Pass your `pipeline`, `param_grid`, and the `StratifiedKFold` cross validation method to `GridSearchCV` \n"
   ]
  },
  {
   "cell_type": "code",
   "execution_count": 11,
   "id": "b448bd35-d737-462a-bf48-046d0af8ba8a",
   "metadata": {},
   "outputs": [],
   "source": [
    "# Enter your code here \n",
    "best_model = GridSearchCV(estimator=pipeline,\n",
    "                          param_grid=param_grid,\n",
    "                          cv=cv,\n",
    "                          scoring='accuracy',\n",
    "                          verbose=2\n",
    "                         )"
   ]
  },
  {
   "cell_type": "markdown",
   "id": "8b390093-10fe-41c4-812b-0a6e80287cf2",
   "metadata": {},
   "source": [
    "<details><summary>Click here for the solution</summary>\n",
    "    \n",
    "```python\n",
    "best_model = GridSearchCV(estimator=pipeline,\n",
    "                          param_grid=param_grid,\n",
    "                          cv=cv,\n",
    "                          scoring='accuracy',\n",
    "                          verbose=2\n",
    "                         )\n",
    "```\n"
   ]
  },
  {
   "cell_type": "markdown",
   "id": "a9ac9e5d-f445-4220-9824-e309fd1695f6",
   "metadata": {},
   "source": [
    "### Fit the best `GridSearchCV` model to the training data\n"
   ]
  },
  {
   "cell_type": "code",
   "execution_count": 12,
   "id": "874a9d82-c0eb-4d7e-b7fc-92428f95e7d6",
   "metadata": {},
   "outputs": [
    {
     "name": "stdout",
     "output_type": "stream",
     "text": [
      "Fitting 5 folds for each of 6 candidates, totalling 30 fits\n",
      "[CV] END ............knn__n_neighbors=3, pca__n_components=2; total time=   0.0s\n",
      "[CV] END ............knn__n_neighbors=3, pca__n_components=2; total time=   0.0s\n",
      "[CV] END ............knn__n_neighbors=3, pca__n_components=2; total time=   0.0s\n",
      "[CV] END ............knn__n_neighbors=3, pca__n_components=2; total time=   0.0s\n",
      "[CV] END ............knn__n_neighbors=3, pca__n_components=2; total time=   0.0s\n",
      "[CV] END ............knn__n_neighbors=3, pca__n_components=3; total time=   0.0s\n",
      "[CV] END ............knn__n_neighbors=3, pca__n_components=3; total time=   0.0s\n",
      "[CV] END ............knn__n_neighbors=3, pca__n_components=3; total time=   0.0s\n",
      "[CV] END ............knn__n_neighbors=3, pca__n_components=3; total time=   0.0s\n",
      "[CV] END ............knn__n_neighbors=3, pca__n_components=3; total time=   0.0s\n",
      "[CV] END ............knn__n_neighbors=5, pca__n_components=2; total time=   0.0s\n",
      "[CV] END ............knn__n_neighbors=5, pca__n_components=2; total time=   0.0s\n",
      "[CV] END ............knn__n_neighbors=5, pca__n_components=2; total time=   0.0s\n",
      "[CV] END ............knn__n_neighbors=5, pca__n_components=2; total time=   0.0s\n",
      "[CV] END ............knn__n_neighbors=5, pca__n_components=2; total time=   0.0s\n",
      "[CV] END ............knn__n_neighbors=5, pca__n_components=3; total time=   0.0s\n",
      "[CV] END ............knn__n_neighbors=5, pca__n_components=3; total time=   0.0s\n",
      "[CV] END ............knn__n_neighbors=5, pca__n_components=3; total time=   0.0s\n",
      "[CV] END ............knn__n_neighbors=5, pca__n_components=3; total time=   0.0s\n",
      "[CV] END ............knn__n_neighbors=5, pca__n_components=3; total time=   0.0s\n",
      "[CV] END ............knn__n_neighbors=7, pca__n_components=2; total time=   0.0s\n",
      "[CV] END ............knn__n_neighbors=7, pca__n_components=2; total time=   0.0s\n",
      "[CV] END ............knn__n_neighbors=7, pca__n_components=2; total time=   0.0s\n",
      "[CV] END ............knn__n_neighbors=7, pca__n_components=2; total time=   0.0s\n",
      "[CV] END ............knn__n_neighbors=7, pca__n_components=2; total time=   0.0s\n",
      "[CV] END ............knn__n_neighbors=7, pca__n_components=3; total time=   0.0s\n",
      "[CV] END ............knn__n_neighbors=7, pca__n_components=3; total time=   0.0s\n",
      "[CV] END ............knn__n_neighbors=7, pca__n_components=3; total time=   0.0s\n",
      "[CV] END ............knn__n_neighbors=7, pca__n_components=3; total time=   0.0s\n",
      "[CV] END ............knn__n_neighbors=7, pca__n_components=3; total time=   0.0s\n"
     ]
    },
    {
     "data": {
      "text/html": [
       "<style>#sk-container-id-1 {color: black;}#sk-container-id-1 pre{padding: 0;}#sk-container-id-1 div.sk-toggleable {background-color: white;}#sk-container-id-1 label.sk-toggleable__label {cursor: pointer;display: block;width: 100%;margin-bottom: 0;padding: 0.3em;box-sizing: border-box;text-align: center;}#sk-container-id-1 label.sk-toggleable__label-arrow:before {content: \"▸\";float: left;margin-right: 0.25em;color: #696969;}#sk-container-id-1 label.sk-toggleable__label-arrow:hover:before {color: black;}#sk-container-id-1 div.sk-estimator:hover label.sk-toggleable__label-arrow:before {color: black;}#sk-container-id-1 div.sk-toggleable__content {max-height: 0;max-width: 0;overflow: hidden;text-align: left;background-color: #f0f8ff;}#sk-container-id-1 div.sk-toggleable__content pre {margin: 0.2em;color: black;border-radius: 0.25em;background-color: #f0f8ff;}#sk-container-id-1 input.sk-toggleable__control:checked~div.sk-toggleable__content {max-height: 200px;max-width: 100%;overflow: auto;}#sk-container-id-1 input.sk-toggleable__control:checked~label.sk-toggleable__label-arrow:before {content: \"▾\";}#sk-container-id-1 div.sk-estimator input.sk-toggleable__control:checked~label.sk-toggleable__label {background-color: #d4ebff;}#sk-container-id-1 div.sk-label input.sk-toggleable__control:checked~label.sk-toggleable__label {background-color: #d4ebff;}#sk-container-id-1 input.sk-hidden--visually {border: 0;clip: rect(1px 1px 1px 1px);clip: rect(1px, 1px, 1px, 1px);height: 1px;margin: -1px;overflow: hidden;padding: 0;position: absolute;width: 1px;}#sk-container-id-1 div.sk-estimator {font-family: monospace;background-color: #f0f8ff;border: 1px dotted black;border-radius: 0.25em;box-sizing: border-box;margin-bottom: 0.5em;}#sk-container-id-1 div.sk-estimator:hover {background-color: #d4ebff;}#sk-container-id-1 div.sk-parallel-item::after {content: \"\";width: 100%;border-bottom: 1px solid gray;flex-grow: 1;}#sk-container-id-1 div.sk-label:hover label.sk-toggleable__label {background-color: #d4ebff;}#sk-container-id-1 div.sk-serial::before {content: \"\";position: absolute;border-left: 1px solid gray;box-sizing: border-box;top: 0;bottom: 0;left: 50%;z-index: 0;}#sk-container-id-1 div.sk-serial {display: flex;flex-direction: column;align-items: center;background-color: white;padding-right: 0.2em;padding-left: 0.2em;position: relative;}#sk-container-id-1 div.sk-item {position: relative;z-index: 1;}#sk-container-id-1 div.sk-parallel {display: flex;align-items: stretch;justify-content: center;background-color: white;position: relative;}#sk-container-id-1 div.sk-item::before, #sk-container-id-1 div.sk-parallel-item::before {content: \"\";position: absolute;border-left: 1px solid gray;box-sizing: border-box;top: 0;bottom: 0;left: 50%;z-index: -1;}#sk-container-id-1 div.sk-parallel-item {display: flex;flex-direction: column;z-index: 1;position: relative;background-color: white;}#sk-container-id-1 div.sk-parallel-item:first-child::after {align-self: flex-end;width: 50%;}#sk-container-id-1 div.sk-parallel-item:last-child::after {align-self: flex-start;width: 50%;}#sk-container-id-1 div.sk-parallel-item:only-child::after {width: 0;}#sk-container-id-1 div.sk-dashed-wrapped {border: 1px dashed gray;margin: 0 0.4em 0.5em 0.4em;box-sizing: border-box;padding-bottom: 0.4em;background-color: white;}#sk-container-id-1 div.sk-label label {font-family: monospace;font-weight: bold;display: inline-block;line-height: 1.2em;}#sk-container-id-1 div.sk-label-container {text-align: center;}#sk-container-id-1 div.sk-container {/* jupyter's `normalize.less` sets `[hidden] { display: none; }` but bootstrap.min.css set `[hidden] { display: none !important; }` so we also need the `!important` here to be able to override the default hidden behavior on the sphinx rendered scikit-learn.org. See: https://github.com/scikit-learn/scikit-learn/issues/21755 */display: inline-block !important;position: relative;}#sk-container-id-1 div.sk-text-repr-fallback {display: none;}</style><div id=\"sk-container-id-1\" class=\"sk-top-container\"><div class=\"sk-text-repr-fallback\"><pre>GridSearchCV(cv=StratifiedKFold(n_splits=5, random_state=42, shuffle=True),\n",
       "             estimator=Pipeline(steps=[(&#x27;scaler&#x27;, StandardScaler()),\n",
       "                                       (&#x27;pca&#x27;, PCA()),\n",
       "                                       (&#x27;knn&#x27;, KNeighborsClassifier())]),\n",
       "             param_grid={&#x27;knn__n_neighbors&#x27;: [3, 5, 7],\n",
       "                         &#x27;pca__n_components&#x27;: [2, 3]},\n",
       "             scoring=&#x27;accuracy&#x27;, verbose=2)</pre><b>In a Jupyter environment, please rerun this cell to show the HTML representation or trust the notebook. <br />On GitHub, the HTML representation is unable to render, please try loading this page with nbviewer.org.</b></div><div class=\"sk-container\" hidden><div class=\"sk-item sk-dashed-wrapped\"><div class=\"sk-label-container\"><div class=\"sk-label sk-toggleable\"><input class=\"sk-toggleable__control sk-hidden--visually\" id=\"sk-estimator-id-1\" type=\"checkbox\" ><label for=\"sk-estimator-id-1\" class=\"sk-toggleable__label sk-toggleable__label-arrow\">GridSearchCV</label><div class=\"sk-toggleable__content\"><pre>GridSearchCV(cv=StratifiedKFold(n_splits=5, random_state=42, shuffle=True),\n",
       "             estimator=Pipeline(steps=[(&#x27;scaler&#x27;, StandardScaler()),\n",
       "                                       (&#x27;pca&#x27;, PCA()),\n",
       "                                       (&#x27;knn&#x27;, KNeighborsClassifier())]),\n",
       "             param_grid={&#x27;knn__n_neighbors&#x27;: [3, 5, 7],\n",
       "                         &#x27;pca__n_components&#x27;: [2, 3]},\n",
       "             scoring=&#x27;accuracy&#x27;, verbose=2)</pre></div></div></div><div class=\"sk-parallel\"><div class=\"sk-parallel-item\"><div class=\"sk-item\"><div class=\"sk-label-container\"><div class=\"sk-label sk-toggleable\"><input class=\"sk-toggleable__control sk-hidden--visually\" id=\"sk-estimator-id-2\" type=\"checkbox\" ><label for=\"sk-estimator-id-2\" class=\"sk-toggleable__label sk-toggleable__label-arrow\">estimator: Pipeline</label><div class=\"sk-toggleable__content\"><pre>Pipeline(steps=[(&#x27;scaler&#x27;, StandardScaler()), (&#x27;pca&#x27;, PCA()),\n",
       "                (&#x27;knn&#x27;, KNeighborsClassifier())])</pre></div></div></div><div class=\"sk-serial\"><div class=\"sk-item\"><div class=\"sk-serial\"><div class=\"sk-item\"><div class=\"sk-estimator sk-toggleable\"><input class=\"sk-toggleable__control sk-hidden--visually\" id=\"sk-estimator-id-3\" type=\"checkbox\" ><label for=\"sk-estimator-id-3\" class=\"sk-toggleable__label sk-toggleable__label-arrow\">StandardScaler</label><div class=\"sk-toggleable__content\"><pre>StandardScaler()</pre></div></div></div><div class=\"sk-item\"><div class=\"sk-estimator sk-toggleable\"><input class=\"sk-toggleable__control sk-hidden--visually\" id=\"sk-estimator-id-4\" type=\"checkbox\" ><label for=\"sk-estimator-id-4\" class=\"sk-toggleable__label sk-toggleable__label-arrow\">PCA</label><div class=\"sk-toggleable__content\"><pre>PCA()</pre></div></div></div><div class=\"sk-item\"><div class=\"sk-estimator sk-toggleable\"><input class=\"sk-toggleable__control sk-hidden--visually\" id=\"sk-estimator-id-5\" type=\"checkbox\" ><label for=\"sk-estimator-id-5\" class=\"sk-toggleable__label sk-toggleable__label-arrow\">KNeighborsClassifier</label><div class=\"sk-toggleable__content\"><pre>KNeighborsClassifier()</pre></div></div></div></div></div></div></div></div></div></div></div></div>"
      ],
      "text/plain": [
       "GridSearchCV(cv=StratifiedKFold(n_splits=5, random_state=42, shuffle=True),\n",
       "             estimator=Pipeline(steps=[('scaler', StandardScaler()),\n",
       "                                       ('pca', PCA()),\n",
       "                                       ('knn', KNeighborsClassifier())]),\n",
       "             param_grid={'knn__n_neighbors': [3, 5, 7],\n",
       "                         'pca__n_components': [2, 3]},\n",
       "             scoring='accuracy', verbose=2)"
      ]
     },
     "execution_count": 12,
     "metadata": {},
     "output_type": "execute_result"
    }
   ],
   "source": [
    "best_model.fit(X_train, y_train)"
   ]
  },
  {
   "cell_type": "markdown",
   "id": "54ee2ba8-3a5b-4336-9ab9-bb82b89be775",
   "metadata": {},
   "source": [
    "Go ahead and explore the `GridSearchCV` graphic that describes your estimator's structure, including the hyperparameters found for the best estimator.\n",
    "You can get specific help on each components by clicking on its question mark.\n"
   ]
  },
  {
   "cell_type": "markdown",
   "id": "7fce0a04-c63d-4c1c-9fec-09a4f3ab8ca4",
   "metadata": {},
   "source": [
    "### Exercise 5. Evaluate the accuracy of the best model on the test set\n"
   ]
  },
  {
   "cell_type": "code",
   "execution_count": 14,
   "id": "5730803f-e632-4158-b7ef-ad06a022891f",
   "metadata": {},
   "outputs": [
    {
     "name": "stdout",
     "output_type": "stream",
     "text": [
      "0.933\n"
     ]
    }
   ],
   "source": [
    "# Enter your code here\n",
    "test_score = best_model.score(X_test, y_test)\n",
    "print(f\"{test_score:.3f}\")"
   ]
  },
  {
   "cell_type": "markdown",
   "id": "aa849e2d-2157-4a94-9fc9-0d44dced07cc",
   "metadata": {},
   "source": [
    "<details><summary>Click here for the solution</summary>\n",
    "    \n",
    "```python\n",
    "test_score = best_model.score(X_test, y_test)\n",
    "print(f\"{test_score:.3f}\")\n",
    "```\n"
   ]
  },
  {
   "cell_type": "markdown",
   "id": "d6f36e8b-74cf-479c-9503-434cf2f7d8f2",
   "metadata": {},
   "source": [
    "We've made a great accuracy improvement from 90% to 93%.\n"
   ]
  },
  {
   "cell_type": "markdown",
   "id": "d9770711-0a0b-48b2-b451-059578cef48d",
   "metadata": {},
   "source": [
    "### Display the best parameters\n"
   ]
  },
  {
   "cell_type": "code",
   "execution_count": 15,
   "id": "d07dfad8-9685-4ddf-be70-2c5e6753f639",
   "metadata": {},
   "outputs": [
    {
     "data": {
      "text/plain": [
       "{'knn__n_neighbors': 3, 'pca__n_components': 3}"
      ]
     },
     "execution_count": 15,
     "metadata": {},
     "output_type": "execute_result"
    }
   ],
   "source": [
    "best_model.best_params_"
   ]
  },
  {
   "cell_type": "markdown",
   "id": "84f6d570-bda9-4f05-8be4-4e934b5add7c",
   "metadata": {},
   "source": [
    "### Plot the confusion matrix for the predictions on the test set\n"
   ]
  },
  {
   "cell_type": "code",
   "execution_count": 16,
   "id": "4a29068f-be4e-4a86-a466-ec39fb6d34fe",
   "metadata": {},
   "outputs": [
    {
     "data": {
      "image/png": "[encoded data removed]",
      "text/plain": [
       "<Figure size 640x480 with 2 Axes>"
      ]
     },
     "metadata": {},
     "output_type": "display_data"
    }
   ],
   "source": [
    "y_pred = best_model.predict(X_test)\n",
    "\n",
    "# Generate the confusion matrix for KNN\n",
    "conf_matrix = confusion_matrix(y_test, y_pred)\n",
    "\n",
    "# Create a single plot for the confusion matrix\n",
    "plt.figure()\n",
    "sns.heatmap(conf_matrix, annot=True, cmap='Blues', fmt='d',\n",
    "            xticklabels=labels, yticklabels=labels)\n",
    "\n",
    "# Set the title and labels\n",
    "plt.title('KNN Classification Testing Confusion Matrix')\n",
    "plt.xlabel('Predicted')\n",
    "plt.ylabel('Actual')\n",
    "\n",
    "# Show the plot\n",
    "plt.tight_layout()\n",
    "plt.show()\n"
   ]
  },
  {
   "cell_type": "markdown",
   "id": "cb01b363-0313-408f-99e9-1c2928172f91",
   "metadata": {},
   "source": [
    "That's impressive, only two errors where the predictions were Versicolor but the iris was actually a Virginica.\n",
    "\n",
    "That conludes the lab. You are now equipped with an advanced methodolgy for building sophisticated machine learning models from the ground up. Still, there is much to learn of course. Digging into the rich set of examples from scikit-learn's website is a must. The help documentation is also fantastic. You'll learn something every time you look for certain. Of course, there is no substitude for gaining experience through practice.\n",
    "\n",
    "Now it's time to roll up your sleeves and dive into a hands-on Practice Project.\n"
   ]
  },
  {
   "cell_type": "markdown",
   "id": "98c0836a-d0e8-44a3-8f15-d60d724e8eb7",
   "metadata": {},
   "source": [
    "### Congratulations! You've made it this far and are now equipped to complete your Practice Project in preparation for your final project!\n",
    "\n",
    "## Author\n",
    "\n",
    "<a href=\"https://www.linkedin.com/in/jpgrossman/\" target=\"_blank\">Jeff Grossman</a>\n",
    "\n",
    "### Other Contributor(s)\n",
    "\n",
    "<a href=\"https://www.linkedin.com/in/abhishek-gagneja-23051987/\" taget=\"_blank\">Abhishek Gagneja</a>\n",
    "\n",
    "\n",
    "<!-- ## Changelog\n",
    "\n",
    "| Date | Version | Changed by | Change Description |\n",
    "|:------------|:------|:------------------|:---------------------------------------|\n",
    "| 2024-11-20 | 1.0  | Jeff Grossman    | Create lab |\n",
    "\n",
    " -->\n",
    "<h3 align=\"center\"> © IBM Corporation. All rights reserved. <h3/>\n"
   ]
  },
  {
   "cell_type": "code",
   "execution_count": null,
   "id": "53c73a42-dc1c-46e3-aa42-6583178406ee",
   "metadata": {},
   "outputs": [],
   "source": []
  }
 ],
 "metadata": {
  "kernelspec": {
   "display_name": ".venv",
   "language": "python",
   "name": "python3"
  },
  "language_info": {
   "codemirror_mode": {
    "name": "ipython",
    "version": 3
   },
   "file_extension": ".py",
   "mimetype": "text/x-python",
   "name": "python",
   "nbconvert_exporter": "python",
   "pygments_lexer": "ipython3",
   "version": "3.8.10"
  },
  "prev_pub_hash": "e7c3fb2acbf8e20d7c922bea565e13c4bd9c7e201849ce552ff4b75a012796d5"
 },
 "nbformat": 4,
 "nbformat_minor": 4
}
