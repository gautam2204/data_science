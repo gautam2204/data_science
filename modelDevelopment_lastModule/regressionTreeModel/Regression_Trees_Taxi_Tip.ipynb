{
 "cells": [
  {
   "cell_type": "markdown",
   "id": "ffdf85ac-3b9e-4b0a-a719-e0c8a305245d",
   "metadata": {},
   "source": [
    "<p style=\"text-align:center\">\n",
    "    <a href=\"https://skills.network\" target=\"_blank\">\n",
    "    <img src=\"https://cf-courses-data.s3.us.cloud-object-storage.appdomain.cloud/assets/logos/SN_web_lightmode.png\" width=\"200\" alt=\"Skills Network Logo\">\n",
    "    </a>\n",
    "</p>\n"
   ]
  },
  {
   "cell_type": "markdown",
   "id": "64f72fc7-c6c1-4af0-914f-a691a45872ce",
   "metadata": {},
   "source": [
    "# **Regression Trees**\n"
   ]
  },
  {
   "cell_type": "markdown",
   "id": "5ad3a421-1f47-4653-817e-e4930fd6b766",
   "metadata": {},
   "source": [
    "Estimated time needed: **30** minutes\n"
   ]
  },
  {
   "cell_type": "markdown",
   "id": "c2ecd988-dac7-45a9-bf45-01476ce18c13",
   "metadata": {},
   "source": [
    "In this exercise session you will use a real dataset to train a regression tree model. The dataset includes information about taxi tip and was collected and provided to the NYC Taxi and Limousine Commission (TLC) by technology providers authorized under the Taxicab & Livery Passenger Enhancement Programs (TPEP/LPEP). You will use the trained model to predict the amount of tip paid. \n",
    "\n"
   ]
  },
  {
   "cell_type": "markdown",
   "id": "70cf28f7-4281-478d-947b-455183ad659a",
   "metadata": {},
   "source": [
    "## Objectives\n"
   ]
  },
  {
   "cell_type": "markdown",
   "id": "6e588f4e-9899-4d2f-87c2-01397fb4eff2",
   "metadata": {},
   "source": [
    "After completing this lab you will be able to:\n"
   ]
  },
  {
   "cell_type": "markdown",
   "id": "5ffc48b5-5776-4eb9-86db-92fc9bf87d05",
   "metadata": {},
   "source": [
    "* Perform basic data preprocessing using Scikit-Learn\n",
    "* Model a regression task using Scikit-Learn\n",
    "* Train a Decision Tree Regressor model\n",
    "* Run inference and assess the quality of the trained models\n"
   ]
  },
  {
   "cell_type": "markdown",
   "id": "c6a4d9dc-9eaa-41a4-a5b2-8b9238de6044",
   "metadata": {},
   "source": [
    "<h2>Introduction</h2>\n",
    "The dataset used in this exercise session is a subset of the publicly available <a><href='https://www1.nyc.gov/site/tlc/about/tlc-trip-record-data.page'>TLC Dataset</a> (all rights reserved by Taxi & Limousine Commission (TLC), City of New York). The prediction of the tip amount can be modeled as a regression problem. To train the model you can use part of the input dataset and the remaining data can be used to assess the quality of the trained model.\n",
    "    <br>\n",
    "</div>\n"
   ]
  },
  {
   "cell_type": "markdown",
   "id": "71858252-9d86-470e-829c-9dc09528807d",
   "metadata": {},
   "source": [
    "<div id=\"import_libraries\">\n",
    "    <h2>Import Libraries</h2>\n",
    "</div>\n"
   ]
  },
  {
   "cell_type": "markdown",
   "id": "6751678b-a81f-4e67-b229-e805d50583ad",
   "metadata": {},
   "source": [
    "Make sure the libraries required are available by executing the cell below.\n"
   ]
  },
  {
   "cell_type": "code",
   "execution_count": null,
   "id": "496499c6-8422-4227-aa5e-31f913dc7678",
   "metadata": {},
   "outputs": [],
   "source": [
    "# !pip install numpy\n",
    "# !pip install pandas\n",
    "# !pip install matplotlib\n",
    "# !pip install scikit-learn"
   ]
  },
  {
   "cell_type": "markdown",
   "id": "0394a98c-85ff-48ad-b0b1-3a05ad600669",
   "metadata": {},
   "source": [
    "Import the libraries we need to use in this lab\n"
   ]
  },
  {
   "cell_type": "code",
   "execution_count": 1,
   "id": "51c00769-ae74-4f72-9e41-be1b0e342f2c",
   "metadata": {},
   "outputs": [],
   "source": [
    "from __future__ import print_function\n",
    "import numpy as np\n",
    "import pandas as pd\n",
    "import matplotlib.pyplot as plt\n",
    "%matplotlib inline\n",
    "\n",
    "from sklearn.model_selection import train_test_split\n",
    "from sklearn.preprocessing import normalize\n",
    "from sklearn.metrics import mean_squared_error\n",
    "\n",
    "import warnings\n",
    "warnings.filterwarnings('ignore')"
   ]
  },
  {
   "cell_type": "markdown",
   "id": "cdd6db40-7a08-4f82-b1a2-76f340d0584d",
   "metadata": {},
   "source": [
    "<div id=\"dataset_analysis\">\n",
    "    <h2>Dataset Analysis</h2>\n",
    "</div>\n"
   ]
  },
  {
   "cell_type": "markdown",
   "id": "5f7cc1fd-0f88-4eff-804b-a25f356e34a9",
   "metadata": {},
   "source": [
    "In this section you will read the dataset in a Pandas dataframe and visualize its content. You will also look at some data statistics.\n",
    "\n",
    "Note: A Pandas dataframe is a two-dimensional, size-mutable, potentially heterogeneous tabular data structure. For more information: https://pandas.pydata.org/docs/reference/api/pandas.DataFrame.html.\n"
   ]
  },
  {
   "cell_type": "code",
   "execution_count": 2,
   "id": "1e46a06b-2098-45f3-b298-a10916d6a187",
   "metadata": {},
   "outputs": [
    {
     "data": {
      "application/vnd.microsoft.datawrangler.viewer.v0+json": {
       "columns": [
        {
         "name": "index",
         "rawType": "int64",
         "type": "integer"
        },
        {
         "name": "VendorID",
         "rawType": "int64",
         "type": "integer"
        },
        {
         "name": "passenger_count",
         "rawType": "int64",
         "type": "integer"
        },
        {
         "name": "trip_distance",
         "rawType": "float64",
         "type": "float"
        },
        {
         "name": "RatecodeID",
         "rawType": "int64",
         "type": "integer"
        },
        {
         "name": "store_and_fwd_flag",
         "rawType": "int64",
         "type": "integer"
        },
        {
         "name": "PULocationID",
         "rawType": "int64",
         "type": "integer"
        },
        {
         "name": "DOLocationID",
         "rawType": "int64",
         "type": "integer"
        },
        {
         "name": "payment_type",
         "rawType": "int64",
         "type": "integer"
        },
        {
         "name": "fare_amount",
         "rawType": "float64",
         "type": "float"
        },
        {
         "name": "mta_tax",
         "rawType": "float64",
         "type": "float"
        },
        {
         "name": "tolls_amount",
         "rawType": "float64",
         "type": "float"
        },
        {
         "name": "improvement_surcharge",
         "rawType": "int64",
         "type": "integer"
        },
        {
         "name": "tip_amount",
         "rawType": "float64",
         "type": "float"
        }
       ],
       "conversionMethod": "pd.DataFrame",
       "ref": "d24202ff-7143-440e-a335-2e8127118660",
       "rows": [
        [
         "0",
         "2",
         "1",
         "17.63",
         "2",
         "1",
         "132",
         "164",
         "1",
         "70.0",
         "0.5",
         "6.94",
         "1",
         "16.54"
        ],
        [
         "1",
         "2",
         "1",
         "19.52",
         "2",
         "1",
         "132",
         "236",
         "1",
         "70.0",
         "0.5",
         "6.94",
         "1",
         "16.19"
        ],
        [
         "2",
         "2",
         "1",
         "17.81",
         "2",
         "1",
         "132",
         "48",
         "1",
         "70.0",
         "0.5",
         "6.94",
         "1",
         "12.0"
        ],
        [
         "3",
         "2",
         "2",
         "19.3",
         "2",
         "1",
         "132",
         "148",
         "1",
         "70.0",
         "0.5",
         "0.0",
         "1",
         "5.0"
        ],
        [
         "4",
         "2",
         "1",
         "18.75",
         "2",
         "1",
         "132",
         "234",
         "1",
         "70.0",
         "0.5",
         "6.94",
         "1",
         "10.0"
        ],
        [
         "5",
         "2",
         "1",
         "18.9",
         "2",
         "1",
         "132",
         "211",
         "1",
         "70.0",
         "0.5",
         "0.0",
         "1",
         "8.0"
        ],
        [
         "6",
         "2",
         "1",
         "19.37",
         "2",
         "1",
         "132",
         "158",
         "1",
         "70.0",
         "0.5",
         "0.0",
         "1",
         "7.58"
        ],
        [
         "7",
         "2",
         "3",
         "17.35",
         "2",
         "1",
         "132",
         "161",
         "1",
         "70.0",
         "0.5",
         "6.94",
         "1",
         "16.19"
        ],
        [
         "8",
         "2",
         "1",
         "17.03",
         "2",
         "1",
         "132",
         "170",
         "1",
         "70.0",
         "0.5",
         "6.94",
         "1",
         "16.19"
        ],
        [
         "9",
         "2",
         "1",
         "20.42",
         "2",
         "1",
         "132",
         "141",
         "1",
         "70.0",
         "0.5",
         "6.94",
         "1",
         "20.23"
        ],
        [
         "10",
         "2",
         "1",
         "17.67",
         "2",
         "1",
         "132",
         "48",
         "1",
         "70.0",
         "0.5",
         "6.94",
         "1",
         "16.54"
        ],
        [
         "11",
         "2",
         "1",
         "18.41",
         "2",
         "1",
         "132",
         "48",
         "1",
         "70.0",
         "0.5",
         "6.94",
         "1",
         "16.54"
        ],
        [
         "12",
         "2",
         "2",
         "17.4",
         "2",
         "1",
         "132",
         "100",
         "1",
         "70.0",
         "0.5",
         "6.94",
         "1",
         "10.0"
        ],
        [
         "13",
         "2",
         "1",
         "18.88",
         "2",
         "1",
         "132",
         "262",
         "1",
         "70.0",
         "0.5",
         "6.94",
         "1",
         "8.09"
        ],
        [
         "14",
         "2",
         "1",
         "17.41",
         "2",
         "1",
         "132",
         "68",
         "1",
         "70.0",
         "0.5",
         "6.94",
         "1",
         "16.54"
        ],
        [
         "15",
         "2",
         "1",
         "17.09",
         "2",
         "1",
         "132",
         "164",
         "1",
         "70.0",
         "0.5",
         "6.94",
         "1",
         "10.0"
        ],
        [
         "16",
         "2",
         "1",
         "18.56",
         "2",
         "1",
         "132",
         "113",
         "1",
         "70.0",
         "0.5",
         "6.94",
         "1",
         "16.54"
        ],
        [
         "17",
         "2",
         "5",
         "17.75",
         "2",
         "1",
         "132",
         "164",
         "1",
         "70.0",
         "0.5",
         "6.94",
         "1",
         "10.0"
        ],
        [
         "18",
         "2",
         "1",
         "17.33",
         "2",
         "1",
         "132",
         "137",
         "1",
         "70.0",
         "0.5",
         "6.94",
         "1",
         "16.54"
        ],
        [
         "19",
         "2",
         "1",
         "18.83",
         "2",
         "1",
         "132",
         "231",
         "1",
         "70.0",
         "0.5",
         "0.0",
         "1",
         "14.8"
        ],
        [
         "20",
         "2",
         "4",
         "16.89",
         "2",
         "1",
         "132",
         "161",
         "1",
         "70.0",
         "0.5",
         "6.94",
         "1",
         "20.23"
        ],
        [
         "21",
         "2",
         "2",
         "20.25",
         "2",
         "1",
         "132",
         "238",
         "1",
         "70.0",
         "0.5",
         "6.94",
         "1",
         "7.31"
        ],
        [
         "22",
         "2",
         "1",
         "18.89",
         "2",
         "1",
         "132",
         "143",
         "1",
         "70.0",
         "0.5",
         "0.0",
         "1",
         "10.0"
        ],
        [
         "23",
         "2",
         "2",
         "22.16",
         "2",
         "1",
         "132",
         "142",
         "1",
         "70.0",
         "0.5",
         "6.94",
         "1",
         "4.13"
        ],
        [
         "24",
         "2",
         "1",
         "19.58",
         "2",
         "1",
         "132",
         "90",
         "1",
         "70.0",
         "0.5",
         "6.94",
         "1",
         "20.0"
        ],
        [
         "25",
         "2",
         "3",
         "17.89",
         "2",
         "1",
         "132",
         "224",
         "1",
         "70.0",
         "0.5",
         "6.94",
         "1",
         "16.19"
        ],
        [
         "26",
         "2",
         "1",
         "18.14",
         "2",
         "1",
         "132",
         "229",
         "1",
         "70.0",
         "0.5",
         "6.94",
         "1",
         "16.19"
        ],
        [
         "27",
         "2",
         "2",
         "23.09",
         "2",
         "1",
         "132",
         "234",
         "1",
         "70.0",
         "0.5",
         "6.94",
         "1",
         "16.54"
        ],
        [
         "28",
         "2",
         "1",
         "17.52",
         "2",
         "1",
         "132",
         "148",
         "1",
         "70.0",
         "0.5",
         "0.0",
         "1",
         "14.8"
        ],
        [
         "29",
         "2",
         "2",
         "17.17",
         "2",
         "1",
         "132",
         "229",
         "1",
         "70.0",
         "0.5",
         "6.94",
         "1",
         "16.19"
        ],
        [
         "30",
         "2",
         "1",
         "18.0",
         "2",
         "1",
         "132",
         "137",
         "1",
         "70.0",
         "0.5",
         "6.94",
         "1",
         "16.19"
        ],
        [
         "31",
         "2",
         "1",
         "16.48",
         "2",
         "1",
         "132",
         "164",
         "1",
         "70.0",
         "0.5",
         "6.94",
         "1",
         "20.67"
        ],
        [
         "32",
         "2",
         "1",
         "17.76",
         "2",
         "1",
         "132",
         "224",
         "1",
         "70.0",
         "0.5",
         "6.94",
         "1",
         "16.19"
        ],
        [
         "33",
         "2",
         "1",
         "17.59",
         "2",
         "1",
         "132",
         "114",
         "1",
         "70.0",
         "0.5",
         "6.94",
         "1",
         "12.4"
        ],
        [
         "34",
         "2",
         "2",
         "24.89",
         "2",
         "1",
         "132",
         "87",
         "1",
         "70.0",
         "0.5",
         "0.0",
         "1",
         "14.8"
        ],
        [
         "35",
         "2",
         "1",
         "19.51",
         "2",
         "1",
         "132",
         "239",
         "1",
         "70.0",
         "0.5",
         "0.0",
         "1",
         "15.15"
        ],
        [
         "36",
         "2",
         "1",
         "18.53",
         "2",
         "1",
         "132",
         "48",
         "1",
         "70.0",
         "0.5",
         "6.94",
         "1",
         "16.19"
        ],
        [
         "37",
         "2",
         "1",
         "19.26",
         "2",
         "1",
         "132",
         "262",
         "1",
         "70.0",
         "0.5",
         "6.94",
         "1",
         "16.19"
        ],
        [
         "38",
         "2",
         "2",
         "17.31",
         "2",
         "1",
         "132",
         "161",
         "1",
         "70.0",
         "0.5",
         "6.94",
         "1",
         "5.0"
        ],
        [
         "39",
         "2",
         "2",
         "17.54",
         "2",
         "1",
         "132",
         "230",
         "1",
         "70.0",
         "0.5",
         "6.94",
         "1",
         "10.0"
        ],
        [
         "40",
         "2",
         "1",
         "19.15",
         "2",
         "1",
         "132",
         "113",
         "1",
         "70.0",
         "0.5",
         "6.94",
         "1",
         "24.28"
        ],
        [
         "41",
         "2",
         "1",
         "18.26",
         "2",
         "1",
         "132",
         "68",
         "1",
         "70.0",
         "0.5",
         "6.94",
         "1",
         "16.19"
        ],
        [
         "42",
         "2",
         "1",
         "18.18",
         "2",
         "1",
         "132",
         "186",
         "1",
         "70.0",
         "0.5",
         "6.94",
         "1",
         "7.31"
        ],
        [
         "43",
         "2",
         "1",
         "17.6",
         "2",
         "1",
         "132",
         "164",
         "1",
         "70.0",
         "0.5",
         "6.94",
         "1",
         "8.0"
        ],
        [
         "44",
         "2",
         "2",
         "18.79",
         "2",
         "1",
         "132",
         "231",
         "1",
         "70.0",
         "0.5",
         "0.0",
         "1",
         "7.0"
        ],
        [
         "45",
         "2",
         "1",
         "19.38",
         "2",
         "1",
         "132",
         "50",
         "1",
         "70.0",
         "0.5",
         "6.94",
         "1",
         "16.54"
        ],
        [
         "46",
         "2",
         "2",
         "17.75",
         "2",
         "1",
         "132",
         "230",
         "1",
         "70.0",
         "0.5",
         "6.94",
         "1",
         "16.19"
        ],
        [
         "47",
         "2",
         "2",
         "17.96",
         "2",
         "1",
         "132",
         "231",
         "1",
         "70.0",
         "0.5",
         "0.0",
         "1",
         "14.8"
        ],
        [
         "48",
         "2",
         "4",
         "28.72",
         "2",
         "1",
         "132",
         "249",
         "1",
         "70.0",
         "0.5",
         "6.94",
         "1",
         "16.19"
        ],
        [
         "49",
         "2",
         "1",
         "18.0",
         "2",
         "1",
         "132",
         "164",
         "1",
         "70.0",
         "0.5",
         "6.94",
         "1",
         "10.0"
        ]
       ],
       "shape": {
        "columns": 13,
        "rows": 41202
       }
      },
      "text/html": [
       "<div>\n",
       "<style scoped>\n",
       "    .dataframe tbody tr th:only-of-type {\n",
       "        vertical-align: middle;\n",
       "    }\n",
       "\n",
       "    .dataframe tbody tr th {\n",
       "        vertical-align: top;\n",
       "    }\n",
       "\n",
       "    .dataframe thead th {\n",
       "        text-align: right;\n",
       "    }\n",
       "</style>\n",
       "<table border=\"1\" class=\"dataframe\">\n",
       "  <thead>\n",
       "    <tr style=\"text-align: right;\">\n",
       "      <th></th>\n",
       "      <th>VendorID</th>\n",
       "      <th>passenger_count</th>\n",
       "      <th>trip_distance</th>\n",
       "      <th>RatecodeID</th>\n",
       "      <th>store_and_fwd_flag</th>\n",
       "      <th>PULocationID</th>\n",
       "      <th>DOLocationID</th>\n",
       "      <th>payment_type</th>\n",
       "      <th>fare_amount</th>\n",
       "      <th>mta_tax</th>\n",
       "      <th>tolls_amount</th>\n",
       "      <th>improvement_surcharge</th>\n",
       "      <th>tip_amount</th>\n",
       "    </tr>\n",
       "  </thead>\n",
       "  <tbody>\n",
       "    <tr>\n",
       "      <th>0</th>\n",
       "      <td>2</td>\n",
       "      <td>1</td>\n",
       "      <td>17.63</td>\n",
       "      <td>2</td>\n",
       "      <td>1</td>\n",
       "      <td>132</td>\n",
       "      <td>164</td>\n",
       "      <td>1</td>\n",
       "      <td>70.0</td>\n",
       "      <td>0.5</td>\n",
       "      <td>6.94</td>\n",
       "      <td>1</td>\n",
       "      <td>16.54</td>\n",
       "    </tr>\n",
       "    <tr>\n",
       "      <th>1</th>\n",
       "      <td>2</td>\n",
       "      <td>1</td>\n",
       "      <td>19.52</td>\n",
       "      <td>2</td>\n",
       "      <td>1</td>\n",
       "      <td>132</td>\n",
       "      <td>236</td>\n",
       "      <td>1</td>\n",
       "      <td>70.0</td>\n",
       "      <td>0.5</td>\n",
       "      <td>6.94</td>\n",
       "      <td>1</td>\n",
       "      <td>16.19</td>\n",
       "    </tr>\n",
       "    <tr>\n",
       "      <th>2</th>\n",
       "      <td>2</td>\n",
       "      <td>1</td>\n",
       "      <td>17.81</td>\n",
       "      <td>2</td>\n",
       "      <td>1</td>\n",
       "      <td>132</td>\n",
       "      <td>48</td>\n",
       "      <td>1</td>\n",
       "      <td>70.0</td>\n",
       "      <td>0.5</td>\n",
       "      <td>6.94</td>\n",
       "      <td>1</td>\n",
       "      <td>12.00</td>\n",
       "    </tr>\n",
       "    <tr>\n",
       "      <th>3</th>\n",
       "      <td>2</td>\n",
       "      <td>2</td>\n",
       "      <td>19.30</td>\n",
       "      <td>2</td>\n",
       "      <td>1</td>\n",
       "      <td>132</td>\n",
       "      <td>148</td>\n",
       "      <td>1</td>\n",
       "      <td>70.0</td>\n",
       "      <td>0.5</td>\n",
       "      <td>0.00</td>\n",
       "      <td>1</td>\n",
       "      <td>5.00</td>\n",
       "    </tr>\n",
       "    <tr>\n",
       "      <th>4</th>\n",
       "      <td>2</td>\n",
       "      <td>1</td>\n",
       "      <td>18.75</td>\n",
       "      <td>2</td>\n",
       "      <td>1</td>\n",
       "      <td>132</td>\n",
       "      <td>234</td>\n",
       "      <td>1</td>\n",
       "      <td>70.0</td>\n",
       "      <td>0.5</td>\n",
       "      <td>6.94</td>\n",
       "      <td>1</td>\n",
       "      <td>10.00</td>\n",
       "    </tr>\n",
       "    <tr>\n",
       "      <th>...</th>\n",
       "      <td>...</td>\n",
       "      <td>...</td>\n",
       "      <td>...</td>\n",
       "      <td>...</td>\n",
       "      <td>...</td>\n",
       "      <td>...</td>\n",
       "      <td>...</td>\n",
       "      <td>...</td>\n",
       "      <td>...</td>\n",
       "      <td>...</td>\n",
       "      <td>...</td>\n",
       "      <td>...</td>\n",
       "      <td>...</td>\n",
       "    </tr>\n",
       "    <tr>\n",
       "      <th>41197</th>\n",
       "      <td>2</td>\n",
       "      <td>1</td>\n",
       "      <td>16.94</td>\n",
       "      <td>2</td>\n",
       "      <td>1</td>\n",
       "      <td>132</td>\n",
       "      <td>164</td>\n",
       "      <td>1</td>\n",
       "      <td>70.0</td>\n",
       "      <td>0.5</td>\n",
       "      <td>6.94</td>\n",
       "      <td>1</td>\n",
       "      <td>5.00</td>\n",
       "    </tr>\n",
       "    <tr>\n",
       "      <th>41198</th>\n",
       "      <td>2</td>\n",
       "      <td>4</td>\n",
       "      <td>19.83</td>\n",
       "      <td>2</td>\n",
       "      <td>1</td>\n",
       "      <td>132</td>\n",
       "      <td>166</td>\n",
       "      <td>1</td>\n",
       "      <td>70.0</td>\n",
       "      <td>0.5</td>\n",
       "      <td>6.94</td>\n",
       "      <td>1</td>\n",
       "      <td>8.00</td>\n",
       "    </tr>\n",
       "    <tr>\n",
       "      <th>41199</th>\n",
       "      <td>2</td>\n",
       "      <td>1</td>\n",
       "      <td>17.31</td>\n",
       "      <td>2</td>\n",
       "      <td>1</td>\n",
       "      <td>132</td>\n",
       "      <td>137</td>\n",
       "      <td>1</td>\n",
       "      <td>70.0</td>\n",
       "      <td>0.5</td>\n",
       "      <td>6.94</td>\n",
       "      <td>1</td>\n",
       "      <td>8.00</td>\n",
       "    </tr>\n",
       "    <tr>\n",
       "      <th>41200</th>\n",
       "      <td>2</td>\n",
       "      <td>1</td>\n",
       "      <td>17.28</td>\n",
       "      <td>2</td>\n",
       "      <td>1</td>\n",
       "      <td>132</td>\n",
       "      <td>233</td>\n",
       "      <td>1</td>\n",
       "      <td>70.0</td>\n",
       "      <td>0.5</td>\n",
       "      <td>6.94</td>\n",
       "      <td>1</td>\n",
       "      <td>16.19</td>\n",
       "    </tr>\n",
       "    <tr>\n",
       "      <th>41201</th>\n",
       "      <td>2</td>\n",
       "      <td>1</td>\n",
       "      <td>16.82</td>\n",
       "      <td>2</td>\n",
       "      <td>1</td>\n",
       "      <td>132</td>\n",
       "      <td>170</td>\n",
       "      <td>1</td>\n",
       "      <td>70.0</td>\n",
       "      <td>0.5</td>\n",
       "      <td>6.94</td>\n",
       "      <td>1</td>\n",
       "      <td>4.13</td>\n",
       "    </tr>\n",
       "  </tbody>\n",
       "</table>\n",
       "<p>41202 rows × 13 columns</p>\n",
       "</div>"
      ],
      "text/plain": [
       "       VendorID  passenger_count  trip_distance  RatecodeID  \\\n",
       "0             2                1          17.63           2   \n",
       "1             2                1          19.52           2   \n",
       "2             2                1          17.81           2   \n",
       "3             2                2          19.30           2   \n",
       "4             2                1          18.75           2   \n",
       "...         ...              ...            ...         ...   \n",
       "41197         2                1          16.94           2   \n",
       "41198         2                4          19.83           2   \n",
       "41199         2                1          17.31           2   \n",
       "41200         2                1          17.28           2   \n",
       "41201         2                1          16.82           2   \n",
       "\n",
       "       store_and_fwd_flag  PULocationID  DOLocationID  payment_type  \\\n",
       "0                       1           132           164             1   \n",
       "1                       1           132           236             1   \n",
       "2                       1           132            48             1   \n",
       "3                       1           132           148             1   \n",
       "4                       1           132           234             1   \n",
       "...                   ...           ...           ...           ...   \n",
       "41197                   1           132           164             1   \n",
       "41198                   1           132           166             1   \n",
       "41199                   1           132           137             1   \n",
       "41200                   1           132           233             1   \n",
       "41201                   1           132           170             1   \n",
       "\n",
       "       fare_amount  mta_tax  tolls_amount  improvement_surcharge  tip_amount  \n",
       "0             70.0      0.5          6.94                      1       16.54  \n",
       "1             70.0      0.5          6.94                      1       16.19  \n",
       "2             70.0      0.5          6.94                      1       12.00  \n",
       "3             70.0      0.5          0.00                      1        5.00  \n",
       "4             70.0      0.5          6.94                      1       10.00  \n",
       "...            ...      ...           ...                    ...         ...  \n",
       "41197         70.0      0.5          6.94                      1        5.00  \n",
       "41198         70.0      0.5          6.94                      1        8.00  \n",
       "41199         70.0      0.5          6.94                      1        8.00  \n",
       "41200         70.0      0.5          6.94                      1       16.19  \n",
       "41201         70.0      0.5          6.94                      1        4.13  \n",
       "\n",
       "[41202 rows x 13 columns]"
      ]
     },
     "execution_count": 2,
     "metadata": {},
     "output_type": "execute_result"
    }
   ],
   "source": [
    "# read the input data\n",
    "# url = 'https://cf-courses-data.s3.us.cloud-object-storage.appdomain.cloud/pu9kbeSaAtRZ7RxdJKX9_A/yellow-tripdata.csv'\n",
    "raw_data = pd.read_csv('yellow_tripdata.csv')\n",
    "raw_data"
   ]
  },
  {
   "cell_type": "markdown",
   "id": "380dc2ef-2ebc-4ac5-beea-550078cac00b",
   "metadata": {},
   "source": [
    "Each row in the dataset represents a taxi trip. As shown above, each row has 13 variables. One of the variables is `tip_amount` which will be the target variable. Your objective will be to train a model that uses the other variables to predict the value of the `tip_amount` variable.\n"
   ]
  },
  {
   "cell_type": "markdown",
   "id": "dbd458b6-31f1-4048-8c73-5891f28fe8a4",
   "metadata": {},
   "source": [
    "To understand the dataset a little better, let us plot the correlation of the target variable against the input variables.\n"
   ]
  },
  {
   "cell_type": "code",
   "execution_count": 3,
   "id": "1ae94d9a-5af1-4797-b4d9-6aa6ee72cc72",
   "metadata": {},
   "outputs": [
    {
     "data": {
      "text/plain": [
       "<Axes: >"
      ]
     },
     "execution_count": 3,
     "metadata": {},
     "output_type": "execute_result"
    },
    {
     "data": {
      "image/png": "[encoded data removed]",
      "text/plain": [
       "<Figure size 1000x600 with 1 Axes>"
      ]
     },
     "metadata": {},
     "output_type": "display_data"
    }
   ],
   "source": [
    "correlation_values = raw_data.corr()['tip_amount'].drop('tip_amount')\n",
    "correlation_values.plot(kind='barh', figsize=(10, 6))"
   ]
  },
  {
   "cell_type": "markdown",
   "id": "c035f283-8cef-44b0-89be-e227b343d55d",
   "metadata": {},
   "source": [
    "This shows us that the input features `payment_type`, `VendorID`, `store_and_fwd_flag` and `improvement_surcharge` have little to no correlation with the target variable.\n"
   ]
  },
  {
   "cell_type": "markdown",
   "id": "24bfe9fe-ab32-41b5-a8f9-2467354263c0",
   "metadata": {},
   "source": [
    "<div id=\"dataset_preprocessing\">\n",
    "    <h2>Dataset Preprocessing</h2>\n",
    "</div>\n"
   ]
  },
  {
   "cell_type": "markdown",
   "id": "4dea83c2-16ad-40f5-8ba7-9ca85c6a8e37",
   "metadata": {},
   "source": [
    "You will now prepare the data for training by applying normalization to the input features.\n"
   ]
  },
  {
   "cell_type": "code",
   "execution_count": 4,
   "id": "e5bc6d34-00f7-496e-b211-7ee0fed702d3",
   "metadata": {},
   "outputs": [],
   "source": [
    "# extract the labels from the dataframe\n",
    "y = raw_data[['tip_amount']].values.astype('float32')\n",
    "\n",
    "# drop the target variable from the feature matrix\n",
    "proc_data = raw_data.drop(['tip_amount'], axis=1)\n",
    "\n",
    "# get the feature matrix used for training\n",
    "X = proc_data.values\n",
    "\n",
    "# normalize the feature matrix\n",
    "X = normalize(X, axis=1, norm='l1', copy=False)"
   ]
  },
  {
   "cell_type": "markdown",
   "id": "863d0413-6a79-4b11-9344-f63e1e253350",
   "metadata": {},
   "source": [
    "<div id=\"dataset_split\">\n",
    "    <h2>Dataset Train/Test Split</h2>\n",
    "</div>\n"
   ]
  },
  {
   "cell_type": "markdown",
   "id": "0c8c7d6f-e728-4eb3-8016-acf2c29f7a73",
   "metadata": {},
   "source": [
    "Now that the dataset is ready for building the classification models, you need to first divide the pre-processed dataset into a subset to be used for training the model (the train set) and a subset to be used for evaluating the quality of the model (the test set).\n"
   ]
  },
  {
   "cell_type": "code",
   "execution_count": 6,
   "id": "32e2f9de-d2af-4195-a11f-718119bc34a0",
   "metadata": {},
   "outputs": [],
   "source": [
    "X_train, X_test, y_train, y_test = train_test_split(X, y, test_size=0.3, random_state=42)"
   ]
  },
  {
   "cell_type": "markdown",
   "id": "acc5a5cc-91b1-4d42-b20d-71480aa21b09",
   "metadata": {},
   "source": [
    "<div id=\"dt_sklearn\">\n",
    "    <h2>Build a Decision Tree Regressor model with Scikit-Learn</h2>\n",
    "</div>\n"
   ]
  },
  {
   "cell_type": "markdown",
   "id": "e4a69614-7afc-4c76-b7da-3140a6062f79",
   "metadata": {},
   "source": [
    "Regression Trees are implemented using `DecisionTreeRegressor`.\n",
    "\n",
    "The important parameters of the model are:\n",
    "\n",
    "`criterion`: The function used to measure error, we use 'squared_error'.\n",
    "\n",
    "`max_depth` - The maximum depth the tree is allowed to take; we use 8.\n"
   ]
  },
  {
   "cell_type": "code",
   "execution_count": 16,
   "id": "626e406b-d60d-4973-afca-d96440930f09",
   "metadata": {},
   "outputs": [],
   "source": [
    "# import the Decision Tree Regression Model from scikit-learn\n",
    "from sklearn.tree import DecisionTreeRegressor\n",
    "\n",
    "# for reproducible output across multiple function calls, set random_state to a given integer value\n",
    "dt_reg = DecisionTreeRegressor(criterion = 'squared_error',\n",
    "                               max_depth=8, \n",
    "                               random_state=35)"
   ]
  },
  {
   "cell_type": "markdown",
   "id": "b5a89975-ad9e-41a5-a4a2-604920acf5b3",
   "metadata": {},
   "source": [
    "Now lets train our model using the `fit` method on the `DecisionTreeRegressor` object providing our training data\n"
   ]
  },
  {
   "cell_type": "code",
   "execution_count": 17,
   "id": "7ba24e92-62bd-4c05-a4ab-a4ca2cf11b8d",
   "metadata": {},
   "outputs": [
    {
     "data": {
      "text/html": [
       "<style>#sk-container-id-4 {color: black;}#sk-container-id-4 pre{padding: 0;}#sk-container-id-4 div.sk-toggleable {background-color: white;}#sk-container-id-4 label.sk-toggleable__label {cursor: pointer;display: block;width: 100%;margin-bottom: 0;padding: 0.3em;box-sizing: border-box;text-align: center;}#sk-container-id-4 label.sk-toggleable__label-arrow:before {content: \"▸\";float: left;margin-right: 0.25em;color: #696969;}#sk-container-id-4 label.sk-toggleable__label-arrow:hover:before {color: black;}#sk-container-id-4 div.sk-estimator:hover label.sk-toggleable__label-arrow:before {color: black;}#sk-container-id-4 div.sk-toggleable__content {max-height: 0;max-width: 0;overflow: hidden;text-align: left;background-color: #f0f8ff;}#sk-container-id-4 div.sk-toggleable__content pre {margin: 0.2em;color: black;border-radius: 0.25em;background-color: #f0f8ff;}#sk-container-id-4 input.sk-toggleable__control:checked~div.sk-toggleable__content {max-height: 200px;max-width: 100%;overflow: auto;}#sk-container-id-4 input.sk-toggleable__control:checked~label.sk-toggleable__label-arrow:before {content: \"▾\";}#sk-container-id-4 div.sk-estimator input.sk-toggleable__control:checked~label.sk-toggleable__label {background-color: #d4ebff;}#sk-container-id-4 div.sk-label input.sk-toggleable__control:checked~label.sk-toggleable__label {background-color: #d4ebff;}#sk-container-id-4 input.sk-hidden--visually {border: 0;clip: rect(1px 1px 1px 1px);clip: rect(1px, 1px, 1px, 1px);height: 1px;margin: -1px;overflow: hidden;padding: 0;position: absolute;width: 1px;}#sk-container-id-4 div.sk-estimator {font-family: monospace;background-color: #f0f8ff;border: 1px dotted black;border-radius: 0.25em;box-sizing: border-box;margin-bottom: 0.5em;}#sk-container-id-4 div.sk-estimator:hover {background-color: #d4ebff;}#sk-container-id-4 div.sk-parallel-item::after {content: \"\";width: 100%;border-bottom: 1px solid gray;flex-grow: 1;}#sk-container-id-4 div.sk-label:hover label.sk-toggleable__label {background-color: #d4ebff;}#sk-container-id-4 div.sk-serial::before {content: \"\";position: absolute;border-left: 1px solid gray;box-sizing: border-box;top: 0;bottom: 0;left: 50%;z-index: 0;}#sk-container-id-4 div.sk-serial {display: flex;flex-direction: column;align-items: center;background-color: white;padding-right: 0.2em;padding-left: 0.2em;position: relative;}#sk-container-id-4 div.sk-item {position: relative;z-index: 1;}#sk-container-id-4 div.sk-parallel {display: flex;align-items: stretch;justify-content: center;background-color: white;position: relative;}#sk-container-id-4 div.sk-item::before, #sk-container-id-4 div.sk-parallel-item::before {content: \"\";position: absolute;border-left: 1px solid gray;box-sizing: border-box;top: 0;bottom: 0;left: 50%;z-index: -1;}#sk-container-id-4 div.sk-parallel-item {display: flex;flex-direction: column;z-index: 1;position: relative;background-color: white;}#sk-container-id-4 div.sk-parallel-item:first-child::after {align-self: flex-end;width: 50%;}#sk-container-id-4 div.sk-parallel-item:last-child::after {align-self: flex-start;width: 50%;}#sk-container-id-4 div.sk-parallel-item:only-child::after {width: 0;}#sk-container-id-4 div.sk-dashed-wrapped {border: 1px dashed gray;margin: 0 0.4em 0.5em 0.4em;box-sizing: border-box;padding-bottom: 0.4em;background-color: white;}#sk-container-id-4 div.sk-label label {font-family: monospace;font-weight: bold;display: inline-block;line-height: 1.2em;}#sk-container-id-4 div.sk-label-container {text-align: center;}#sk-container-id-4 div.sk-container {/* jupyter's `normalize.less` sets `[hidden] { display: none; }` but bootstrap.min.css set `[hidden] { display: none !important; }` so we also need the `!important` here to be able to override the default hidden behavior on the sphinx rendered scikit-learn.org. See: https://github.com/scikit-learn/scikit-learn/issues/21755 */display: inline-block !important;position: relative;}#sk-container-id-4 div.sk-text-repr-fallback {display: none;}</style><div id=\"sk-container-id-4\" class=\"sk-top-container\"><div class=\"sk-text-repr-fallback\"><pre>DecisionTreeRegressor(max_depth=8, random_state=35)</pre><b>In a Jupyter environment, please rerun this cell to show the HTML representation or trust the notebook. <br />On GitHub, the HTML representation is unable to render, please try loading this page with nbviewer.org.</b></div><div class=\"sk-container\" hidden><div class=\"sk-item\"><div class=\"sk-estimator sk-toggleable\"><input class=\"sk-toggleable__control sk-hidden--visually\" id=\"sk-estimator-id-4\" type=\"checkbox\" checked><label for=\"sk-estimator-id-4\" class=\"sk-toggleable__label sk-toggleable__label-arrow\">DecisionTreeRegressor</label><div class=\"sk-toggleable__content\"><pre>DecisionTreeRegressor(max_depth=8, random_state=35)</pre></div></div></div></div></div>"
      ],
      "text/plain": [
       "DecisionTreeRegressor(max_depth=8, random_state=35)"
      ]
     },
     "execution_count": 17,
     "metadata": {},
     "output_type": "execute_result"
    }
   ],
   "source": [
    "dt_reg.fit(X_train, y_train)"
   ]
  },
  {
   "cell_type": "markdown",
   "id": "70e5b4e5-6197-4204-9208-61d296a64b07",
   "metadata": {},
   "source": [
    "<div id=\"dt_sklearn_snapml\">\n",
    "    <h2>Evaluate the Scikit-Learn and Snap ML Decision Tree Regressor Models</h2>\n",
    "</div>\n"
   ]
  },
  {
   "cell_type": "markdown",
   "id": "ed42ddf8-fb21-47a7-bacc-e05ebabbbdf7",
   "metadata": {},
   "source": [
    "To evaluate our dataset we will use the `score` method of the `DecisionTreeRegressor` object providing our testing data, this number is the $R^2$ value which indicates the coefficient of determination. We will also evaluate the Mean Squared Error $(MSE)$ of the regression output with respect to the test set target values. High $R^2$ and low $MSE$ values are expected from a good regression model.\n"
   ]
  },
  {
   "cell_type": "code",
   "execution_count": 15,
   "id": "d1784ea2-cb13-4d0d-a67a-03987b654c6d",
   "metadata": {},
   "outputs": [
    {
     "name": "stdout",
     "output_type": "stream",
     "text": [
      "MSE score : 26.875\n",
      "R^2 score : -0.064\n"
     ]
    }
   ],
   "source": [
    "# run inference using the sklearn model\n",
    "y_pred = dt_reg.predict(X_test)\n",
    "\n",
    "# evaluate mean squared error on the test dataset\n",
    "mse_score = mean_squared_error(y_test, y_pred)\n",
    "print('MSE score : {0:.3f}'.format(mse_score))\n",
    "\n",
    "r2_score = dt_reg.score(X_test,y_test)\n",
    "print('R^2 score : {0:.3f}'.format(r2_score))"
   ]
  },
  {
   "cell_type": "markdown",
   "id": "87dc3e30-bcd1-4062-8fd4-2f44e062d7ae",
   "metadata": {},
   "source": [
    "## Practice\n"
   ]
  },
  {
   "cell_type": "markdown",
   "id": "77e289ee-4637-46a2-8dc3-0e86fc363bd3",
   "metadata": {},
   "source": [
    "Q1. What if we change the max_depth to 12? How would the $MSE$ and $R^2$ be affected? \n"
   ]
  },
  {
   "cell_type": "markdown",
   "id": "576a95a9-e803-4492-beea-d6322ada1043",
   "metadata": {},
   "source": [
    "<details><summary>Click here for the solution</summary>\n",
    "MSE is noted to be increased by increasing the max_depth of the tree. This may be because of the model having excessive parameters due to which it overfits to the training data, making the performance on the testing data poorer. Another important observation would be that the model gives a <b>negative</b> value of $R^2$. This again indicates that the prediction model created does a very poor job of predicting the values on a test set.\n",
    "</details>\n"
   ]
  },
  {
   "cell_type": "markdown",
   "id": "d6cca6f0-0329-431f-b1cf-36254a0ce799",
   "metadata": {},
   "source": [
    "Q2. Identify the top 3 features with the most effect on the `tip_amount`.\n"
   ]
  },
  {
   "cell_type": "code",
   "execution_count": 19,
   "id": "298612e5-c46a-4167-9cd4-4c75cc0aabe6",
   "metadata": {},
   "outputs": [
    {
     "data": {
      "text/plain": [
       "fare_amount      0.200638\n",
       "tolls_amount     0.116172\n",
       "trip_distance    0.101819\n",
       "Name: tip_amount, dtype: float64"
      ]
     },
     "execution_count": 19,
     "metadata": {},
     "output_type": "execute_result"
    }
   ],
   "source": [
    "# your code here\n",
    "correlation_values = raw_data.corr()['tip_amount'].drop('tip_amount')\n",
    "abs(correlation_values).sort_values(ascending=False)[:3]"
   ]
  },
  {
   "cell_type": "markdown",
   "id": "3e8f669a-ecba-4af2-bcba-8d290b9fb960",
   "metadata": {},
   "source": [
    "<details><summary>Click here for the solution</summary>\n",
    "\n",
    "```python    \n",
    "correlation_values = raw_data.corr()['tip_amount'].drop('tip_amount')\n",
    "abs(correlation_values).sort_values(ascending=False)[:3]\n",
    "\n",
    "```\n",
    "<br>\n",
    "As is evident from the output, Fare amount, toll amount and trip distance are the top features affecting the tip amount, which make logical sense.\n",
    "</details>\n"
   ]
  },
  {
   "cell_type": "markdown",
   "id": "b4c32d52-c3a4-4a1e-ba0d-9f91a2965169",
   "metadata": {},
   "source": [
    "Q3. Since we identified 4 features which are not correlated with the target variable, try removing these variables from the input set and see the effect on the $MSE$ and $R^2$ value.\n"
   ]
  },
  {
   "cell_type": "code",
   "execution_count": 25,
   "id": "e20d2609-c42c-4b40-9873-ba9c7c218008",
   "metadata": {},
   "outputs": [
    {
     "name": "stdout",
     "output_type": "stream",
     "text": [
      "MSE score : 24.063\n",
      "R^2 score : 0.047\n"
     ]
    }
   ],
   "source": [
    "# your code here\n",
    "\n",
    "# raw_data = raw_data.drop(['payment_type', 'VendorID', 'store_and_fwd_flag', 'improvement_surcharge'], axis=1)\n",
    "\n",
    "y = raw_data[['tip_amount']].values.astype('float32')\n",
    "\n",
    "# drop the target variable from the feature matrix\n",
    "proc_data = raw_data.drop(['tip_amount'], axis=1)\n",
    "\n",
    "# get the feature matrix used for training\n",
    "X = proc_data.values\n",
    "\n",
    "# normalize the feature matrix\n",
    "X = normalize(X, axis=1, norm='l1', copy=False)\n",
    "\n",
    "X_train, X_test, y_train, y_test = train_test_split(X, y, test_size=0.3, random_state=42)\n",
    "dt_reg = DecisionTreeRegressor(criterion = 'squared_error',\n",
    "                               max_depth=4, \n",
    "                               random_state=35)\n",
    "\n",
    "dt_reg.fit(X,y)\n",
    "\n",
    "# run inference using the sklearn model\n",
    "y_pred = dt_reg.predict(X_test)\n",
    "\n",
    "# evaluate mean squared error on the test dataset\n",
    "mse_score = mean_squared_error(y_test, y_pred)\n",
    "print('MSE score : {0:.3f}'.format(mse_score))\n",
    "\n",
    "r2_score = dt_reg.score(X_test,y_test)\n",
    "print('R^2 score : {0:.3f}'.format(r2_score))\n"
   ]
  },
  {
   "cell_type": "markdown",
   "id": "afcaefb0-8a51-4685-be2c-e59f3baab713",
   "metadata": {},
   "source": [
    "<details><summary>Click here for the solution</summary>\n",
    "\n",
    "```python\n",
    "raw_data = raw_data.drop(['payment_type', 'VendorID', 'store_and_fwd_flag', 'improvement_surcharge'], axis=1)\n",
    "\n",
    "# Execute all the cells of the lab after modifying the raw data.\n",
    "```\n",
    "<br>\n",
    "The MSE and $R^2$ values does not change significantly, showing that there is minimal affect of these parameters on the final regression output.\n",
    "</details>\n"
   ]
  },
  {
   "cell_type": "markdown",
   "id": "cea99029-381c-49f6-b7ec-efb84293eecf",
   "metadata": {},
   "source": [
    "Q4. Check the effect of **decreasing** the `max_depth` parameter to 4 on the $MSE$ and $R^2$ values.\n"
   ]
  },
  {
   "cell_type": "markdown",
   "id": "c3e04aad-519c-4ae4-a0ae-3b2a04743567",
   "metadata": {},
   "source": [
    "<details><summary>Click here for the solution</summary>\n",
    "You will note that the MSE value decreases and $R^2$ value increases, meaning that the choice of `max_depth=4` may be more suited for this dataset.\n",
    "</details>\n"
   ]
  },
  {
   "cell_type": "markdown",
   "id": "e2eda30d-8fab-4e13-97c8-16386f686b21",
   "metadata": {},
   "source": [
    "### Congratulations! You're ready to move on to your next lesson!\n",
    "\n",
    "## Author\n",
    "<a href=\"https://www.linkedin.com/in/abhishek-gagneja-23051987/\" target=\"_blank\">Abhishek Gagneja</a>\n",
    "\n",
    "### Other Contributors\n",
    "<a href=\"https://www.linkedin.com/in/jpgrossman/\" target=\"_blank\">Jeff Grossman</a>  \n",
    " \n",
    "<h3 align=\"center\"> © IBM Corporation. All rights reserved. <h3/>\n",
    "\n",
    " \n",
    "<!--\n",
    "## Change Log\n",
    " \n",
    " \n",
    "|  Date (YYYY-MM-DD) |  Version       | Changed By     | Change Description                  |\n",
    "|---|---|---|---|\n",
    "| 2024-10-31         | 3.0            | Abhishek Gagneja  | Rewrite                             |\n",
    "| 2020-11-03         | 2.1            | Lakshmi        | Made changes in URL                 |\n",
    "| 2020-11-03         | 2.1            | Lakshmi        | Made changes in URL                 |\n",
    "| 2020-08-27         | 2.0            | Lavanya        | Moved lab to course repo in GitLab  |\n",
    "|   |   |   |   |\n"
   ]
  }
 ],
 "metadata": {
  "kernelspec": {
   "display_name": ".venv",
   "language": "python",
   "name": "python3"
  },
  "language_info": {
   "codemirror_mode": {
    "name": "ipython",
    "version": 3
   },
   "file_extension": ".py",
   "mimetype": "text/x-python",
   "name": "python",
   "nbconvert_exporter": "python",
   "pygments_lexer": "ipython3",
   "version": "3.8.10"
  },
  "prev_pub_hash": "ab2854b257e1d527cd6fba9ac0a1dde9b9e0086bf9dfde2c193104a524fbb30e"
 },
 "nbformat": 4,
 "nbformat_minor": 4
}
