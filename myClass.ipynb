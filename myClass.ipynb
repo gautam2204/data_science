{
 "cells": [
  {
   "cell_type": "code",
   "execution_count": 14,
   "metadata": {},
   "outputs": [
    {
     "name": "stdout",
     "output_type": "stream",
     "text": [
      "1\n",
      "blue\n",
      "10\n",
      "blue\n"
     ]
    }
   ],
   "source": [
    "class Circle():\n",
    "    def __init__(self,radius=3,color='blue'):\n",
    "        self.radius = radius\n",
    "        self.color=color\n",
    "\n",
    "    def printCircle(self):\n",
    "        print(self.radius)\n",
    "        print(self.color)\n",
    "\n",
    "obj = Circle(1)\n",
    "obj.printCircle()\n",
    "obj.radius=10\n",
    "obj.printCircle()\n"
   ]
  }
 ],
 "metadata": {
  "kernelspec": {
   "display_name": ".venv",
   "language": "python",
   "name": "python3"
  },
  "language_info": {
   "codemirror_mode": {
    "name": "ipython",
    "version": 3
   },
   "file_extension": ".py",
   "mimetype": "text/x-python",
   "name": "python",
   "nbconvert_exporter": "python",
   "pygments_lexer": "ipython3",
   "version": "3.8.10"
  }
 },
 "nbformat": 4,
 "nbformat_minor": 2
}
